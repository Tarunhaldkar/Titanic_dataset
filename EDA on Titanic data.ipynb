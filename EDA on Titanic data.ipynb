{
 "cells": [
  {
   "cell_type": "code",
   "execution_count": 1,
   "id": "f2fa7786",
   "metadata": {},
   "outputs": [],
   "source": [
    "import numpy as np\n",
    "import pandas as pd\n",
    "import seaborn as sns\n",
    "import matplotlib.pyplot as plt\n",
    "import warnings\n",
    "warnings.filterwarnings('ignore')"
   ]
  },
  {
   "cell_type": "code",
   "execution_count": 2,
   "id": "39b4e1fe",
   "metadata": {},
   "outputs": [],
   "source": [
    "data = pd.read_csv(\"C:/Users/tarun/Weekdays 10;AM BAtch python/Class.ipynb/Titanic dataset.csv\")"
   ]
  },
  {
   "cell_type": "code",
   "execution_count": 3,
   "id": "9ed1e762",
   "metadata": {},
   "outputs": [
    {
     "data": {
      "text/html": [
       "<div>\n",
       "<style scoped>\n",
       "    .dataframe tbody tr th:only-of-type {\n",
       "        vertical-align: middle;\n",
       "    }\n",
       "\n",
       "    .dataframe tbody tr th {\n",
       "        vertical-align: top;\n",
       "    }\n",
       "\n",
       "    .dataframe thead th {\n",
       "        text-align: right;\n",
       "    }\n",
       "</style>\n",
       "<table border=\"1\" class=\"dataframe\">\n",
       "  <thead>\n",
       "    <tr style=\"text-align: right;\">\n",
       "      <th></th>\n",
       "      <th>PassengerId</th>\n",
       "      <th>Survived</th>\n",
       "      <th>Pclass</th>\n",
       "      <th>Name</th>\n",
       "      <th>Sex</th>\n",
       "      <th>Age</th>\n",
       "      <th>SibSp</th>\n",
       "      <th>Parch</th>\n",
       "      <th>Ticket</th>\n",
       "      <th>Fare</th>\n",
       "      <th>Cabin</th>\n",
       "      <th>Embarked</th>\n",
       "    </tr>\n",
       "  </thead>\n",
       "  <tbody>\n",
       "    <tr>\n",
       "      <th>0</th>\n",
       "      <td>1</td>\n",
       "      <td>0</td>\n",
       "      <td>3</td>\n",
       "      <td>Braund, Mr. Owen Harris</td>\n",
       "      <td>male</td>\n",
       "      <td>22.0</td>\n",
       "      <td>1</td>\n",
       "      <td>0</td>\n",
       "      <td>A/5 21171</td>\n",
       "      <td>7.2500</td>\n",
       "      <td>NaN</td>\n",
       "      <td>S</td>\n",
       "    </tr>\n",
       "    <tr>\n",
       "      <th>1</th>\n",
       "      <td>2</td>\n",
       "      <td>1</td>\n",
       "      <td>1</td>\n",
       "      <td>Cumings, Mrs. John Bradley (Florence Briggs Th...</td>\n",
       "      <td>female</td>\n",
       "      <td>38.0</td>\n",
       "      <td>1</td>\n",
       "      <td>0</td>\n",
       "      <td>PC 17599</td>\n",
       "      <td>71.2833</td>\n",
       "      <td>C85</td>\n",
       "      <td>C</td>\n",
       "    </tr>\n",
       "    <tr>\n",
       "      <th>2</th>\n",
       "      <td>3</td>\n",
       "      <td>1</td>\n",
       "      <td>3</td>\n",
       "      <td>Heikkinen, Miss. Laina</td>\n",
       "      <td>female</td>\n",
       "      <td>26.0</td>\n",
       "      <td>0</td>\n",
       "      <td>0</td>\n",
       "      <td>STON/O2. 3101282</td>\n",
       "      <td>7.9250</td>\n",
       "      <td>NaN</td>\n",
       "      <td>S</td>\n",
       "    </tr>\n",
       "    <tr>\n",
       "      <th>3</th>\n",
       "      <td>4</td>\n",
       "      <td>1</td>\n",
       "      <td>1</td>\n",
       "      <td>Futrelle, Mrs. Jacques Heath (Lily May Peel)</td>\n",
       "      <td>female</td>\n",
       "      <td>35.0</td>\n",
       "      <td>1</td>\n",
       "      <td>0</td>\n",
       "      <td>113803</td>\n",
       "      <td>53.1000</td>\n",
       "      <td>C123</td>\n",
       "      <td>S</td>\n",
       "    </tr>\n",
       "    <tr>\n",
       "      <th>4</th>\n",
       "      <td>5</td>\n",
       "      <td>0</td>\n",
       "      <td>3</td>\n",
       "      <td>Allen, Mr. William Henry</td>\n",
       "      <td>male</td>\n",
       "      <td>35.0</td>\n",
       "      <td>0</td>\n",
       "      <td>0</td>\n",
       "      <td>373450</td>\n",
       "      <td>8.0500</td>\n",
       "      <td>NaN</td>\n",
       "      <td>S</td>\n",
       "    </tr>\n",
       "  </tbody>\n",
       "</table>\n",
       "</div>"
      ],
      "text/plain": [
       "   PassengerId  Survived  Pclass  \\\n",
       "0            1         0       3   \n",
       "1            2         1       1   \n",
       "2            3         1       3   \n",
       "3            4         1       1   \n",
       "4            5         0       3   \n",
       "\n",
       "                                                Name     Sex   Age  SibSp  \\\n",
       "0                            Braund, Mr. Owen Harris    male  22.0      1   \n",
       "1  Cumings, Mrs. John Bradley (Florence Briggs Th...  female  38.0      1   \n",
       "2                             Heikkinen, Miss. Laina  female  26.0      0   \n",
       "3       Futrelle, Mrs. Jacques Heath (Lily May Peel)  female  35.0      1   \n",
       "4                           Allen, Mr. William Henry    male  35.0      0   \n",
       "\n",
       "   Parch            Ticket     Fare Cabin Embarked  \n",
       "0      0         A/5 21171   7.2500   NaN        S  \n",
       "1      0          PC 17599  71.2833   C85        C  \n",
       "2      0  STON/O2. 3101282   7.9250   NaN        S  \n",
       "3      0            113803  53.1000  C123        S  \n",
       "4      0            373450   8.0500   NaN        S  "
      ]
     },
     "execution_count": 3,
     "metadata": {},
     "output_type": "execute_result"
    }
   ],
   "source": [
    "data.head()"
   ]
  },
  {
   "cell_type": "markdown",
   "id": "27e04d5d",
   "metadata": {},
   "source": [
    "# Explore the dataset"
   ]
  },
  {
   "cell_type": "code",
   "execution_count": 5,
   "id": "e93390f1",
   "metadata": {},
   "outputs": [
    {
     "name": "stdout",
     "output_type": "stream",
     "text": [
      "Rows:  891\n",
      "columns:  12\n"
     ]
    }
   ],
   "source": [
    "data.shape\n",
    "print('Rows: ',data.shape[0])\n",
    "print('columns: ',data.shape[1])"
   ]
  },
  {
   "cell_type": "code",
   "execution_count": 6,
   "id": "3b05dc50",
   "metadata": {
    "scrolled": false
   },
   "outputs": [
    {
     "name": "stdout",
     "output_type": "stream",
     "text": [
      "<class 'pandas.core.frame.DataFrame'>\n",
      "RangeIndex: 891 entries, 0 to 890\n",
      "Data columns (total 12 columns):\n",
      " #   Column       Non-Null Count  Dtype  \n",
      "---  ------       --------------  -----  \n",
      " 0   PassengerId  891 non-null    int64  \n",
      " 1   Survived     891 non-null    int64  \n",
      " 2   Pclass       891 non-null    int64  \n",
      " 3   Name         891 non-null    object \n",
      " 4   Sex          891 non-null    object \n",
      " 5   Age          714 non-null    float64\n",
      " 6   SibSp        891 non-null    int64  \n",
      " 7   Parch        891 non-null    int64  \n",
      " 8   Ticket       891 non-null    object \n",
      " 9   Fare         891 non-null    float64\n",
      " 10  Cabin        204 non-null    object \n",
      " 11  Embarked     889 non-null    object \n",
      "dtypes: float64(2), int64(5), object(5)\n",
      "memory usage: 83.7+ KB\n"
     ]
    }
   ],
   "source": [
    "data.info()"
   ]
  },
  {
   "cell_type": "raw",
   "id": "bb210304",
   "metadata": {},
   "source": [
    "HEre we can see that there are missing values in Embarked ,cabin,Age"
   ]
  },
  {
   "cell_type": "code",
   "execution_count": 7,
   "id": "c90bcf65",
   "metadata": {},
   "outputs": [
    {
     "data": {
      "text/html": [
       "<div>\n",
       "<style scoped>\n",
       "    .dataframe tbody tr th:only-of-type {\n",
       "        vertical-align: middle;\n",
       "    }\n",
       "\n",
       "    .dataframe tbody tr th {\n",
       "        vertical-align: top;\n",
       "    }\n",
       "\n",
       "    .dataframe thead th {\n",
       "        text-align: right;\n",
       "    }\n",
       "</style>\n",
       "<table border=\"1\" class=\"dataframe\">\n",
       "  <thead>\n",
       "    <tr style=\"text-align: right;\">\n",
       "      <th></th>\n",
       "      <th>count</th>\n",
       "      <th>mean</th>\n",
       "      <th>std</th>\n",
       "      <th>min</th>\n",
       "      <th>25%</th>\n",
       "      <th>50%</th>\n",
       "      <th>75%</th>\n",
       "      <th>max</th>\n",
       "    </tr>\n",
       "  </thead>\n",
       "  <tbody>\n",
       "    <tr>\n",
       "      <th>PassengerId</th>\n",
       "      <td>891.0</td>\n",
       "      <td>446.000000</td>\n",
       "      <td>257.353842</td>\n",
       "      <td>1.00</td>\n",
       "      <td>223.5000</td>\n",
       "      <td>446.0000</td>\n",
       "      <td>668.5</td>\n",
       "      <td>891.0000</td>\n",
       "    </tr>\n",
       "    <tr>\n",
       "      <th>Survived</th>\n",
       "      <td>891.0</td>\n",
       "      <td>0.383838</td>\n",
       "      <td>0.486592</td>\n",
       "      <td>0.00</td>\n",
       "      <td>0.0000</td>\n",
       "      <td>0.0000</td>\n",
       "      <td>1.0</td>\n",
       "      <td>1.0000</td>\n",
       "    </tr>\n",
       "    <tr>\n",
       "      <th>Pclass</th>\n",
       "      <td>891.0</td>\n",
       "      <td>2.308642</td>\n",
       "      <td>0.836071</td>\n",
       "      <td>1.00</td>\n",
       "      <td>2.0000</td>\n",
       "      <td>3.0000</td>\n",
       "      <td>3.0</td>\n",
       "      <td>3.0000</td>\n",
       "    </tr>\n",
       "    <tr>\n",
       "      <th>Age</th>\n",
       "      <td>714.0</td>\n",
       "      <td>29.699118</td>\n",
       "      <td>14.526497</td>\n",
       "      <td>0.42</td>\n",
       "      <td>20.1250</td>\n",
       "      <td>28.0000</td>\n",
       "      <td>38.0</td>\n",
       "      <td>80.0000</td>\n",
       "    </tr>\n",
       "    <tr>\n",
       "      <th>SibSp</th>\n",
       "      <td>891.0</td>\n",
       "      <td>0.523008</td>\n",
       "      <td>1.102743</td>\n",
       "      <td>0.00</td>\n",
       "      <td>0.0000</td>\n",
       "      <td>0.0000</td>\n",
       "      <td>1.0</td>\n",
       "      <td>8.0000</td>\n",
       "    </tr>\n",
       "    <tr>\n",
       "      <th>Parch</th>\n",
       "      <td>891.0</td>\n",
       "      <td>0.381594</td>\n",
       "      <td>0.806057</td>\n",
       "      <td>0.00</td>\n",
       "      <td>0.0000</td>\n",
       "      <td>0.0000</td>\n",
       "      <td>0.0</td>\n",
       "      <td>6.0000</td>\n",
       "    </tr>\n",
       "    <tr>\n",
       "      <th>Fare</th>\n",
       "      <td>891.0</td>\n",
       "      <td>32.204208</td>\n",
       "      <td>49.693429</td>\n",
       "      <td>0.00</td>\n",
       "      <td>7.9104</td>\n",
       "      <td>14.4542</td>\n",
       "      <td>31.0</td>\n",
       "      <td>512.3292</td>\n",
       "    </tr>\n",
       "  </tbody>\n",
       "</table>\n",
       "</div>"
      ],
      "text/plain": [
       "             count        mean         std   min       25%       50%    75%  \\\n",
       "PassengerId  891.0  446.000000  257.353842  1.00  223.5000  446.0000  668.5   \n",
       "Survived     891.0    0.383838    0.486592  0.00    0.0000    0.0000    1.0   \n",
       "Pclass       891.0    2.308642    0.836071  1.00    2.0000    3.0000    3.0   \n",
       "Age          714.0   29.699118   14.526497  0.42   20.1250   28.0000   38.0   \n",
       "SibSp        891.0    0.523008    1.102743  0.00    0.0000    0.0000    1.0   \n",
       "Parch        891.0    0.381594    0.806057  0.00    0.0000    0.0000    0.0   \n",
       "Fare         891.0   32.204208   49.693429  0.00    7.9104   14.4542   31.0   \n",
       "\n",
       "                  max  \n",
       "PassengerId  891.0000  \n",
       "Survived       1.0000  \n",
       "Pclass         3.0000  \n",
       "Age           80.0000  \n",
       "SibSp          8.0000  \n",
       "Parch          6.0000  \n",
       "Fare         512.3292  "
      ]
     },
     "execution_count": 7,
     "metadata": {},
     "output_type": "execute_result"
    }
   ],
   "source": [
    "data.describe().T"
   ]
  },
  {
   "cell_type": "raw",
   "id": "c3497324",
   "metadata": {},
   "source": [
    "Here there are possibilities of outliers in Age And Fare"
   ]
  },
  {
   "cell_type": "code",
   "execution_count": 8,
   "id": "d9d875f7",
   "metadata": {},
   "outputs": [
    {
     "data": {
      "text/html": [
       "<div>\n",
       "<style scoped>\n",
       "    .dataframe tbody tr th:only-of-type {\n",
       "        vertical-align: middle;\n",
       "    }\n",
       "\n",
       "    .dataframe tbody tr th {\n",
       "        vertical-align: top;\n",
       "    }\n",
       "\n",
       "    .dataframe thead th {\n",
       "        text-align: right;\n",
       "    }\n",
       "</style>\n",
       "<table border=\"1\" class=\"dataframe\">\n",
       "  <thead>\n",
       "    <tr style=\"text-align: right;\">\n",
       "      <th></th>\n",
       "      <th>count</th>\n",
       "      <th>unique</th>\n",
       "      <th>top</th>\n",
       "      <th>freq</th>\n",
       "    </tr>\n",
       "  </thead>\n",
       "  <tbody>\n",
       "    <tr>\n",
       "      <th>Name</th>\n",
       "      <td>891</td>\n",
       "      <td>891</td>\n",
       "      <td>Braund, Mr. Owen Harris</td>\n",
       "      <td>1</td>\n",
       "    </tr>\n",
       "    <tr>\n",
       "      <th>Sex</th>\n",
       "      <td>891</td>\n",
       "      <td>2</td>\n",
       "      <td>male</td>\n",
       "      <td>577</td>\n",
       "    </tr>\n",
       "    <tr>\n",
       "      <th>Ticket</th>\n",
       "      <td>891</td>\n",
       "      <td>681</td>\n",
       "      <td>347082</td>\n",
       "      <td>7</td>\n",
       "    </tr>\n",
       "    <tr>\n",
       "      <th>Cabin</th>\n",
       "      <td>204</td>\n",
       "      <td>147</td>\n",
       "      <td>B96 B98</td>\n",
       "      <td>4</td>\n",
       "    </tr>\n",
       "    <tr>\n",
       "      <th>Embarked</th>\n",
       "      <td>889</td>\n",
       "      <td>3</td>\n",
       "      <td>S</td>\n",
       "      <td>644</td>\n",
       "    </tr>\n",
       "  </tbody>\n",
       "</table>\n",
       "</div>"
      ],
      "text/plain": [
       "         count unique                      top freq\n",
       "Name       891    891  Braund, Mr. Owen Harris    1\n",
       "Sex        891      2                     male  577\n",
       "Ticket     891    681                   347082    7\n",
       "Cabin      204    147                  B96 B98    4\n",
       "Embarked   889      3                        S  644"
      ]
     },
     "execution_count": 8,
     "metadata": {},
     "output_type": "execute_result"
    }
   ],
   "source": [
    "data.describe(include=object).T"
   ]
  },
  {
   "cell_type": "code",
   "execution_count": 9,
   "id": "52bade7c",
   "metadata": {},
   "outputs": [
    {
     "data": {
      "text/html": [
       "<div>\n",
       "<style scoped>\n",
       "    .dataframe tbody tr th:only-of-type {\n",
       "        vertical-align: middle;\n",
       "    }\n",
       "\n",
       "    .dataframe tbody tr th {\n",
       "        vertical-align: top;\n",
       "    }\n",
       "\n",
       "    .dataframe thead th {\n",
       "        text-align: right;\n",
       "    }\n",
       "</style>\n",
       "<table border=\"1\" class=\"dataframe\">\n",
       "  <thead>\n",
       "    <tr style=\"text-align: right;\">\n",
       "      <th></th>\n",
       "      <th>PassengerId</th>\n",
       "      <th>Survived</th>\n",
       "      <th>Pclass</th>\n",
       "      <th>Age</th>\n",
       "      <th>SibSp</th>\n",
       "      <th>Parch</th>\n",
       "      <th>Fare</th>\n",
       "    </tr>\n",
       "  </thead>\n",
       "  <tbody>\n",
       "    <tr>\n",
       "      <th>PassengerId</th>\n",
       "      <td>1.000000</td>\n",
       "      <td>-0.005007</td>\n",
       "      <td>-0.035144</td>\n",
       "      <td>0.036847</td>\n",
       "      <td>-0.057527</td>\n",
       "      <td>-0.001652</td>\n",
       "      <td>0.012658</td>\n",
       "    </tr>\n",
       "    <tr>\n",
       "      <th>Survived</th>\n",
       "      <td>-0.005007</td>\n",
       "      <td>1.000000</td>\n",
       "      <td>-0.338481</td>\n",
       "      <td>-0.077221</td>\n",
       "      <td>-0.035322</td>\n",
       "      <td>0.081629</td>\n",
       "      <td>0.257307</td>\n",
       "    </tr>\n",
       "    <tr>\n",
       "      <th>Pclass</th>\n",
       "      <td>-0.035144</td>\n",
       "      <td>-0.338481</td>\n",
       "      <td>1.000000</td>\n",
       "      <td>-0.369226</td>\n",
       "      <td>0.083081</td>\n",
       "      <td>0.018443</td>\n",
       "      <td>-0.549500</td>\n",
       "    </tr>\n",
       "    <tr>\n",
       "      <th>Age</th>\n",
       "      <td>0.036847</td>\n",
       "      <td>-0.077221</td>\n",
       "      <td>-0.369226</td>\n",
       "      <td>1.000000</td>\n",
       "      <td>-0.308247</td>\n",
       "      <td>-0.189119</td>\n",
       "      <td>0.096067</td>\n",
       "    </tr>\n",
       "    <tr>\n",
       "      <th>SibSp</th>\n",
       "      <td>-0.057527</td>\n",
       "      <td>-0.035322</td>\n",
       "      <td>0.083081</td>\n",
       "      <td>-0.308247</td>\n",
       "      <td>1.000000</td>\n",
       "      <td>0.414838</td>\n",
       "      <td>0.159651</td>\n",
       "    </tr>\n",
       "    <tr>\n",
       "      <th>Parch</th>\n",
       "      <td>-0.001652</td>\n",
       "      <td>0.081629</td>\n",
       "      <td>0.018443</td>\n",
       "      <td>-0.189119</td>\n",
       "      <td>0.414838</td>\n",
       "      <td>1.000000</td>\n",
       "      <td>0.216225</td>\n",
       "    </tr>\n",
       "    <tr>\n",
       "      <th>Fare</th>\n",
       "      <td>0.012658</td>\n",
       "      <td>0.257307</td>\n",
       "      <td>-0.549500</td>\n",
       "      <td>0.096067</td>\n",
       "      <td>0.159651</td>\n",
       "      <td>0.216225</td>\n",
       "      <td>1.000000</td>\n",
       "    </tr>\n",
       "  </tbody>\n",
       "</table>\n",
       "</div>"
      ],
      "text/plain": [
       "             PassengerId  Survived    Pclass       Age     SibSp     Parch  \\\n",
       "PassengerId     1.000000 -0.005007 -0.035144  0.036847 -0.057527 -0.001652   \n",
       "Survived       -0.005007  1.000000 -0.338481 -0.077221 -0.035322  0.081629   \n",
       "Pclass         -0.035144 -0.338481  1.000000 -0.369226  0.083081  0.018443   \n",
       "Age             0.036847 -0.077221 -0.369226  1.000000 -0.308247 -0.189119   \n",
       "SibSp          -0.057527 -0.035322  0.083081 -0.308247  1.000000  0.414838   \n",
       "Parch          -0.001652  0.081629  0.018443 -0.189119  0.414838  1.000000   \n",
       "Fare            0.012658  0.257307 -0.549500  0.096067  0.159651  0.216225   \n",
       "\n",
       "                 Fare  \n",
       "PassengerId  0.012658  \n",
       "Survived     0.257307  \n",
       "Pclass      -0.549500  \n",
       "Age          0.096067  \n",
       "SibSp        0.159651  \n",
       "Parch        0.216225  \n",
       "Fare         1.000000  "
      ]
     },
     "execution_count": 9,
     "metadata": {},
     "output_type": "execute_result"
    }
   ],
   "source": [
    "data.corr()"
   ]
  },
  {
   "cell_type": "code",
   "execution_count": 10,
   "id": "573775c4",
   "metadata": {},
   "outputs": [
    {
     "data": {
      "image/png": "[encoded data removed]",
      "text/plain": [
       "<Figure size 432x288 with 2 Axes>"
      ]
     },
     "metadata": {
      "needs_background": "light"
     },
     "output_type": "display_data"
    }
   ],
   "source": [
    "sns.heatmap(data.corr(),vmax=1,vmin=-1,cmap='RdBu',annot=True)\n",
    "plt.show()"
   ]
  },
  {
   "cell_type": "code",
   "execution_count": 11,
   "id": "211fac84",
   "metadata": {},
   "outputs": [
    {
     "data": {
      "image/png": "[encoded data removed]",
      "text/plain": [
       "<Figure size 540x180 with 3 Axes>"
      ]
     },
     "metadata": {
      "needs_background": "light"
     },
     "output_type": "display_data"
    }
   ],
   "source": [
    "sns.pairplot(y_vars=['Survived'],x_vars=['Pclass','Sex','Embarked'],kind='hist',data=data)\n",
    "plt.show()"
   ]
  },
  {
   "cell_type": "code",
   "execution_count": 12,
   "id": "ec31936e",
   "metadata": {},
   "outputs": [
    {
     "data": {
      "image/png": "[encoded data removed]",
      "text/plain": [
       "<Figure size 591.875x540 with 12 Axes>"
      ]
     },
     "metadata": {
      "needs_background": "light"
     },
     "output_type": "display_data"
    }
   ],
   "source": [
    "sns.pairplot(vars=['Pclass','Sex','Embarked'],hue='Survived',kind='hist',data=data)\n",
    "plt.show()"
   ]
  },
  {
   "cell_type": "code",
   "execution_count": 13,
   "id": "cd9c34f3",
   "metadata": {},
   "outputs": [
    {
     "data": {
      "image/png": "[encoded data removed]",
      "text/plain": [
       "<Figure size 540x540 with 12 Axes>"
      ]
     },
     "metadata": {
      "needs_background": "light"
     },
     "output_type": "display_data"
    }
   ],
   "source": [
    "sns.pairplot(vars=['Pclass','Sex','Embarked'],data=data)\n",
    "plt.show()"
   ]
  },
  {
   "cell_type": "code",
   "execution_count": 14,
   "id": "7edd9df0",
   "metadata": {},
   "outputs": [],
   "source": [
    "## DATA analysis on survived"
   ]
  },
  {
   "cell_type": "code",
   "execution_count": 15,
   "id": "8ed9a47e",
   "metadata": {},
   "outputs": [
    {
     "data": {
      "image/png": "[encoded data removed]",
      "text/plain": [
       "<Figure size 432x288 with 1 Axes>"
      ]
     },
     "metadata": {
      "needs_background": "light"
     },
     "output_type": "display_data"
    }
   ],
   "source": [
    "sns.countplot(data['Sex'],hue=data['Survived'])\n",
    "data.groupby(by=['Sex','Survived'])['Survived'].count()\n",
    "plt.show()"
   ]
  },
  {
   "cell_type": "code",
   "execution_count": 16,
   "id": "408e8093",
   "metadata": {},
   "outputs": [],
   "source": [
    "data_sex=data.groupby(by=['Sex','Survived'])['Survived'].count()\n"
   ]
  },
  {
   "cell_type": "code",
   "execution_count": 17,
   "id": "7f525b3a",
   "metadata": {},
   "outputs": [
    {
     "data": {
      "text/plain": [
       "Sex     Survived\n",
       "female  0            81\n",
       "        1           233\n",
       "male    0           468\n",
       "        1           109\n",
       "Name: Survived, dtype: int64"
      ]
     },
     "execution_count": 17,
     "metadata": {},
     "output_type": "execute_result"
    }
   ],
   "source": [
    "data_sex"
   ]
  },
  {
   "cell_type": "code",
   "execution_count": 18,
   "id": "a88db656",
   "metadata": {},
   "outputs": [
    {
     "name": "stdout",
     "output_type": "stream",
     "text": [
      "Females Survived 74.20%\n",
      "male Survived 18.89%\n"
     ]
    }
   ],
   "source": [
    "print('Females Survived %.2f%%'%((data_sex['female'][1]/(data_sex['female'][0]+data_sex['female'][1])*100)))\n",
    "print('male Survived %.2f%%'%((data_sex['male'][1]/(data_sex['male'][0]+data_sex['male'][1])*100)))"
   ]
  },
  {
   "cell_type": "code",
   "execution_count": 19,
   "id": "8793e2c0",
   "metadata": {},
   "outputs": [
    {
     "data": {
      "text/plain": [
       "<AxesSubplot:xlabel='Pclass', ylabel='count'>"
      ]
     },
     "execution_count": 19,
     "metadata": {},
     "output_type": "execute_result"
    },
    {
     "data": {
      "image/png": "[encoded data removed]",
      "text/plain": [
       "<Figure size 432x288 with 1 Axes>"
      ]
     },
     "metadata": {
      "needs_background": "light"
     },
     "output_type": "display_data"
    }
   ],
   "source": [
    "sns.countplot(data['Pclass'],hue=data['Survived'])"
   ]
  },
  {
   "cell_type": "code",
   "execution_count": 20,
   "id": "86ed5875",
   "metadata": {},
   "outputs": [],
   "source": [
    "data_Pclass=data.groupby(by=['Pclass','Survived'])['Survived'].count()\n"
   ]
  },
  {
   "cell_type": "code",
   "execution_count": 21,
   "id": "29f2f99a",
   "metadata": {},
   "outputs": [
    {
     "data": {
      "text/plain": [
       "Pclass  Survived\n",
       "1       0            80\n",
       "        1           136\n",
       "2       0            97\n",
       "        1            87\n",
       "3       0           372\n",
       "        1           119\n",
       "Name: Survived, dtype: int64"
      ]
     },
     "execution_count": 21,
     "metadata": {},
     "output_type": "execute_result"
    }
   ],
   "source": [
    "data_Pclass"
   ]
  },
  {
   "cell_type": "code",
   "execution_count": 22,
   "id": "e7039db8",
   "metadata": {},
   "outputs": [
    {
     "name": "stdout",
     "output_type": "stream",
     "text": [
      "1st class Survived 62.96%\n",
      "2st class Survived 47.28%\n",
      "3st class Survived 24.24%\n"
     ]
    }
   ],
   "source": [
    "print('1st class Survived %.2f%%'%((data_Pclass[1][1]/(data_Pclass[1][0]+data_Pclass[1][1])*100)))\n",
    "print('2st class Survived %.2f%%'%((data_Pclass[2][1]/(data_Pclass[2][0]+data_Pclass[2][1])*100)))\n",
    "print('3st class Survived %.2f%%'%((data_Pclass[3][1]/(data_Pclass[3][0]+data_Pclass[3][1])*100)))\n",
    "\n"
   ]
  },
  {
   "cell_type": "code",
   "execution_count": 23,
   "id": "45370e8a",
   "metadata": {},
   "outputs": [
    {
     "data": {
      "text/plain": [
       "0      22.0\n",
       "1      38.0\n",
       "2      26.0\n",
       "3      35.0\n",
       "4      35.0\n",
       "       ... \n",
       "886    27.0\n",
       "887    19.0\n",
       "888     NaN\n",
       "889    26.0\n",
       "890    32.0\n",
       "Name: Age, Length: 891, dtype: float64"
      ]
     },
     "execution_count": 23,
     "metadata": {},
     "output_type": "execute_result"
    }
   ],
   "source": [
    "data['Age']"
   ]
  },
  {
   "cell_type": "code",
   "execution_count": 24,
   "id": "0ce2c8a9",
   "metadata": {},
   "outputs": [],
   "source": [
    "def age_category(age):\n",
    "    if age<=12:\n",
    "        return 'Children'\n",
    "    elif age>12 and age<=18:\n",
    "        return 'Teenage'\n",
    "    elif age>18 and age<30:\n",
    "        return \"youth\"\n",
    "    elif age>30 and age<45:\n",
    "        return 'Midage'\n",
    "    elif age>45 and age<60:\n",
    "        return 'oldage'\n",
    "    else:\n",
    "        return 'senior'"
   ]
  },
  {
   "cell_type": "code",
   "execution_count": 25,
   "id": "3672d1a5",
   "metadata": {},
   "outputs": [],
   "source": [
    "data['Age category']=data['Age'].apply(age_category)"
   ]
  },
  {
   "cell_type": "code",
   "execution_count": 26,
   "id": "e2781d79",
   "metadata": {},
   "outputs": [
    {
     "data": {
      "text/html": [
       "<div>\n",
       "<style scoped>\n",
       "    .dataframe tbody tr th:only-of-type {\n",
       "        vertical-align: middle;\n",
       "    }\n",
       "\n",
       "    .dataframe tbody tr th {\n",
       "        vertical-align: top;\n",
       "    }\n",
       "\n",
       "    .dataframe thead th {\n",
       "        text-align: right;\n",
       "    }\n",
       "</style>\n",
       "<table border=\"1\" class=\"dataframe\">\n",
       "  <thead>\n",
       "    <tr style=\"text-align: right;\">\n",
       "      <th></th>\n",
       "      <th>PassengerId</th>\n",
       "      <th>Survived</th>\n",
       "      <th>Pclass</th>\n",
       "      <th>Name</th>\n",
       "      <th>Sex</th>\n",
       "      <th>Age</th>\n",
       "      <th>SibSp</th>\n",
       "      <th>Parch</th>\n",
       "      <th>Ticket</th>\n",
       "      <th>Fare</th>\n",
       "      <th>Cabin</th>\n",
       "      <th>Embarked</th>\n",
       "      <th>Age category</th>\n",
       "    </tr>\n",
       "  </thead>\n",
       "  <tbody>\n",
       "    <tr>\n",
       "      <th>0</th>\n",
       "      <td>1</td>\n",
       "      <td>0</td>\n",
       "      <td>3</td>\n",
       "      <td>Braund, Mr. Owen Harris</td>\n",
       "      <td>male</td>\n",
       "      <td>22.0</td>\n",
       "      <td>1</td>\n",
       "      <td>0</td>\n",
       "      <td>A/5 21171</td>\n",
       "      <td>7.2500</td>\n",
       "      <td>NaN</td>\n",
       "      <td>S</td>\n",
       "      <td>youth</td>\n",
       "    </tr>\n",
       "    <tr>\n",
       "      <th>1</th>\n",
       "      <td>2</td>\n",
       "      <td>1</td>\n",
       "      <td>1</td>\n",
       "      <td>Cumings, Mrs. John Bradley (Florence Briggs Th...</td>\n",
       "      <td>female</td>\n",
       "      <td>38.0</td>\n",
       "      <td>1</td>\n",
       "      <td>0</td>\n",
       "      <td>PC 17599</td>\n",
       "      <td>71.2833</td>\n",
       "      <td>C85</td>\n",
       "      <td>C</td>\n",
       "      <td>Midage</td>\n",
       "    </tr>\n",
       "    <tr>\n",
       "      <th>2</th>\n",
       "      <td>3</td>\n",
       "      <td>1</td>\n",
       "      <td>3</td>\n",
       "      <td>Heikkinen, Miss. Laina</td>\n",
       "      <td>female</td>\n",
       "      <td>26.0</td>\n",
       "      <td>0</td>\n",
       "      <td>0</td>\n",
       "      <td>STON/O2. 3101282</td>\n",
       "      <td>7.9250</td>\n",
       "      <td>NaN</td>\n",
       "      <td>S</td>\n",
       "      <td>youth</td>\n",
       "    </tr>\n",
       "    <tr>\n",
       "      <th>3</th>\n",
       "      <td>4</td>\n",
       "      <td>1</td>\n",
       "      <td>1</td>\n",
       "      <td>Futrelle, Mrs. Jacques Heath (Lily May Peel)</td>\n",
       "      <td>female</td>\n",
       "      <td>35.0</td>\n",
       "      <td>1</td>\n",
       "      <td>0</td>\n",
       "      <td>113803</td>\n",
       "      <td>53.1000</td>\n",
       "      <td>C123</td>\n",
       "      <td>S</td>\n",
       "      <td>Midage</td>\n",
       "    </tr>\n",
       "    <tr>\n",
       "      <th>4</th>\n",
       "      <td>5</td>\n",
       "      <td>0</td>\n",
       "      <td>3</td>\n",
       "      <td>Allen, Mr. William Henry</td>\n",
       "      <td>male</td>\n",
       "      <td>35.0</td>\n",
       "      <td>0</td>\n",
       "      <td>0</td>\n",
       "      <td>373450</td>\n",
       "      <td>8.0500</td>\n",
       "      <td>NaN</td>\n",
       "      <td>S</td>\n",
       "      <td>Midage</td>\n",
       "    </tr>\n",
       "  </tbody>\n",
       "</table>\n",
       "</div>"
      ],
      "text/plain": [
       "   PassengerId  Survived  Pclass  \\\n",
       "0            1         0       3   \n",
       "1            2         1       1   \n",
       "2            3         1       3   \n",
       "3            4         1       1   \n",
       "4            5         0       3   \n",
       "\n",
       "                                                Name     Sex   Age  SibSp  \\\n",
       "0                            Braund, Mr. Owen Harris    male  22.0      1   \n",
       "1  Cumings, Mrs. John Bradley (Florence Briggs Th...  female  38.0      1   \n",
       "2                             Heikkinen, Miss. Laina  female  26.0      0   \n",
       "3       Futrelle, Mrs. Jacques Heath (Lily May Peel)  female  35.0      1   \n",
       "4                           Allen, Mr. William Henry    male  35.0      0   \n",
       "\n",
       "   Parch            Ticket     Fare Cabin Embarked Age category  \n",
       "0      0         A/5 21171   7.2500   NaN        S        youth  \n",
       "1      0          PC 17599  71.2833   C85        C       Midage  \n",
       "2      0  STON/O2. 3101282   7.9250   NaN        S        youth  \n",
       "3      0            113803  53.1000  C123        S       Midage  \n",
       "4      0            373450   8.0500   NaN        S       Midage  "
      ]
     },
     "execution_count": 26,
     "metadata": {},
     "output_type": "execute_result"
    }
   ],
   "source": [
    "data.head()"
   ]
  },
  {
   "cell_type": "code",
   "execution_count": 27,
   "id": "8d210257",
   "metadata": {},
   "outputs": [
    {
     "data": {
      "image/png": "[encoded data removed]",
      "text/plain": [
       "<Figure size 432x288 with 1 Axes>"
      ]
     },
     "metadata": {
      "needs_background": "light"
     },
     "output_type": "display_data"
    }
   ],
   "source": [
    "sns.countplot(data['Age category'],hue=data['Survived'])\n",
    "plt.show()"
   ]
  },
  {
   "cell_type": "code",
   "execution_count": 28,
   "id": "a3f2250e",
   "metadata": {},
   "outputs": [],
   "source": [
    "observed=pd.crosstab(data['Age category'],data['Survived'])"
   ]
  },
  {
   "cell_type": "code",
   "execution_count": 29,
   "id": "f2e7f4ba",
   "metadata": {},
   "outputs": [],
   "source": [
    "from scipy.stats import chi2_contingency"
   ]
  },
  {
   "cell_type": "code",
   "execution_count": 30,
   "id": "386e3b1f",
   "metadata": {},
   "outputs": [
    {
     "name": "stdout",
     "output_type": "stream",
     "text": [
      "chi sq:  20.250361003917092\n",
      "p-score:  0.0011214860323133387\n",
      "Accept The H1\n"
     ]
    }
   ],
   "source": [
    "# H0: the Survived is independend of Age category\n",
    "# H1: thesurvied  dependent on Age category\n",
    "chi,p,dof,expected = chi2_contingency(observed)\n",
    "print('chi sq: ',chi)\n",
    "print('p-score: ',p)\n",
    "\n",
    "if p<0.05:\n",
    "    print('Accept The H1')\n",
    "else:\n",
    "    print('Accept the H0')"
   ]
  },
  {
   "cell_type": "code",
   "execution_count": 31,
   "id": "cad0af43",
   "metadata": {},
   "outputs": [
    {
     "data": {
      "image/png": "[encoded data removed]",
      "text/plain": [
       "<Figure size 432x288 with 1 Axes>"
      ]
     },
     "metadata": {
      "needs_background": "light"
     },
     "output_type": "display_data"
    }
   ],
   "source": [
    "sns.countplot(data['Embarked'],hue=data['Survived'])\n",
    "plt.show()"
   ]
  },
  {
   "cell_type": "code",
   "execution_count": 32,
   "id": "629c566a",
   "metadata": {},
   "outputs": [],
   "source": [
    "# Does the Survied Depends upon fare Price??"
   ]
  },
  {
   "cell_type": "code",
   "execution_count": 33,
   "id": "60b8fdb9",
   "metadata": {},
   "outputs": [],
   "source": [
    "fare_surv = data[data['Survived']==1]['Fare']\n",
    "fare_nsurv = data[data['Survived']==0]['Fare']"
   ]
  },
  {
   "cell_type": "code",
   "execution_count": 34,
   "id": "c9f82336",
   "metadata": {},
   "outputs": [],
   "source": [
    "from statsmodels.stats.weightstats import ztest"
   ]
  },
  {
   "cell_type": "code",
   "execution_count": 35,
   "id": "28f17a74",
   "metadata": {},
   "outputs": [
    {
     "name": "stdout",
     "output_type": "stream",
     "text": [
      "Z-score:  7.939191660871055\n",
      "p-score:  2.035031103573989e-15\n",
      "Accept The H1\n"
     ]
    }
   ],
   "source": [
    "# H0:There is no difference in fare of surv and fare of not surv\n",
    "# H1:The two sample are differnt\n",
    "Z_score,p_value = ztest(fare_surv,fare_nsurv)\n",
    "print('Z-score: ',Z_score)\n",
    "print('p-score: ',p_value)\n",
    "\n",
    "if p_value<0.05:\n",
    "    print('Accept The H1')\n",
    "else:\n",
    "    print('Accept the H0')"
   ]
  },
  {
   "cell_type": "raw",
   "id": "fd1ce5b6",
   "metadata": {},
   "source": [
    "Data Analysis Conclusions:\n",
    "1) The Survival rate of female passengers is higher as compared to male passengers (female were given priority while rescue)\n",
    "2) The survival rate of passengers from first clss was highest.(The passengers from 1st and 2nd class were priority while rescue)\n",
    "3) Children, teengers and senior citizens were priority while rescue \n",
    "4) Although the survival rate for passengers boarded from chebouge was the highest while there were more number of passengers from southamptom we cannot say that was any prirot=rity on the basis of boarding station"
   ]
  },
  {
   "cell_type": "markdown",
   "id": "27bb0010",
   "metadata": {},
   "source": [
    "# DATA PRE-PROCESSING"
   ]
  },
  {
   "cell_type": "code",
   "execution_count": 36,
   "id": "cf42f3cd",
   "metadata": {},
   "outputs": [],
   "source": [
    "## Detect and treat the missing value"
   ]
  },
  {
   "cell_type": "code",
   "execution_count": 37,
   "id": "4920b9c2",
   "metadata": {},
   "outputs": [
    {
     "data": {
      "text/plain": [
       "PassengerId       0\n",
       "Survived          0\n",
       "Pclass            0\n",
       "Name              0\n",
       "Sex               0\n",
       "Age             177\n",
       "SibSp             0\n",
       "Parch             0\n",
       "Ticket            0\n",
       "Fare              0\n",
       "Cabin           687\n",
       "Embarked          2\n",
       "Age category      0\n",
       "dtype: int64"
      ]
     },
     "execution_count": 37,
     "metadata": {},
     "output_type": "execute_result"
    }
   ],
   "source": [
    "data.isnull().sum()"
   ]
  },
  {
   "cell_type": "code",
   "execution_count": 38,
   "id": "d410a968",
   "metadata": {},
   "outputs": [
    {
     "data": {
      "text/plain": [
       "Cabin           77.104377\n",
       "Age             19.865320\n",
       "Embarked         0.224467\n",
       "PassengerId      0.000000\n",
       "Survived         0.000000\n",
       "Pclass           0.000000\n",
       "Name             0.000000\n",
       "Sex              0.000000\n",
       "SibSp            0.000000\n",
       "Parch            0.000000\n",
       "Ticket           0.000000\n",
       "Fare             0.000000\n",
       "Age category     0.000000\n",
       "dtype: float64"
      ]
     },
     "execution_count": 38,
     "metadata": {},
     "output_type": "execute_result"
    }
   ],
   "source": [
    "((data.isnull().sum()/data.isnull().count())*100).sort_values(ascending=False)"
   ]
  },
  {
   "cell_type": "code",
   "execution_count": 39,
   "id": "d14fbd86",
   "metadata": {},
   "outputs": [
    {
     "data": {
      "text/html": [
       "<div>\n",
       "<style scoped>\n",
       "    .dataframe tbody tr th:only-of-type {\n",
       "        vertical-align: middle;\n",
       "    }\n",
       "\n",
       "    .dataframe tbody tr th {\n",
       "        vertical-align: top;\n",
       "    }\n",
       "\n",
       "    .dataframe thead th {\n",
       "        text-align: right;\n",
       "    }\n",
       "</style>\n",
       "<table border=\"1\" class=\"dataframe\">\n",
       "  <thead>\n",
       "    <tr style=\"text-align: right;\">\n",
       "      <th></th>\n",
       "      <th>PassengerId</th>\n",
       "      <th>Survived</th>\n",
       "      <th>Pclass</th>\n",
       "      <th>Name</th>\n",
       "      <th>Sex</th>\n",
       "      <th>Age</th>\n",
       "      <th>SibSp</th>\n",
       "      <th>Parch</th>\n",
       "      <th>Ticket</th>\n",
       "      <th>Fare</th>\n",
       "      <th>Cabin</th>\n",
       "      <th>Embarked</th>\n",
       "      <th>Age category</th>\n",
       "    </tr>\n",
       "  </thead>\n",
       "  <tbody>\n",
       "    <tr>\n",
       "      <th>5</th>\n",
       "      <td>6</td>\n",
       "      <td>0</td>\n",
       "      <td>3</td>\n",
       "      <td>Moran, Mr. James</td>\n",
       "      <td>male</td>\n",
       "      <td>NaN</td>\n",
       "      <td>0</td>\n",
       "      <td>0</td>\n",
       "      <td>330877</td>\n",
       "      <td>8.4583</td>\n",
       "      <td>NaN</td>\n",
       "      <td>Q</td>\n",
       "      <td>senior</td>\n",
       "    </tr>\n",
       "    <tr>\n",
       "      <th>17</th>\n",
       "      <td>18</td>\n",
       "      <td>1</td>\n",
       "      <td>2</td>\n",
       "      <td>Williams, Mr. Charles Eugene</td>\n",
       "      <td>male</td>\n",
       "      <td>NaN</td>\n",
       "      <td>0</td>\n",
       "      <td>0</td>\n",
       "      <td>244373</td>\n",
       "      <td>13.0000</td>\n",
       "      <td>NaN</td>\n",
       "      <td>S</td>\n",
       "      <td>senior</td>\n",
       "    </tr>\n",
       "    <tr>\n",
       "      <th>19</th>\n",
       "      <td>20</td>\n",
       "      <td>1</td>\n",
       "      <td>3</td>\n",
       "      <td>Masselmani, Mrs. Fatima</td>\n",
       "      <td>female</td>\n",
       "      <td>NaN</td>\n",
       "      <td>0</td>\n",
       "      <td>0</td>\n",
       "      <td>2649</td>\n",
       "      <td>7.2250</td>\n",
       "      <td>NaN</td>\n",
       "      <td>C</td>\n",
       "      <td>senior</td>\n",
       "    </tr>\n",
       "    <tr>\n",
       "      <th>26</th>\n",
       "      <td>27</td>\n",
       "      <td>0</td>\n",
       "      <td>3</td>\n",
       "      <td>Emir, Mr. Farred Chehab</td>\n",
       "      <td>male</td>\n",
       "      <td>NaN</td>\n",
       "      <td>0</td>\n",
       "      <td>0</td>\n",
       "      <td>2631</td>\n",
       "      <td>7.2250</td>\n",
       "      <td>NaN</td>\n",
       "      <td>C</td>\n",
       "      <td>senior</td>\n",
       "    </tr>\n",
       "    <tr>\n",
       "      <th>28</th>\n",
       "      <td>29</td>\n",
       "      <td>1</td>\n",
       "      <td>3</td>\n",
       "      <td>O'Dwyer, Miss. Ellen \"Nellie\"</td>\n",
       "      <td>female</td>\n",
       "      <td>NaN</td>\n",
       "      <td>0</td>\n",
       "      <td>0</td>\n",
       "      <td>330959</td>\n",
       "      <td>7.8792</td>\n",
       "      <td>NaN</td>\n",
       "      <td>Q</td>\n",
       "      <td>senior</td>\n",
       "    </tr>\n",
       "    <tr>\n",
       "      <th>...</th>\n",
       "      <td>...</td>\n",
       "      <td>...</td>\n",
       "      <td>...</td>\n",
       "      <td>...</td>\n",
       "      <td>...</td>\n",
       "      <td>...</td>\n",
       "      <td>...</td>\n",
       "      <td>...</td>\n",
       "      <td>...</td>\n",
       "      <td>...</td>\n",
       "      <td>...</td>\n",
       "      <td>...</td>\n",
       "      <td>...</td>\n",
       "    </tr>\n",
       "    <tr>\n",
       "      <th>859</th>\n",
       "      <td>860</td>\n",
       "      <td>0</td>\n",
       "      <td>3</td>\n",
       "      <td>Razi, Mr. Raihed</td>\n",
       "      <td>male</td>\n",
       "      <td>NaN</td>\n",
       "      <td>0</td>\n",
       "      <td>0</td>\n",
       "      <td>2629</td>\n",
       "      <td>7.2292</td>\n",
       "      <td>NaN</td>\n",
       "      <td>C</td>\n",
       "      <td>senior</td>\n",
       "    </tr>\n",
       "    <tr>\n",
       "      <th>863</th>\n",
       "      <td>864</td>\n",
       "      <td>0</td>\n",
       "      <td>3</td>\n",
       "      <td>Sage, Miss. Dorothy Edith \"Dolly\"</td>\n",
       "      <td>female</td>\n",
       "      <td>NaN</td>\n",
       "      <td>8</td>\n",
       "      <td>2</td>\n",
       "      <td>CA. 2343</td>\n",
       "      <td>69.5500</td>\n",
       "      <td>NaN</td>\n",
       "      <td>S</td>\n",
       "      <td>senior</td>\n",
       "    </tr>\n",
       "    <tr>\n",
       "      <th>868</th>\n",
       "      <td>869</td>\n",
       "      <td>0</td>\n",
       "      <td>3</td>\n",
       "      <td>van Melkebeke, Mr. Philemon</td>\n",
       "      <td>male</td>\n",
       "      <td>NaN</td>\n",
       "      <td>0</td>\n",
       "      <td>0</td>\n",
       "      <td>345777</td>\n",
       "      <td>9.5000</td>\n",
       "      <td>NaN</td>\n",
       "      <td>S</td>\n",
       "      <td>senior</td>\n",
       "    </tr>\n",
       "    <tr>\n",
       "      <th>878</th>\n",
       "      <td>879</td>\n",
       "      <td>0</td>\n",
       "      <td>3</td>\n",
       "      <td>Laleff, Mr. Kristo</td>\n",
       "      <td>male</td>\n",
       "      <td>NaN</td>\n",
       "      <td>0</td>\n",
       "      <td>0</td>\n",
       "      <td>349217</td>\n",
       "      <td>7.8958</td>\n",
       "      <td>NaN</td>\n",
       "      <td>S</td>\n",
       "      <td>senior</td>\n",
       "    </tr>\n",
       "    <tr>\n",
       "      <th>888</th>\n",
       "      <td>889</td>\n",
       "      <td>0</td>\n",
       "      <td>3</td>\n",
       "      <td>Johnston, Miss. Catherine Helen \"Carrie\"</td>\n",
       "      <td>female</td>\n",
       "      <td>NaN</td>\n",
       "      <td>1</td>\n",
       "      <td>2</td>\n",
       "      <td>W./C. 6607</td>\n",
       "      <td>23.4500</td>\n",
       "      <td>NaN</td>\n",
       "      <td>S</td>\n",
       "      <td>senior</td>\n",
       "    </tr>\n",
       "  </tbody>\n",
       "</table>\n",
       "<p>177 rows × 13 columns</p>\n",
       "</div>"
      ],
      "text/plain": [
       "     PassengerId  Survived  Pclass                                      Name  \\\n",
       "5              6         0       3                          Moran, Mr. James   \n",
       "17            18         1       2              Williams, Mr. Charles Eugene   \n",
       "19            20         1       3                   Masselmani, Mrs. Fatima   \n",
       "26            27         0       3                   Emir, Mr. Farred Chehab   \n",
       "28            29         1       3             O'Dwyer, Miss. Ellen \"Nellie\"   \n",
       "..           ...       ...     ...                                       ...   \n",
       "859          860         0       3                          Razi, Mr. Raihed   \n",
       "863          864         0       3         Sage, Miss. Dorothy Edith \"Dolly\"   \n",
       "868          869         0       3               van Melkebeke, Mr. Philemon   \n",
       "878          879         0       3                        Laleff, Mr. Kristo   \n",
       "888          889         0       3  Johnston, Miss. Catherine Helen \"Carrie\"   \n",
       "\n",
       "        Sex  Age  SibSp  Parch      Ticket     Fare Cabin Embarked  \\\n",
       "5      male  NaN      0      0      330877   8.4583   NaN        Q   \n",
       "17     male  NaN      0      0      244373  13.0000   NaN        S   \n",
       "19   female  NaN      0      0        2649   7.2250   NaN        C   \n",
       "26     male  NaN      0      0        2631   7.2250   NaN        C   \n",
       "28   female  NaN      0      0      330959   7.8792   NaN        Q   \n",
       "..      ...  ...    ...    ...         ...      ...   ...      ...   \n",
       "859    male  NaN      0      0        2629   7.2292   NaN        C   \n",
       "863  female  NaN      8      2    CA. 2343  69.5500   NaN        S   \n",
       "868    male  NaN      0      0      345777   9.5000   NaN        S   \n",
       "878    male  NaN      0      0      349217   7.8958   NaN        S   \n",
       "888  female  NaN      1      2  W./C. 6607  23.4500   NaN        S   \n",
       "\n",
       "    Age category  \n",
       "5         senior  \n",
       "17        senior  \n",
       "19        senior  \n",
       "26        senior  \n",
       "28        senior  \n",
       "..           ...  \n",
       "859       senior  \n",
       "863       senior  \n",
       "868       senior  \n",
       "878       senior  \n",
       "888       senior  \n",
       "\n",
       "[177 rows x 13 columns]"
      ]
     },
     "execution_count": 39,
     "metadata": {},
     "output_type": "execute_result"
    }
   ],
   "source": [
    "data[data['Age'].isnull()]"
   ]
  },
  {
   "cell_type": "code",
   "execution_count": 40,
   "id": "d5bda95d",
   "metadata": {},
   "outputs": [
    {
     "data": {
      "text/html": [
       "<div>\n",
       "<style scoped>\n",
       "    .dataframe tbody tr th:only-of-type {\n",
       "        vertical-align: middle;\n",
       "    }\n",
       "\n",
       "    .dataframe tbody tr th {\n",
       "        vertical-align: top;\n",
       "    }\n",
       "\n",
       "    .dataframe thead th {\n",
       "        text-align: right;\n",
       "    }\n",
       "</style>\n",
       "<table border=\"1\" class=\"dataframe\">\n",
       "  <thead>\n",
       "    <tr style=\"text-align: right;\">\n",
       "      <th></th>\n",
       "      <th>PassengerId</th>\n",
       "      <th>Survived</th>\n",
       "      <th>Pclass</th>\n",
       "      <th>Name</th>\n",
       "      <th>Sex</th>\n",
       "      <th>Age</th>\n",
       "      <th>SibSp</th>\n",
       "      <th>Parch</th>\n",
       "      <th>Ticket</th>\n",
       "      <th>Fare</th>\n",
       "      <th>Cabin</th>\n",
       "      <th>Embarked</th>\n",
       "      <th>Age category</th>\n",
       "    </tr>\n",
       "  </thead>\n",
       "  <tbody>\n",
       "    <tr>\n",
       "      <th>61</th>\n",
       "      <td>62</td>\n",
       "      <td>1</td>\n",
       "      <td>1</td>\n",
       "      <td>Icard, Miss. Amelie</td>\n",
       "      <td>female</td>\n",
       "      <td>38.0</td>\n",
       "      <td>0</td>\n",
       "      <td>0</td>\n",
       "      <td>113572</td>\n",
       "      <td>80.0</td>\n",
       "      <td>B28</td>\n",
       "      <td>NaN</td>\n",
       "      <td>Midage</td>\n",
       "    </tr>\n",
       "    <tr>\n",
       "      <th>829</th>\n",
       "      <td>830</td>\n",
       "      <td>1</td>\n",
       "      <td>1</td>\n",
       "      <td>Stone, Mrs. George Nelson (Martha Evelyn)</td>\n",
       "      <td>female</td>\n",
       "      <td>62.0</td>\n",
       "      <td>0</td>\n",
       "      <td>0</td>\n",
       "      <td>113572</td>\n",
       "      <td>80.0</td>\n",
       "      <td>B28</td>\n",
       "      <td>NaN</td>\n",
       "      <td>senior</td>\n",
       "    </tr>\n",
       "  </tbody>\n",
       "</table>\n",
       "</div>"
      ],
      "text/plain": [
       "     PassengerId  Survived  Pclass                                       Name  \\\n",
       "61            62         1       1                        Icard, Miss. Amelie   \n",
       "829          830         1       1  Stone, Mrs. George Nelson (Martha Evelyn)   \n",
       "\n",
       "        Sex   Age  SibSp  Parch  Ticket  Fare Cabin Embarked Age category  \n",
       "61   female  38.0      0      0  113572  80.0   B28      NaN       Midage  \n",
       "829  female  62.0      0      0  113572  80.0   B28      NaN       senior  "
      ]
     },
     "execution_count": 40,
     "metadata": {},
     "output_type": "execute_result"
    }
   ],
   "source": [
    "data[data['Embarked'].isnull()]"
   ]
  },
  {
   "cell_type": "code",
   "execution_count": 41,
   "id": "888d0d5b",
   "metadata": {},
   "outputs": [
    {
     "data": {
      "text/plain": [
       "Pclass  Embarked\n",
       "1       C           78.2667\n",
       "        Q           90.0000\n",
       "        S           52.0000\n",
       "2       C           24.0000\n",
       "        Q           12.3500\n",
       "        S           13.5000\n",
       "3       C            7.8958\n",
       "        Q            7.7500\n",
       "        S            8.0500\n",
       "Name: Fare, dtype: float64"
      ]
     },
     "execution_count": 41,
     "metadata": {},
     "output_type": "execute_result"
    }
   ],
   "source": [
    "data.groupby(by=['Pclass','Embarked'])['Fare'].median()"
   ]
  },
  {
   "cell_type": "code",
   "execution_count": 42,
   "id": "40df4270",
   "metadata": {},
   "outputs": [],
   "source": [
    "data['Embarked']=np.where(data['Embarked'].isnull(),'C',data['Embarked'])"
   ]
  },
  {
   "cell_type": "code",
   "execution_count": 43,
   "id": "fd58ec1b",
   "metadata": {},
   "outputs": [
    {
     "data": {
      "text/html": [
       "<div>\n",
       "<style scoped>\n",
       "    .dataframe tbody tr th:only-of-type {\n",
       "        vertical-align: middle;\n",
       "    }\n",
       "\n",
       "    .dataframe tbody tr th {\n",
       "        vertical-align: top;\n",
       "    }\n",
       "\n",
       "    .dataframe thead th {\n",
       "        text-align: right;\n",
       "    }\n",
       "</style>\n",
       "<table border=\"1\" class=\"dataframe\">\n",
       "  <thead>\n",
       "    <tr style=\"text-align: right;\">\n",
       "      <th></th>\n",
       "      <th>PassengerId</th>\n",
       "      <th>Survived</th>\n",
       "      <th>Pclass</th>\n",
       "      <th>Name</th>\n",
       "      <th>Sex</th>\n",
       "      <th>Age</th>\n",
       "      <th>SibSp</th>\n",
       "      <th>Parch</th>\n",
       "      <th>Ticket</th>\n",
       "      <th>Fare</th>\n",
       "      <th>Cabin</th>\n",
       "      <th>Embarked</th>\n",
       "      <th>Age category</th>\n",
       "    </tr>\n",
       "  </thead>\n",
       "  <tbody>\n",
       "    <tr>\n",
       "      <th>61</th>\n",
       "      <td>62</td>\n",
       "      <td>1</td>\n",
       "      <td>1</td>\n",
       "      <td>Icard, Miss. Amelie</td>\n",
       "      <td>female</td>\n",
       "      <td>38.0</td>\n",
       "      <td>0</td>\n",
       "      <td>0</td>\n",
       "      <td>113572</td>\n",
       "      <td>80.0</td>\n",
       "      <td>B28</td>\n",
       "      <td>C</td>\n",
       "      <td>Midage</td>\n",
       "    </tr>\n",
       "    <tr>\n",
       "      <th>829</th>\n",
       "      <td>830</td>\n",
       "      <td>1</td>\n",
       "      <td>1</td>\n",
       "      <td>Stone, Mrs. George Nelson (Martha Evelyn)</td>\n",
       "      <td>female</td>\n",
       "      <td>62.0</td>\n",
       "      <td>0</td>\n",
       "      <td>0</td>\n",
       "      <td>113572</td>\n",
       "      <td>80.0</td>\n",
       "      <td>B28</td>\n",
       "      <td>C</td>\n",
       "      <td>senior</td>\n",
       "    </tr>\n",
       "  </tbody>\n",
       "</table>\n",
       "</div>"
      ],
      "text/plain": [
       "     PassengerId  Survived  Pclass                                       Name  \\\n",
       "61            62         1       1                        Icard, Miss. Amelie   \n",
       "829          830         1       1  Stone, Mrs. George Nelson (Martha Evelyn)   \n",
       "\n",
       "        Sex   Age  SibSp  Parch  Ticket  Fare Cabin Embarked Age category  \n",
       "61   female  38.0      0      0  113572  80.0   B28        C       Midage  \n",
       "829  female  62.0      0      0  113572  80.0   B28        C       senior  "
      ]
     },
     "execution_count": 43,
     "metadata": {},
     "output_type": "execute_result"
    }
   ],
   "source": [
    "data.iloc[[61,829],:]"
   ]
  },
  {
   "cell_type": "code",
   "execution_count": 44,
   "id": "8e405a16",
   "metadata": {},
   "outputs": [
    {
     "data": {
      "text/plain": [
       "28.0"
      ]
     },
     "execution_count": 44,
     "metadata": {},
     "output_type": "execute_result"
    }
   ],
   "source": [
    "data['Age'].median()"
   ]
  },
  {
   "cell_type": "code",
   "execution_count": 45,
   "id": "62976b2f",
   "metadata": {},
   "outputs": [],
   "source": [
    "data['Age'].fillna(data['Age'].median(),inplace=True)"
   ]
  },
  {
   "cell_type": "code",
   "execution_count": 46,
   "id": "40b88179",
   "metadata": {},
   "outputs": [
    {
     "data": {
      "text/html": [
       "<div>\n",
       "<style scoped>\n",
       "    .dataframe tbody tr th:only-of-type {\n",
       "        vertical-align: middle;\n",
       "    }\n",
       "\n",
       "    .dataframe tbody tr th {\n",
       "        vertical-align: top;\n",
       "    }\n",
       "\n",
       "    .dataframe thead th {\n",
       "        text-align: right;\n",
       "    }\n",
       "</style>\n",
       "<table border=\"1\" class=\"dataframe\">\n",
       "  <thead>\n",
       "    <tr style=\"text-align: right;\">\n",
       "      <th></th>\n",
       "      <th>PassengerId</th>\n",
       "      <th>Survived</th>\n",
       "      <th>Pclass</th>\n",
       "      <th>Name</th>\n",
       "      <th>Sex</th>\n",
       "      <th>Age</th>\n",
       "      <th>SibSp</th>\n",
       "      <th>Parch</th>\n",
       "      <th>Ticket</th>\n",
       "      <th>Fare</th>\n",
       "      <th>Cabin</th>\n",
       "      <th>Embarked</th>\n",
       "      <th>Age category</th>\n",
       "    </tr>\n",
       "  </thead>\n",
       "  <tbody>\n",
       "  </tbody>\n",
       "</table>\n",
       "</div>"
      ],
      "text/plain": [
       "Empty DataFrame\n",
       "Columns: [PassengerId, Survived, Pclass, Name, Sex, Age, SibSp, Parch, Ticket, Fare, Cabin, Embarked, Age category]\n",
       "Index: []"
      ]
     },
     "execution_count": 46,
     "metadata": {},
     "output_type": "execute_result"
    }
   ],
   "source": [
    "data[data['Age'].isnull()]"
   ]
  },
  {
   "cell_type": "code",
   "execution_count": 47,
   "id": "b1f71c73",
   "metadata": {},
   "outputs": [],
   "source": [
    "# we need to drop the cabin column because 77% data is missing"
   ]
  },
  {
   "cell_type": "code",
   "execution_count": 48,
   "id": "1bebb140",
   "metadata": {},
   "outputs": [],
   "source": [
    "data.drop(columns=['Cabin'], inplace=True)"
   ]
  },
  {
   "cell_type": "code",
   "execution_count": 49,
   "id": "da01a3bb",
   "metadata": {},
   "outputs": [
    {
     "data": {
      "text/plain": [
       "PassengerId     0.0\n",
       "Survived        0.0\n",
       "Pclass          0.0\n",
       "Name            0.0\n",
       "Sex             0.0\n",
       "Age             0.0\n",
       "SibSp           0.0\n",
       "Parch           0.0\n",
       "Ticket          0.0\n",
       "Fare            0.0\n",
       "Embarked        0.0\n",
       "Age category    0.0\n",
       "dtype: float64"
      ]
     },
     "execution_count": 49,
     "metadata": {},
     "output_type": "execute_result"
    }
   ],
   "source": [
    "((data.isnull().sum()/data.isnull().count())*100).sort_values(ascending=False)"
   ]
  },
  {
   "cell_type": "markdown",
   "id": "c8796592",
   "metadata": {},
   "source": [
    "# Detecting and treating the outliers"
   ]
  },
  {
   "cell_type": "code",
   "execution_count": 50,
   "id": "ca173ddf",
   "metadata": {},
   "outputs": [
    {
     "data": {
      "image/png": "[encoded data removed]",
      "text/plain": [
       "<Figure size 432x288 with 1 Axes>"
      ]
     },
     "metadata": {
      "needs_background": "light"
     },
     "output_type": "display_data"
    }
   ],
   "source": [
    "sns.boxplot(data['Fare'])\n",
    "plt.show()"
   ]
  },
  {
   "cell_type": "code",
   "execution_count": 51,
   "id": "ae7ea34e",
   "metadata": {},
   "outputs": [
    {
     "data": {
      "text/html": [
       "<div>\n",
       "<style scoped>\n",
       "    .dataframe tbody tr th:only-of-type {\n",
       "        vertical-align: middle;\n",
       "    }\n",
       "\n",
       "    .dataframe tbody tr th {\n",
       "        vertical-align: top;\n",
       "    }\n",
       "\n",
       "    .dataframe thead th {\n",
       "        text-align: right;\n",
       "    }\n",
       "</style>\n",
       "<table border=\"1\" class=\"dataframe\">\n",
       "  <thead>\n",
       "    <tr style=\"text-align: right;\">\n",
       "      <th></th>\n",
       "      <th>PassengerId</th>\n",
       "      <th>Survived</th>\n",
       "      <th>Pclass</th>\n",
       "      <th>Name</th>\n",
       "      <th>Sex</th>\n",
       "      <th>Age</th>\n",
       "      <th>SibSp</th>\n",
       "      <th>Parch</th>\n",
       "      <th>Ticket</th>\n",
       "      <th>Fare</th>\n",
       "      <th>Embarked</th>\n",
       "      <th>Age category</th>\n",
       "    </tr>\n",
       "  </thead>\n",
       "  <tbody>\n",
       "    <tr>\n",
       "      <th>258</th>\n",
       "      <td>259</td>\n",
       "      <td>1</td>\n",
       "      <td>1</td>\n",
       "      <td>Ward, Miss. Anna</td>\n",
       "      <td>female</td>\n",
       "      <td>35.0</td>\n",
       "      <td>0</td>\n",
       "      <td>0</td>\n",
       "      <td>PC 17755</td>\n",
       "      <td>512.3292</td>\n",
       "      <td>C</td>\n",
       "      <td>Midage</td>\n",
       "    </tr>\n",
       "    <tr>\n",
       "      <th>679</th>\n",
       "      <td>680</td>\n",
       "      <td>1</td>\n",
       "      <td>1</td>\n",
       "      <td>Cardeza, Mr. Thomas Drake Martinez</td>\n",
       "      <td>male</td>\n",
       "      <td>36.0</td>\n",
       "      <td>0</td>\n",
       "      <td>1</td>\n",
       "      <td>PC 17755</td>\n",
       "      <td>512.3292</td>\n",
       "      <td>C</td>\n",
       "      <td>Midage</td>\n",
       "    </tr>\n",
       "    <tr>\n",
       "      <th>737</th>\n",
       "      <td>738</td>\n",
       "      <td>1</td>\n",
       "      <td>1</td>\n",
       "      <td>Lesurer, Mr. Gustave J</td>\n",
       "      <td>male</td>\n",
       "      <td>35.0</td>\n",
       "      <td>0</td>\n",
       "      <td>0</td>\n",
       "      <td>PC 17755</td>\n",
       "      <td>512.3292</td>\n",
       "      <td>C</td>\n",
       "      <td>Midage</td>\n",
       "    </tr>\n",
       "  </tbody>\n",
       "</table>\n",
       "</div>"
      ],
      "text/plain": [
       "     PassengerId  Survived  Pclass                                Name  \\\n",
       "258          259         1       1                    Ward, Miss. Anna   \n",
       "679          680         1       1  Cardeza, Mr. Thomas Drake Martinez   \n",
       "737          738         1       1              Lesurer, Mr. Gustave J   \n",
       "\n",
       "        Sex   Age  SibSp  Parch    Ticket      Fare Embarked Age category  \n",
       "258  female  35.0      0      0  PC 17755  512.3292        C       Midage  \n",
       "679    male  36.0      0      1  PC 17755  512.3292        C       Midage  \n",
       "737    male  35.0      0      0  PC 17755  512.3292        C       Midage  "
      ]
     },
     "execution_count": 51,
     "metadata": {},
     "output_type": "execute_result"
    }
   ],
   "source": [
    "data[data['Fare']>500]"
   ]
  },
  {
   "cell_type": "code",
   "execution_count": 52,
   "id": "348fc017",
   "metadata": {},
   "outputs": [
    {
     "data": {
      "text/plain": [
       "112.07915"
      ]
     },
     "execution_count": 52,
     "metadata": {},
     "output_type": "execute_result"
    }
   ],
   "source": [
    "# we will cap the values in fare to 95th percentile value\n",
    "np.percentile(data['Fare'],95)"
   ]
  },
  {
   "cell_type": "code",
   "execution_count": 53,
   "id": "0013cb4b",
   "metadata": {},
   "outputs": [],
   "source": [
    "ul=np.percentile(data['Fare'],95)"
   ]
  },
  {
   "cell_type": "code",
   "execution_count": 54,
   "id": "4507ae9d",
   "metadata": {},
   "outputs": [],
   "source": [
    "data['Fare']=np.where(data['Fare']>ul,ul,data['Fare'])"
   ]
  },
  {
   "cell_type": "code",
   "execution_count": 55,
   "id": "1307660c",
   "metadata": {},
   "outputs": [
    {
     "data": {
      "image/png": "[encoded data removed]",
      "text/plain": [
       "<Figure size 432x288 with 1 Axes>"
      ]
     },
     "metadata": {
      "needs_background": "light"
     },
     "output_type": "display_data"
    }
   ],
   "source": [
    "sns.boxplot(data['Fare'])\n",
    "plt.show()"
   ]
  },
  {
   "cell_type": "markdown",
   "id": "af00cfde",
   "metadata": {},
   "source": [
    "# Feature selection"
   ]
  },
  {
   "cell_type": "code",
   "execution_count": 56,
   "id": "f66a9680",
   "metadata": {},
   "outputs": [],
   "source": [
    "## To avoid multicolinearity we need to remove Pclass"
   ]
  },
  {
   "cell_type": "code",
   "execution_count": 57,
   "id": "b8962eb7",
   "metadata": {},
   "outputs": [
    {
     "data": {
      "image/png": "[encoded data removed]",
      "text/plain": [
       "<Figure size 432x288 with 2 Axes>"
      ]
     },
     "metadata": {
      "needs_background": "light"
     },
     "output_type": "display_data"
    }
   ],
   "source": [
    "sns.heatmap(data.corr(),vmax=1,vmin=-1,cmap='RdBu',annot=True)\n",
    "plt.show()"
   ]
  },
  {
   "cell_type": "code",
   "execution_count": 58,
   "id": "19be6446",
   "metadata": {},
   "outputs": [],
   "source": [
    "data.drop(columns=['PassengerId','Pclass','Name','Ticket','Age category'],inplace=True)"
   ]
  },
  {
   "cell_type": "code",
   "execution_count": 59,
   "id": "59b8d603",
   "metadata": {},
   "outputs": [
    {
     "data": {
      "text/html": [
       "<div>\n",
       "<style scoped>\n",
       "    .dataframe tbody tr th:only-of-type {\n",
       "        vertical-align: middle;\n",
       "    }\n",
       "\n",
       "    .dataframe tbody tr th {\n",
       "        vertical-align: top;\n",
       "    }\n",
       "\n",
       "    .dataframe thead th {\n",
       "        text-align: right;\n",
       "    }\n",
       "</style>\n",
       "<table border=\"1\" class=\"dataframe\">\n",
       "  <thead>\n",
       "    <tr style=\"text-align: right;\">\n",
       "      <th></th>\n",
       "      <th>Survived</th>\n",
       "      <th>Sex</th>\n",
       "      <th>Age</th>\n",
       "      <th>SibSp</th>\n",
       "      <th>Parch</th>\n",
       "      <th>Fare</th>\n",
       "      <th>Embarked</th>\n",
       "    </tr>\n",
       "  </thead>\n",
       "  <tbody>\n",
       "    <tr>\n",
       "      <th>0</th>\n",
       "      <td>0</td>\n",
       "      <td>male</td>\n",
       "      <td>22.0</td>\n",
       "      <td>1</td>\n",
       "      <td>0</td>\n",
       "      <td>7.2500</td>\n",
       "      <td>S</td>\n",
       "    </tr>\n",
       "    <tr>\n",
       "      <th>1</th>\n",
       "      <td>1</td>\n",
       "      <td>female</td>\n",
       "      <td>38.0</td>\n",
       "      <td>1</td>\n",
       "      <td>0</td>\n",
       "      <td>71.2833</td>\n",
       "      <td>C</td>\n",
       "    </tr>\n",
       "    <tr>\n",
       "      <th>2</th>\n",
       "      <td>1</td>\n",
       "      <td>female</td>\n",
       "      <td>26.0</td>\n",
       "      <td>0</td>\n",
       "      <td>0</td>\n",
       "      <td>7.9250</td>\n",
       "      <td>S</td>\n",
       "    </tr>\n",
       "    <tr>\n",
       "      <th>3</th>\n",
       "      <td>1</td>\n",
       "      <td>female</td>\n",
       "      <td>35.0</td>\n",
       "      <td>1</td>\n",
       "      <td>0</td>\n",
       "      <td>53.1000</td>\n",
       "      <td>S</td>\n",
       "    </tr>\n",
       "    <tr>\n",
       "      <th>4</th>\n",
       "      <td>0</td>\n",
       "      <td>male</td>\n",
       "      <td>35.0</td>\n",
       "      <td>0</td>\n",
       "      <td>0</td>\n",
       "      <td>8.0500</td>\n",
       "      <td>S</td>\n",
       "    </tr>\n",
       "  </tbody>\n",
       "</table>\n",
       "</div>"
      ],
      "text/plain": [
       "   Survived     Sex   Age  SibSp  Parch     Fare Embarked\n",
       "0         0    male  22.0      1      0   7.2500        S\n",
       "1         1  female  38.0      1      0  71.2833        C\n",
       "2         1  female  26.0      0      0   7.9250        S\n",
       "3         1  female  35.0      1      0  53.1000        S\n",
       "4         0    male  35.0      0      0   8.0500        S"
      ]
     },
     "execution_count": 59,
     "metadata": {},
     "output_type": "execute_result"
    }
   ],
   "source": [
    "data.head()"
   ]
  },
  {
   "cell_type": "markdown",
   "id": "53fb993b",
   "metadata": {},
   "source": [
    "# Feature Engineering "
   ]
  },
  {
   "cell_type": "code",
   "execution_count": 61,
   "id": "a0e1d4dd",
   "metadata": {},
   "outputs": [],
   "source": [
    "data = pd.get_dummies(data, drop_first=True)"
   ]
  },
  {
   "cell_type": "code",
   "execution_count": 62,
   "id": "d1bfc3de",
   "metadata": {},
   "outputs": [
    {
     "data": {
      "text/html": [
       "<div>\n",
       "<style scoped>\n",
       "    .dataframe tbody tr th:only-of-type {\n",
       "        vertical-align: middle;\n",
       "    }\n",
       "\n",
       "    .dataframe tbody tr th {\n",
       "        vertical-align: top;\n",
       "    }\n",
       "\n",
       "    .dataframe thead th {\n",
       "        text-align: right;\n",
       "    }\n",
       "</style>\n",
       "<table border=\"1\" class=\"dataframe\">\n",
       "  <thead>\n",
       "    <tr style=\"text-align: right;\">\n",
       "      <th></th>\n",
       "      <th>Survived</th>\n",
       "      <th>Age</th>\n",
       "      <th>SibSp</th>\n",
       "      <th>Parch</th>\n",
       "      <th>Fare</th>\n",
       "      <th>Sex_male</th>\n",
       "      <th>Embarked_Q</th>\n",
       "      <th>Embarked_S</th>\n",
       "    </tr>\n",
       "  </thead>\n",
       "  <tbody>\n",
       "    <tr>\n",
       "      <th>0</th>\n",
       "      <td>0</td>\n",
       "      <td>22.0</td>\n",
       "      <td>1</td>\n",
       "      <td>0</td>\n",
       "      <td>7.2500</td>\n",
       "      <td>1</td>\n",
       "      <td>0</td>\n",
       "      <td>1</td>\n",
       "    </tr>\n",
       "    <tr>\n",
       "      <th>1</th>\n",
       "      <td>1</td>\n",
       "      <td>38.0</td>\n",
       "      <td>1</td>\n",
       "      <td>0</td>\n",
       "      <td>71.2833</td>\n",
       "      <td>0</td>\n",
       "      <td>0</td>\n",
       "      <td>0</td>\n",
       "    </tr>\n",
       "    <tr>\n",
       "      <th>2</th>\n",
       "      <td>1</td>\n",
       "      <td>26.0</td>\n",
       "      <td>0</td>\n",
       "      <td>0</td>\n",
       "      <td>7.9250</td>\n",
       "      <td>0</td>\n",
       "      <td>0</td>\n",
       "      <td>1</td>\n",
       "    </tr>\n",
       "    <tr>\n",
       "      <th>3</th>\n",
       "      <td>1</td>\n",
       "      <td>35.0</td>\n",
       "      <td>1</td>\n",
       "      <td>0</td>\n",
       "      <td>53.1000</td>\n",
       "      <td>0</td>\n",
       "      <td>0</td>\n",
       "      <td>1</td>\n",
       "    </tr>\n",
       "    <tr>\n",
       "      <th>4</th>\n",
       "      <td>0</td>\n",
       "      <td>35.0</td>\n",
       "      <td>0</td>\n",
       "      <td>0</td>\n",
       "      <td>8.0500</td>\n",
       "      <td>1</td>\n",
       "      <td>0</td>\n",
       "      <td>1</td>\n",
       "    </tr>\n",
       "  </tbody>\n",
       "</table>\n",
       "</div>"
      ],
      "text/plain": [
       "   Survived   Age  SibSp  Parch     Fare  Sex_male  Embarked_Q  Embarked_S\n",
       "0         0  22.0      1      0   7.2500         1           0           1\n",
       "1         1  38.0      1      0  71.2833         0           0           0\n",
       "2         1  26.0      0      0   7.9250         0           0           1\n",
       "3         1  35.0      1      0  53.1000         0           0           1\n",
       "4         0  35.0      0      0   8.0500         1           0           1"
      ]
     },
     "execution_count": 62,
     "metadata": {},
     "output_type": "execute_result"
    }
   ],
   "source": [
    "data.head()"
   ]
  },
  {
   "cell_type": "markdown",
   "id": "9f69e71b",
   "metadata": {},
   "source": [
    "# Feature scaling"
   ]
  },
  {
   "cell_type": "code",
   "execution_count": 64,
   "id": "3d0d4d14",
   "metadata": {},
   "outputs": [],
   "source": [
    "from sklearn.preprocessing import StandardScaler"
   ]
  },
  {
   "cell_type": "code",
   "execution_count": 65,
   "id": "20269db9",
   "metadata": {},
   "outputs": [],
   "source": [
    "sc = StandardScaler()"
   ]
  },
  {
   "cell_type": "code",
   "execution_count": 66,
   "id": "590f9dfe",
   "metadata": {},
   "outputs": [],
   "source": [
    "data_s= sc.fit_transform(data)"
   ]
  },
  {
   "cell_type": "code",
   "execution_count": 67,
   "id": "32cf86ba",
   "metadata": {},
   "outputs": [
    {
     "data": {
      "text/plain": [
       "array([[-0.78927234, -0.56573646,  0.43279337, ...,  0.73769513,\n",
       "        -0.30756234,  0.61930636],\n",
       "       [ 1.2669898 ,  0.66386103,  0.43279337, ..., -1.35557354,\n",
       "        -0.30756234, -1.61470971],\n",
       "       [ 1.2669898 , -0.25833709, -0.4745452 , ..., -1.35557354,\n",
       "        -0.30756234,  0.61930636],\n",
       "       ...,\n",
       "       [-0.78927234, -0.1046374 ,  0.43279337, ..., -1.35557354,\n",
       "        -0.30756234,  0.61930636],\n",
       "       [ 1.2669898 , -0.25833709, -0.4745452 , ...,  0.73769513,\n",
       "        -0.30756234, -1.61470971],\n",
       "       [-0.78927234,  0.20276197, -0.4745452 , ...,  0.73769513,\n",
       "         3.25137334, -1.61470971]])"
      ]
     },
     "execution_count": 67,
     "metadata": {},
     "output_type": "execute_result"
    }
   ],
   "source": [
    "data_s"
   ]
  },
  {
   "cell_type": "code",
   "execution_count": 68,
   "id": "d5ef51f7",
   "metadata": {},
   "outputs": [
    {
     "data": {
      "text/html": [
       "<div>\n",
       "<style scoped>\n",
       "    .dataframe tbody tr th:only-of-type {\n",
       "        vertical-align: middle;\n",
       "    }\n",
       "\n",
       "    .dataframe tbody tr th {\n",
       "        vertical-align: top;\n",
       "    }\n",
       "\n",
       "    .dataframe thead th {\n",
       "        text-align: right;\n",
       "    }\n",
       "</style>\n",
       "<table border=\"1\" class=\"dataframe\">\n",
       "  <thead>\n",
       "    <tr style=\"text-align: right;\">\n",
       "      <th></th>\n",
       "      <th>Survived</th>\n",
       "      <th>Age</th>\n",
       "      <th>SibSp</th>\n",
       "      <th>Parch</th>\n",
       "      <th>Fare</th>\n",
       "      <th>Sex_male</th>\n",
       "      <th>Embarked_Q</th>\n",
       "      <th>Embarked_S</th>\n",
       "    </tr>\n",
       "  </thead>\n",
       "  <tbody>\n",
       "    <tr>\n",
       "      <th>0</th>\n",
       "      <td>-0.789272</td>\n",
       "      <td>-0.565736</td>\n",
       "      <td>0.432793</td>\n",
       "      <td>-0.473674</td>\n",
       "      <td>-0.700836</td>\n",
       "      <td>0.737695</td>\n",
       "      <td>-0.307562</td>\n",
       "      <td>0.619306</td>\n",
       "    </tr>\n",
       "    <tr>\n",
       "      <th>1</th>\n",
       "      <td>1.266990</td>\n",
       "      <td>0.663861</td>\n",
       "      <td>0.432793</td>\n",
       "      <td>-0.473674</td>\n",
       "      <td>1.491434</td>\n",
       "      <td>-1.355574</td>\n",
       "      <td>-0.307562</td>\n",
       "      <td>-1.614710</td>\n",
       "    </tr>\n",
       "    <tr>\n",
       "      <th>2</th>\n",
       "      <td>1.266990</td>\n",
       "      <td>-0.258337</td>\n",
       "      <td>-0.474545</td>\n",
       "      <td>-0.473674</td>\n",
       "      <td>-0.677726</td>\n",
       "      <td>-1.355574</td>\n",
       "      <td>-0.307562</td>\n",
       "      <td>0.619306</td>\n",
       "    </tr>\n",
       "    <tr>\n",
       "      <th>3</th>\n",
       "      <td>1.266990</td>\n",
       "      <td>0.433312</td>\n",
       "      <td>0.432793</td>\n",
       "      <td>-0.473674</td>\n",
       "      <td>0.868903</td>\n",
       "      <td>-1.355574</td>\n",
       "      <td>-0.307562</td>\n",
       "      <td>0.619306</td>\n",
       "    </tr>\n",
       "    <tr>\n",
       "      <th>4</th>\n",
       "      <td>-0.789272</td>\n",
       "      <td>0.433312</td>\n",
       "      <td>-0.474545</td>\n",
       "      <td>-0.473674</td>\n",
       "      <td>-0.673447</td>\n",
       "      <td>0.737695</td>\n",
       "      <td>-0.307562</td>\n",
       "      <td>0.619306</td>\n",
       "    </tr>\n",
       "    <tr>\n",
       "      <th>...</th>\n",
       "      <td>...</td>\n",
       "      <td>...</td>\n",
       "      <td>...</td>\n",
       "      <td>...</td>\n",
       "      <td>...</td>\n",
       "      <td>...</td>\n",
       "      <td>...</td>\n",
       "      <td>...</td>\n",
       "    </tr>\n",
       "    <tr>\n",
       "      <th>886</th>\n",
       "      <td>-0.789272</td>\n",
       "      <td>-0.181487</td>\n",
       "      <td>-0.474545</td>\n",
       "      <td>-0.473674</td>\n",
       "      <td>-0.503976</td>\n",
       "      <td>0.737695</td>\n",
       "      <td>-0.307562</td>\n",
       "      <td>0.619306</td>\n",
       "    </tr>\n",
       "    <tr>\n",
       "      <th>887</th>\n",
       "      <td>1.266990</td>\n",
       "      <td>-0.796286</td>\n",
       "      <td>-0.474545</td>\n",
       "      <td>-0.473674</td>\n",
       "      <td>0.078042</td>\n",
       "      <td>-1.355574</td>\n",
       "      <td>-0.307562</td>\n",
       "      <td>0.619306</td>\n",
       "    </tr>\n",
       "    <tr>\n",
       "      <th>888</th>\n",
       "      <td>-0.789272</td>\n",
       "      <td>-0.104637</td>\n",
       "      <td>0.432793</td>\n",
       "      <td>2.008933</td>\n",
       "      <td>-0.146206</td>\n",
       "      <td>-1.355574</td>\n",
       "      <td>-0.307562</td>\n",
       "      <td>0.619306</td>\n",
       "    </tr>\n",
       "    <tr>\n",
       "      <th>889</th>\n",
       "      <td>1.266990</td>\n",
       "      <td>-0.258337</td>\n",
       "      <td>-0.474545</td>\n",
       "      <td>-0.473674</td>\n",
       "      <td>0.078042</td>\n",
       "      <td>0.737695</td>\n",
       "      <td>-0.307562</td>\n",
       "      <td>-1.614710</td>\n",
       "    </tr>\n",
       "    <tr>\n",
       "      <th>890</th>\n",
       "      <td>-0.789272</td>\n",
       "      <td>0.202762</td>\n",
       "      <td>-0.474545</td>\n",
       "      <td>-0.473674</td>\n",
       "      <td>-0.683718</td>\n",
       "      <td>0.737695</td>\n",
       "      <td>3.251373</td>\n",
       "      <td>-1.614710</td>\n",
       "    </tr>\n",
       "  </tbody>\n",
       "</table>\n",
       "<p>891 rows × 8 columns</p>\n",
       "</div>"
      ],
      "text/plain": [
       "     Survived       Age     SibSp     Parch      Fare  Sex_male  Embarked_Q  \\\n",
       "0   -0.789272 -0.565736  0.432793 -0.473674 -0.700836  0.737695   -0.307562   \n",
       "1    1.266990  0.663861  0.432793 -0.473674  1.491434 -1.355574   -0.307562   \n",
       "2    1.266990 -0.258337 -0.474545 -0.473674 -0.677726 -1.355574   -0.307562   \n",
       "3    1.266990  0.433312  0.432793 -0.473674  0.868903 -1.355574   -0.307562   \n",
       "4   -0.789272  0.433312 -0.474545 -0.473674 -0.673447  0.737695   -0.307562   \n",
       "..        ...       ...       ...       ...       ...       ...         ...   \n",
       "886 -0.789272 -0.181487 -0.474545 -0.473674 -0.503976  0.737695   -0.307562   \n",
       "887  1.266990 -0.796286 -0.474545 -0.473674  0.078042 -1.355574   -0.307562   \n",
       "888 -0.789272 -0.104637  0.432793  2.008933 -0.146206 -1.355574   -0.307562   \n",
       "889  1.266990 -0.258337 -0.474545 -0.473674  0.078042  0.737695   -0.307562   \n",
       "890 -0.789272  0.202762 -0.474545 -0.473674 -0.683718  0.737695    3.251373   \n",
       "\n",
       "     Embarked_S  \n",
       "0      0.619306  \n",
       "1     -1.614710  \n",
       "2      0.619306  \n",
       "3      0.619306  \n",
       "4      0.619306  \n",
       "..          ...  \n",
       "886    0.619306  \n",
       "887    0.619306  \n",
       "888    0.619306  \n",
       "889   -1.614710  \n",
       "890   -1.614710  \n",
       "\n",
       "[891 rows x 8 columns]"
      ]
     },
     "execution_count": 68,
     "metadata": {},
     "output_type": "execute_result"
    }
   ],
   "source": [
    "pd.DataFrame(data_s, columns=data.columns)"
   ]
  },
  {
   "cell_type": "markdown",
   "id": "bba9ac5e",
   "metadata": {},
   "source": [
    "# Train Test Split"
   ]
  },
  {
   "cell_type": "code",
   "execution_count": 69,
   "id": "5a24366f",
   "metadata": {},
   "outputs": [],
   "source": [
    "y=data['Survived']\n",
    "x = data.drop(columns=['Survived'])"
   ]
  },
  {
   "cell_type": "code",
   "execution_count": 70,
   "id": "eede0e4e",
   "metadata": {},
   "outputs": [
    {
     "data": {
      "text/html": [
       "<div>\n",
       "<style scoped>\n",
       "    .dataframe tbody tr th:only-of-type {\n",
       "        vertical-align: middle;\n",
       "    }\n",
       "\n",
       "    .dataframe tbody tr th {\n",
       "        vertical-align: top;\n",
       "    }\n",
       "\n",
       "    .dataframe thead th {\n",
       "        text-align: right;\n",
       "    }\n",
       "</style>\n",
       "<table border=\"1\" class=\"dataframe\">\n",
       "  <thead>\n",
       "    <tr style=\"text-align: right;\">\n",
       "      <th></th>\n",
       "      <th>Age</th>\n",
       "      <th>SibSp</th>\n",
       "      <th>Parch</th>\n",
       "      <th>Fare</th>\n",
       "      <th>Sex_male</th>\n",
       "      <th>Embarked_Q</th>\n",
       "      <th>Embarked_S</th>\n",
       "    </tr>\n",
       "  </thead>\n",
       "  <tbody>\n",
       "    <tr>\n",
       "      <th>0</th>\n",
       "      <td>22.0</td>\n",
       "      <td>1</td>\n",
       "      <td>0</td>\n",
       "      <td>7.2500</td>\n",
       "      <td>1</td>\n",
       "      <td>0</td>\n",
       "      <td>1</td>\n",
       "    </tr>\n",
       "    <tr>\n",
       "      <th>1</th>\n",
       "      <td>38.0</td>\n",
       "      <td>1</td>\n",
       "      <td>0</td>\n",
       "      <td>71.2833</td>\n",
       "      <td>0</td>\n",
       "      <td>0</td>\n",
       "      <td>0</td>\n",
       "    </tr>\n",
       "    <tr>\n",
       "      <th>2</th>\n",
       "      <td>26.0</td>\n",
       "      <td>0</td>\n",
       "      <td>0</td>\n",
       "      <td>7.9250</td>\n",
       "      <td>0</td>\n",
       "      <td>0</td>\n",
       "      <td>1</td>\n",
       "    </tr>\n",
       "    <tr>\n",
       "      <th>3</th>\n",
       "      <td>35.0</td>\n",
       "      <td>1</td>\n",
       "      <td>0</td>\n",
       "      <td>53.1000</td>\n",
       "      <td>0</td>\n",
       "      <td>0</td>\n",
       "      <td>1</td>\n",
       "    </tr>\n",
       "    <tr>\n",
       "      <th>4</th>\n",
       "      <td>35.0</td>\n",
       "      <td>0</td>\n",
       "      <td>0</td>\n",
       "      <td>8.0500</td>\n",
       "      <td>1</td>\n",
       "      <td>0</td>\n",
       "      <td>1</td>\n",
       "    </tr>\n",
       "    <tr>\n",
       "      <th>...</th>\n",
       "      <td>...</td>\n",
       "      <td>...</td>\n",
       "      <td>...</td>\n",
       "      <td>...</td>\n",
       "      <td>...</td>\n",
       "      <td>...</td>\n",
       "      <td>...</td>\n",
       "    </tr>\n",
       "    <tr>\n",
       "      <th>886</th>\n",
       "      <td>27.0</td>\n",
       "      <td>0</td>\n",
       "      <td>0</td>\n",
       "      <td>13.0000</td>\n",
       "      <td>1</td>\n",
       "      <td>0</td>\n",
       "      <td>1</td>\n",
       "    </tr>\n",
       "    <tr>\n",
       "      <th>887</th>\n",
       "      <td>19.0</td>\n",
       "      <td>0</td>\n",
       "      <td>0</td>\n",
       "      <td>30.0000</td>\n",
       "      <td>0</td>\n",
       "      <td>0</td>\n",
       "      <td>1</td>\n",
       "    </tr>\n",
       "    <tr>\n",
       "      <th>888</th>\n",
       "      <td>28.0</td>\n",
       "      <td>1</td>\n",
       "      <td>2</td>\n",
       "      <td>23.4500</td>\n",
       "      <td>0</td>\n",
       "      <td>0</td>\n",
       "      <td>1</td>\n",
       "    </tr>\n",
       "    <tr>\n",
       "      <th>889</th>\n",
       "      <td>26.0</td>\n",
       "      <td>0</td>\n",
       "      <td>0</td>\n",
       "      <td>30.0000</td>\n",
       "      <td>1</td>\n",
       "      <td>0</td>\n",
       "      <td>0</td>\n",
       "    </tr>\n",
       "    <tr>\n",
       "      <th>890</th>\n",
       "      <td>32.0</td>\n",
       "      <td>0</td>\n",
       "      <td>0</td>\n",
       "      <td>7.7500</td>\n",
       "      <td>1</td>\n",
       "      <td>1</td>\n",
       "      <td>0</td>\n",
       "    </tr>\n",
       "  </tbody>\n",
       "</table>\n",
       "<p>891 rows × 7 columns</p>\n",
       "</div>"
      ],
      "text/plain": [
       "      Age  SibSp  Parch     Fare  Sex_male  Embarked_Q  Embarked_S\n",
       "0    22.0      1      0   7.2500         1           0           1\n",
       "1    38.0      1      0  71.2833         0           0           0\n",
       "2    26.0      0      0   7.9250         0           0           1\n",
       "3    35.0      1      0  53.1000         0           0           1\n",
       "4    35.0      0      0   8.0500         1           0           1\n",
       "..    ...    ...    ...      ...       ...         ...         ...\n",
       "886  27.0      0      0  13.0000         1           0           1\n",
       "887  19.0      0      0  30.0000         0           0           1\n",
       "888  28.0      1      2  23.4500         0           0           1\n",
       "889  26.0      0      0  30.0000         1           0           0\n",
       "890  32.0      0      0   7.7500         1           1           0\n",
       "\n",
       "[891 rows x 7 columns]"
      ]
     },
     "execution_count": 70,
     "metadata": {},
     "output_type": "execute_result"
    }
   ],
   "source": [
    "x"
   ]
  },
  {
   "cell_type": "code",
   "execution_count": 71,
   "id": "e8fbb27c",
   "metadata": {},
   "outputs": [],
   "source": [
    "from sklearn.model_selection import train_test_split"
   ]
  },
  {
   "cell_type": "code",
   "execution_count": 72,
   "id": "3b054b2e",
   "metadata": {},
   "outputs": [],
   "source": [
    "x_train,x_test,y_train,y_test = train_test_split(x,y,stratify=y,train_size=0.8,random_state=2)"
   ]
  },
  {
   "cell_type": "code",
   "execution_count": 73,
   "id": "3fc44499",
   "metadata": {},
   "outputs": [
    {
     "name": "stdout",
     "output_type": "stream",
     "text": [
      "(712, 7) (712,)\n",
      "(179, 7) (179,)\n"
     ]
    }
   ],
   "source": [
    "print(x_train.shape,y_train.shape)\n",
    "print(x_test.shape,y_test.shape)"
   ]
  },
  {
   "cell_type": "markdown",
   "id": "a0932318",
   "metadata": {},
   "source": [
    "# Logistic Regression Model"
   ]
  },
  {
   "cell_type": "code",
   "execution_count": 74,
   "id": "09efdcff",
   "metadata": {},
   "outputs": [],
   "source": [
    "from sklearn.linear_model import LogisticRegression"
   ]
  },
  {
   "cell_type": "code",
   "execution_count": 75,
   "id": "7e2e414f",
   "metadata": {},
   "outputs": [],
   "source": [
    "model_lr = LogisticRegression()"
   ]
  },
  {
   "cell_type": "code",
   "execution_count": 76,
   "id": "a65ea230",
   "metadata": {},
   "outputs": [
    {
     "data": {
      "text/html": [
       "<style>#sk-container-id-1 {color: black;background-color: white;}#sk-container-id-1 pre{padding: 0;}#sk-container-id-1 div.sk-toggleable {background-color: white;}#sk-container-id-1 label.sk-toggleable__label {cursor: pointer;display: block;width: 100%;margin-bottom: 0;padding: 0.3em;box-sizing: border-box;text-align: center;}#sk-container-id-1 label.sk-toggleable__label-arrow:before {content: \"▸\";float: left;margin-right: 0.25em;color: #696969;}#sk-container-id-1 label.sk-toggleable__label-arrow:hover:before {color: black;}#sk-container-id-1 div.sk-estimator:hover label.sk-toggleable__label-arrow:before {color: black;}#sk-container-id-1 div.sk-toggleable__content {max-height: 0;max-width: 0;overflow: hidden;text-align: left;background-color: #f0f8ff;}#sk-container-id-1 div.sk-toggleable__content pre {margin: 0.2em;color: black;border-radius: 0.25em;background-color: #f0f8ff;}#sk-container-id-1 input.sk-toggleable__control:checked~div.sk-toggleable__content {max-height: 200px;max-width: 100%;overflow: auto;}#sk-container-id-1 input.sk-toggleable__control:checked~label.sk-toggleable__label-arrow:before {content: \"▾\";}#sk-container-id-1 div.sk-estimator input.sk-toggleable__control:checked~label.sk-toggleable__label {background-color: #d4ebff;}#sk-container-id-1 div.sk-label input.sk-toggleable__control:checked~label.sk-toggleable__label {background-color: #d4ebff;}#sk-container-id-1 input.sk-hidden--visually {border: 0;clip: rect(1px 1px 1px 1px);clip: rect(1px, 1px, 1px, 1px);height: 1px;margin: -1px;overflow: hidden;padding: 0;position: absolute;width: 1px;}#sk-container-id-1 div.sk-estimator {font-family: monospace;background-color: #f0f8ff;border: 1px dotted black;border-radius: 0.25em;box-sizing: border-box;margin-bottom: 0.5em;}#sk-container-id-1 div.sk-estimator:hover {background-color: #d4ebff;}#sk-container-id-1 div.sk-parallel-item::after {content: \"\";width: 100%;border-bottom: 1px solid gray;flex-grow: 1;}#sk-container-id-1 div.sk-label:hover label.sk-toggleable__label {background-color: #d4ebff;}#sk-container-id-1 div.sk-serial::before {content: \"\";position: absolute;border-left: 1px solid gray;box-sizing: border-box;top: 0;bottom: 0;left: 50%;z-index: 0;}#sk-container-id-1 div.sk-serial {display: flex;flex-direction: column;align-items: center;background-color: white;padding-right: 0.2em;padding-left: 0.2em;position: relative;}#sk-container-id-1 div.sk-item {position: relative;z-index: 1;}#sk-container-id-1 div.sk-parallel {display: flex;align-items: stretch;justify-content: center;background-color: white;position: relative;}#sk-container-id-1 div.sk-item::before, #sk-container-id-1 div.sk-parallel-item::before {content: \"\";position: absolute;border-left: 1px solid gray;box-sizing: border-box;top: 0;bottom: 0;left: 50%;z-index: -1;}#sk-container-id-1 div.sk-parallel-item {display: flex;flex-direction: column;z-index: 1;position: relative;background-color: white;}#sk-container-id-1 div.sk-parallel-item:first-child::after {align-self: flex-end;width: 50%;}#sk-container-id-1 div.sk-parallel-item:last-child::after {align-self: flex-start;width: 50%;}#sk-container-id-1 div.sk-parallel-item:only-child::after {width: 0;}#sk-container-id-1 div.sk-dashed-wrapped {border: 1px dashed gray;margin: 0 0.4em 0.5em 0.4em;box-sizing: border-box;padding-bottom: 0.4em;background-color: white;}#sk-container-id-1 div.sk-label label {font-family: monospace;font-weight: bold;display: inline-block;line-height: 1.2em;}#sk-container-id-1 div.sk-label-container {text-align: center;}#sk-container-id-1 div.sk-container {/* jupyter's `normalize.less` sets `[hidden] { display: none; }` but bootstrap.min.css set `[hidden] { display: none !important; }` so we also need the `!important` here to be able to override the default hidden behavior on the sphinx rendered scikit-learn.org. See: https://github.com/scikit-learn/scikit-learn/issues/21755 */display: inline-block !important;position: relative;}#sk-container-id-1 div.sk-text-repr-fallback {display: none;}</style><div id=\"sk-container-id-1\" class=\"sk-top-container\"><div class=\"sk-text-repr-fallback\"><pre>LogisticRegression()</pre><b>In a Jupyter environment, please rerun this cell to show the HTML representation or trust the notebook. <br />On GitHub, the HTML representation is unable to render, please try loading this page with nbviewer.org.</b></div><div class=\"sk-container\" hidden><div class=\"sk-item\"><div class=\"sk-estimator sk-toggleable\"><input class=\"sk-toggleable__control sk-hidden--visually\" id=\"sk-estimator-id-1\" type=\"checkbox\" checked><label for=\"sk-estimator-id-1\" class=\"sk-toggleable__label sk-toggleable__label-arrow\">LogisticRegression</label><div class=\"sk-toggleable__content\"><pre>LogisticRegression()</pre></div></div></div></div></div>"
      ],
      "text/plain": [
       "LogisticRegression()"
      ]
     },
     "execution_count": 76,
     "metadata": {},
     "output_type": "execute_result"
    }
   ],
   "source": [
    "model_lr.fit(x_train,y_train)"
   ]
  },
  {
   "cell_type": "code",
   "execution_count": 77,
   "id": "daa20b4b",
   "metadata": {},
   "outputs": [],
   "source": [
    "# ln(y/1-y) = b0 + b1X1 + b2X2 ....bnxn [sigmoid Function]\n",
    "# Log loss function j = -min(yi*log(p(y^))+(1-yi)log(p(1-y^)))"
   ]
  },
  {
   "cell_type": "code",
   "execution_count": 78,
   "id": "1a8268ef",
   "metadata": {},
   "outputs": [
    {
     "data": {
      "text/plain": [
       "array([[-0.02535741, -0.41570464, -0.23754026,  0.0279269 , -2.51459833,\n",
       "        -0.31471231, -0.29738   ]])"
      ]
     },
     "execution_count": 78,
     "metadata": {},
     "output_type": "execute_result"
    }
   ],
   "source": [
    "model_lr.coef_"
   ]
  },
  {
   "cell_type": "code",
   "execution_count": 79,
   "id": "e14abb2f",
   "metadata": {},
   "outputs": [
    {
     "data": {
      "text/plain": [
       "array([1.57111452])"
      ]
     },
     "execution_count": 79,
     "metadata": {},
     "output_type": "execute_result"
    }
   ],
   "source": [
    "model_lr.intercept_"
   ]
  },
  {
   "cell_type": "markdown",
   "id": "9d2a7132",
   "metadata": {},
   "source": [
    "# Hard Predictions"
   ]
  },
  {
   "cell_type": "code",
   "execution_count": 81,
   "id": "2ede2cd1",
   "metadata": {},
   "outputs": [],
   "source": [
    "y_pred = model_lr.predict(x_test)"
   ]
  },
  {
   "cell_type": "code",
   "execution_count": 82,
   "id": "7139b93b",
   "metadata": {},
   "outputs": [
    {
     "data": {
      "text/html": [
       "<div>\n",
       "<style scoped>\n",
       "    .dataframe tbody tr th:only-of-type {\n",
       "        vertical-align: middle;\n",
       "    }\n",
       "\n",
       "    .dataframe tbody tr th {\n",
       "        vertical-align: top;\n",
       "    }\n",
       "\n",
       "    .dataframe thead th {\n",
       "        text-align: right;\n",
       "    }\n",
       "</style>\n",
       "<table border=\"1\" class=\"dataframe\">\n",
       "  <thead>\n",
       "    <tr style=\"text-align: right;\">\n",
       "      <th></th>\n",
       "      <th>Actual Y</th>\n",
       "      <th>Predicted Y</th>\n",
       "    </tr>\n",
       "  </thead>\n",
       "  <tbody>\n",
       "    <tr>\n",
       "      <th>90</th>\n",
       "      <td>0</td>\n",
       "      <td>0</td>\n",
       "    </tr>\n",
       "    <tr>\n",
       "      <th>736</th>\n",
       "      <td>0</td>\n",
       "      <td>0</td>\n",
       "    </tr>\n",
       "    <tr>\n",
       "      <th>48</th>\n",
       "      <td>0</td>\n",
       "      <td>0</td>\n",
       "    </tr>\n",
       "    <tr>\n",
       "      <th>783</th>\n",
       "      <td>0</td>\n",
       "      <td>0</td>\n",
       "    </tr>\n",
       "    <tr>\n",
       "      <th>404</th>\n",
       "      <td>0</td>\n",
       "      <td>1</td>\n",
       "    </tr>\n",
       "    <tr>\n",
       "      <th>884</th>\n",
       "      <td>0</td>\n",
       "      <td>0</td>\n",
       "    </tr>\n",
       "    <tr>\n",
       "      <th>865</th>\n",
       "      <td>1</td>\n",
       "      <td>1</td>\n",
       "    </tr>\n",
       "    <tr>\n",
       "      <th>796</th>\n",
       "      <td>1</td>\n",
       "      <td>1</td>\n",
       "    </tr>\n",
       "    <tr>\n",
       "      <th>819</th>\n",
       "      <td>0</td>\n",
       "      <td>0</td>\n",
       "    </tr>\n",
       "    <tr>\n",
       "      <th>75</th>\n",
       "      <td>0</td>\n",
       "      <td>0</td>\n",
       "    </tr>\n",
       "    <tr>\n",
       "      <th>428</th>\n",
       "      <td>0</td>\n",
       "      <td>0</td>\n",
       "    </tr>\n",
       "    <tr>\n",
       "      <th>322</th>\n",
       "      <td>1</td>\n",
       "      <td>1</td>\n",
       "    </tr>\n",
       "    <tr>\n",
       "      <th>616</th>\n",
       "      <td>0</td>\n",
       "      <td>0</td>\n",
       "    </tr>\n",
       "    <tr>\n",
       "      <th>661</th>\n",
       "      <td>0</td>\n",
       "      <td>0</td>\n",
       "    </tr>\n",
       "    <tr>\n",
       "      <th>136</th>\n",
       "      <td>1</td>\n",
       "      <td>1</td>\n",
       "    </tr>\n",
       "    <tr>\n",
       "      <th>523</th>\n",
       "      <td>1</td>\n",
       "      <td>1</td>\n",
       "    </tr>\n",
       "    <tr>\n",
       "      <th>418</th>\n",
       "      <td>0</td>\n",
       "      <td>0</td>\n",
       "    </tr>\n",
       "    <tr>\n",
       "      <th>834</th>\n",
       "      <td>0</td>\n",
       "      <td>0</td>\n",
       "    </tr>\n",
       "    <tr>\n",
       "      <th>157</th>\n",
       "      <td>0</td>\n",
       "      <td>0</td>\n",
       "    </tr>\n",
       "    <tr>\n",
       "      <th>146</th>\n",
       "      <td>1</td>\n",
       "      <td>0</td>\n",
       "    </tr>\n",
       "  </tbody>\n",
       "</table>\n",
       "</div>"
      ],
      "text/plain": [
       "     Actual Y  Predicted Y\n",
       "90          0            0\n",
       "736         0            0\n",
       "48          0            0\n",
       "783         0            0\n",
       "404         0            1\n",
       "884         0            0\n",
       "865         1            1\n",
       "796         1            1\n",
       "819         0            0\n",
       "75          0            0\n",
       "428         0            0\n",
       "322         1            1\n",
       "616         0            0\n",
       "661         0            0\n",
       "136         1            1\n",
       "523         1            1\n",
       "418         0            0\n",
       "834         0            0\n",
       "157         0            0\n",
       "146         1            0"
      ]
     },
     "execution_count": 82,
     "metadata": {},
     "output_type": "execute_result"
    }
   ],
   "source": [
    "pd.DataFrame({'Actual Y':y_test,'Predicted Y':y_pred}).head(20)"
   ]
  },
  {
   "cell_type": "code",
   "execution_count": 83,
   "id": "52501a2f",
   "metadata": {},
   "outputs": [],
   "source": [
    "# Validation"
   ]
  },
  {
   "cell_type": "code",
   "execution_count": 84,
   "id": "087f7987",
   "metadata": {},
   "outputs": [],
   "source": [
    "from sklearn.metrics import confusion_matrix,accuracy_score,recall_score,precision_score,f1_score,log_loss"
   ]
  },
  {
   "cell_type": "code",
   "execution_count": 85,
   "id": "33d22ab9",
   "metadata": {},
   "outputs": [],
   "source": [
    "def validation(test,pred):\n",
    "    print('confusion Matrix:\\n',confusion_matrix(test,pred))\n",
    "    print('Acuracy:',accuracy_score(test,pred))\n",
    "    print('Recall:',recall_score(test,pred))\n",
    "    print('Precision:',precision_score(test,pred))\n",
    "    print('F1 Score:',f1_score(test,pred))"
   ]
  },
  {
   "cell_type": "code",
   "execution_count": null,
   "id": "7f894b4f",
   "metadata": {},
   "outputs": [],
   "source": [
    "validation(y_test,y_pred)"
   ]
  },
  {
   "cell_type": "markdown",
   "id": "49b8b55e",
   "metadata": {},
   "source": [
    "# ROC curve"
   ]
  },
  {
   "cell_type": "markdown",
   "id": "7fd405a6",
   "metadata": {},
   "source": [
    "# Soft predictions"
   ]
  },
  {
   "cell_type": "code",
   "execution_count": 89,
   "id": "b207482b",
   "metadata": {},
   "outputs": [],
   "source": [
    "y_pred_soft = model_lr.predict_proba(x_test)"
   ]
  },
  {
   "cell_type": "code",
   "execution_count": 90,
   "id": "c652ada6",
   "metadata": {
    "scrolled": true
   },
   "outputs": [
    {
     "data": {
      "text/plain": [
       "array([0.14786854, 0.47208917, 0.13245002, 0.10094479, 0.73272709,\n",
       "       0.15737183, 0.63917218, 0.68034191, 0.08035954, 0.15960657,\n",
       "       0.14782407, 0.69858674, 0.08673938, 0.14729097, 0.74094274,\n",
       "       0.86259676, 0.16266431, 0.18762695, 0.14470186, 0.15344911,\n",
       "       0.1564847 , 0.14118669, 0.13812154, 0.6269415 , 0.94736324,\n",
       "       0.47334297, 0.0763595 , 0.66935522, 0.73713563, 0.10116857,\n",
       "       0.14471449, 0.72920688, 0.34626121, 0.64511744, 0.1170312 ,\n",
       "       0.70030787, 0.38545584, 0.6304626 , 0.14503175, 0.13872557,\n",
       "       0.18973708, 0.71916632, 0.09367689, 0.57144463, 0.77305057,\n",
       "       0.63423668, 0.21423655, 0.20398743, 0.06827642, 0.69669357,\n",
       "       0.1581139 , 0.12516569, 0.39059567, 0.08967103, 0.68659154,\n",
       "       0.81384061, 0.92300835, 0.17329333, 0.16850543, 0.07169363,\n",
       "       0.20845764, 0.24851991, 0.71443091, 0.21521555, 0.72818613,\n",
       "       0.85011003, 0.22291783, 0.14066086, 0.71219134, 0.05214464,\n",
       "       0.83297101, 0.18975511, 0.93146596, 0.19318428, 0.66643244,\n",
       "       0.25527863, 0.86629585, 0.17104749, 0.58017032, 0.71754268,\n",
       "       0.37785265, 0.61500574, 0.66817275, 0.18781345, 0.19932118,\n",
       "       0.19953733, 0.12443986, 0.17011891, 0.13369299, 0.59007751,\n",
       "       0.13812154, 0.12533779, 0.52559855, 0.6653652 , 0.73310321,\n",
       "       0.1749235 , 0.14298926, 0.80576434, 0.17529465, 0.60466055,\n",
       "       0.21506259, 0.92534739, 0.07448236, 0.68196745, 0.22980508,\n",
       "       0.68583116, 0.11171198, 0.97736965, 0.13788633, 0.16456731,\n",
       "       0.07097061, 0.13997192, 0.10090972, 0.97786628, 0.63285021,\n",
       "       0.14116798, 0.81819315, 0.67483872, 0.90476122, 0.46315768,\n",
       "       0.1784783 , 0.2835112 , 0.15109227, 0.68196745, 0.93935623,\n",
       "       0.06120179, 0.15919096, 0.68751745, 0.16007921, 0.10604629,\n",
       "       0.69346333, 0.18067968, 0.15669912, 0.36536533, 0.72209345,\n",
       "       0.18210517, 0.15346503, 0.1036663 , 0.11831522, 0.15635988,\n",
       "       0.44776102, 0.44776102, 0.17529465, 0.15003742, 0.48963507,\n",
       "       0.68751745, 0.10597402, 0.57482565, 0.22980508, 0.13849551,\n",
       "       0.11070217, 0.55989323, 0.06778513, 0.1319227 , 0.37005007,\n",
       "       0.15298357, 0.17045437, 0.12445838, 0.13549764, 0.36481488,\n",
       "       0.53680589, 0.97781396, 0.15635988, 0.28308   , 0.89660865,\n",
       "       0.17329333, 0.17065188, 0.72565535, 0.14782407, 0.66802962,\n",
       "       0.68196745, 0.12650114, 0.4077876 , 0.10422811, 0.02168368,\n",
       "       0.16076366, 0.17208821, 0.1917598 , 0.18973708])"
      ]
     },
     "execution_count": 90,
     "metadata": {},
     "output_type": "execute_result"
    }
   ],
   "source": [
    "y_pred_soft[:,1]"
   ]
  },
  {
   "cell_type": "code",
   "execution_count": 91,
   "id": "a84e02e8",
   "metadata": {
    "scrolled": true
   },
   "outputs": [
    {
     "data": {
      "text/html": [
       "<div>\n",
       "<style scoped>\n",
       "    .dataframe tbody tr th:only-of-type {\n",
       "        vertical-align: middle;\n",
       "    }\n",
       "\n",
       "    .dataframe tbody tr th {\n",
       "        vertical-align: top;\n",
       "    }\n",
       "\n",
       "    .dataframe thead th {\n",
       "        text-align: right;\n",
       "    }\n",
       "</style>\n",
       "<table border=\"1\" class=\"dataframe\">\n",
       "  <thead>\n",
       "    <tr style=\"text-align: right;\">\n",
       "      <th></th>\n",
       "      <th>Actual Y</th>\n",
       "      <th>Predicted Y</th>\n",
       "      <th>pred Y Soft</th>\n",
       "    </tr>\n",
       "  </thead>\n",
       "  <tbody>\n",
       "    <tr>\n",
       "      <th>90</th>\n",
       "      <td>0</td>\n",
       "      <td>0</td>\n",
       "      <td>0.147869</td>\n",
       "    </tr>\n",
       "    <tr>\n",
       "      <th>736</th>\n",
       "      <td>0</td>\n",
       "      <td>0</td>\n",
       "      <td>0.472089</td>\n",
       "    </tr>\n",
       "    <tr>\n",
       "      <th>48</th>\n",
       "      <td>0</td>\n",
       "      <td>0</td>\n",
       "      <td>0.132450</td>\n",
       "    </tr>\n",
       "    <tr>\n",
       "      <th>783</th>\n",
       "      <td>0</td>\n",
       "      <td>0</td>\n",
       "      <td>0.100945</td>\n",
       "    </tr>\n",
       "    <tr>\n",
       "      <th>404</th>\n",
       "      <td>0</td>\n",
       "      <td>1</td>\n",
       "      <td>0.732727</td>\n",
       "    </tr>\n",
       "    <tr>\n",
       "      <th>884</th>\n",
       "      <td>0</td>\n",
       "      <td>0</td>\n",
       "      <td>0.157372</td>\n",
       "    </tr>\n",
       "    <tr>\n",
       "      <th>865</th>\n",
       "      <td>1</td>\n",
       "      <td>1</td>\n",
       "      <td>0.639172</td>\n",
       "    </tr>\n",
       "    <tr>\n",
       "      <th>796</th>\n",
       "      <td>1</td>\n",
       "      <td>1</td>\n",
       "      <td>0.680342</td>\n",
       "    </tr>\n",
       "    <tr>\n",
       "      <th>819</th>\n",
       "      <td>0</td>\n",
       "      <td>0</td>\n",
       "      <td>0.080360</td>\n",
       "    </tr>\n",
       "    <tr>\n",
       "      <th>75</th>\n",
       "      <td>0</td>\n",
       "      <td>0</td>\n",
       "      <td>0.159607</td>\n",
       "    </tr>\n",
       "    <tr>\n",
       "      <th>428</th>\n",
       "      <td>0</td>\n",
       "      <td>0</td>\n",
       "      <td>0.147824</td>\n",
       "    </tr>\n",
       "    <tr>\n",
       "      <th>322</th>\n",
       "      <td>1</td>\n",
       "      <td>1</td>\n",
       "      <td>0.698587</td>\n",
       "    </tr>\n",
       "    <tr>\n",
       "      <th>616</th>\n",
       "      <td>0</td>\n",
       "      <td>0</td>\n",
       "      <td>0.086739</td>\n",
       "    </tr>\n",
       "    <tr>\n",
       "      <th>661</th>\n",
       "      <td>0</td>\n",
       "      <td>0</td>\n",
       "      <td>0.147291</td>\n",
       "    </tr>\n",
       "    <tr>\n",
       "      <th>136</th>\n",
       "      <td>1</td>\n",
       "      <td>1</td>\n",
       "      <td>0.740943</td>\n",
       "    </tr>\n",
       "    <tr>\n",
       "      <th>523</th>\n",
       "      <td>1</td>\n",
       "      <td>1</td>\n",
       "      <td>0.862597</td>\n",
       "    </tr>\n",
       "    <tr>\n",
       "      <th>418</th>\n",
       "      <td>0</td>\n",
       "      <td>0</td>\n",
       "      <td>0.162664</td>\n",
       "    </tr>\n",
       "    <tr>\n",
       "      <th>834</th>\n",
       "      <td>0</td>\n",
       "      <td>0</td>\n",
       "      <td>0.187627</td>\n",
       "    </tr>\n",
       "    <tr>\n",
       "      <th>157</th>\n",
       "      <td>0</td>\n",
       "      <td>0</td>\n",
       "      <td>0.144702</td>\n",
       "    </tr>\n",
       "    <tr>\n",
       "      <th>146</th>\n",
       "      <td>1</td>\n",
       "      <td>0</td>\n",
       "      <td>0.153449</td>\n",
       "    </tr>\n",
       "  </tbody>\n",
       "</table>\n",
       "</div>"
      ],
      "text/plain": [
       "     Actual Y  Predicted Y  pred Y Soft\n",
       "90          0            0     0.147869\n",
       "736         0            0     0.472089\n",
       "48          0            0     0.132450\n",
       "783         0            0     0.100945\n",
       "404         0            1     0.732727\n",
       "884         0            0     0.157372\n",
       "865         1            1     0.639172\n",
       "796         1            1     0.680342\n",
       "819         0            0     0.080360\n",
       "75          0            0     0.159607\n",
       "428         0            0     0.147824\n",
       "322         1            1     0.698587\n",
       "616         0            0     0.086739\n",
       "661         0            0     0.147291\n",
       "136         1            1     0.740943\n",
       "523         1            1     0.862597\n",
       "418         0            0     0.162664\n",
       "834         0            0     0.187627\n",
       "157         0            0     0.144702\n",
       "146         1            0     0.153449"
      ]
     },
     "execution_count": 91,
     "metadata": {},
     "output_type": "execute_result"
    }
   ],
   "source": [
    "pd.DataFrame({'Actual Y':y_test,'Predicted Y':y_pred,'pred Y Soft':y_pred_soft[:,1]}).head(20)"
   ]
  },
  {
   "cell_type": "code",
   "execution_count": 92,
   "id": "6859d13e",
   "metadata": {},
   "outputs": [
    {
     "data": {
      "text/plain": [
       "0.47514807562680406"
      ]
     },
     "execution_count": 92,
     "metadata": {},
     "output_type": "execute_result"
    }
   ],
   "source": [
    "# Log loss function j =-min(yi*log(p(y^))+(1-yi)log(p(1-y^)))\n",
    "log_loss(y_test,y_pred_soft[:,1])"
   ]
  },
  {
   "cell_type": "code",
   "execution_count": 93,
   "id": "9aa275f5",
   "metadata": {},
   "outputs": [],
   "source": [
    "from sklearn.metrics import roc_auc_score,roc_curve"
   ]
  },
  {
   "cell_type": "code",
   "execution_count": 94,
   "id": "9130197c",
   "metadata": {},
   "outputs": [],
   "source": [
    "fpr,tpr,thres = roc_curve(y_test,y_pred_soft[:,1])"
   ]
  },
  {
   "cell_type": "code",
   "execution_count": 95,
   "id": "f15080a4",
   "metadata": {},
   "outputs": [
    {
     "name": "stdout",
     "output_type": "stream",
     "text": [
      "Area under the curve:  0.8270750988142292\n"
     ]
    },
    {
     "data": {
      "image/png": "[encoded data removed]",
      "text/plain": [
       "<Figure size 432x288 with 1 Axes>"
      ]
     },
     "metadata": {
      "needs_background": "light"
     },
     "output_type": "display_data"
    }
   ],
   "source": [
    "plt.plot(fpr,tpr)\n",
    "plt.xlabel('FPR')\n",
    "plt.ylabel('TPR')\n",
    "plt.title('ROC Curve')\n",
    "print('Area under the curve: ',roc_auc_score(y_test,y_pred_soft[:,1]))\n",
    "plt.show()"
   ]
  },
  {
   "cell_type": "markdown",
   "id": "4e48c03d",
   "metadata": {},
   "source": [
    "# change the Threshold or classifier cutoff"
   ]
  },
  {
   "cell_type": "code",
   "execution_count": 97,
   "id": "07d474ed",
   "metadata": {},
   "outputs": [],
   "source": [
    "threshold = 0.55\n",
    "y_pred_new = (y_pred_soft[:,1]>=threshold).astype(int)\n"
   ]
  },
  {
   "cell_type": "code",
   "execution_count": 98,
   "id": "ff01cc34",
   "metadata": {},
   "outputs": [
    {
     "data": {
      "text/plain": [
       "array([0, 0, 0, 0, 1, 0, 1, 1, 0, 0, 0, 1, 0, 0, 1, 1, 0, 0, 0, 0, 0, 0,\n",
       "       0, 1, 1, 0, 0, 1, 1, 0, 0, 1, 0, 1, 0, 1, 0, 1, 0, 0, 0, 1, 0, 1,\n",
       "       1, 1, 0, 0, 0, 1, 0, 0, 0, 0, 1, 1, 1, 0, 0, 0, 0, 0, 1, 0, 1, 1,\n",
       "       0, 0, 1, 0, 1, 0, 1, 0, 1, 0, 1, 0, 1, 1, 0, 1, 1, 0, 0, 0, 0, 0,\n",
       "       0, 1, 0, 0, 0, 1, 1, 0, 0, 1, 0, 1, 0, 1, 0, 1, 0, 1, 0, 1, 0, 0,\n",
       "       0, 0, 0, 1, 1, 0, 1, 1, 1, 0, 0, 0, 0, 1, 1, 0, 0, 1, 0, 0, 1, 0,\n",
       "       0, 0, 1, 0, 0, 0, 0, 0, 0, 0, 0, 0, 0, 1, 0, 1, 0, 0, 0, 1, 0, 0,\n",
       "       0, 0, 0, 0, 0, 0, 0, 1, 0, 0, 1, 0, 0, 1, 0, 1, 1, 0, 0, 0, 0, 0,\n",
       "       0, 0, 0])"
      ]
     },
     "execution_count": 98,
     "metadata": {},
     "output_type": "execute_result"
    }
   ],
   "source": [
    "y_pred_new"
   ]
  },
  {
   "cell_type": "code",
   "execution_count": 99,
   "id": "cb8adc5e",
   "metadata": {},
   "outputs": [
    {
     "name": "stdout",
     "output_type": "stream",
     "text": [
      "confusion Matrix:\n",
      " [[96 14]\n",
      " [22 47]]\n",
      "Acuracy: 0.7988826815642458\n",
      "Recall: 0.6811594202898551\n",
      "Precision: 0.7704918032786885\n",
      "F1 Score: 0.7230769230769231\n"
     ]
    }
   ],
   "source": [
    "validation(y_test,y_pred_new)"
   ]
  },
  {
   "cell_type": "markdown",
   "id": "6683442f",
   "metadata": {},
   "source": [
    "# overfitting"
   ]
  },
  {
   "cell_type": "code",
   "execution_count": 100,
   "id": "6a2de516",
   "metadata": {},
   "outputs": [],
   "source": [
    "y_pred_train = model_lr.predict(x_train)"
   ]
  },
  {
   "cell_type": "code",
   "execution_count": 101,
   "id": "6bc98776",
   "metadata": {},
   "outputs": [
    {
     "name": "stdout",
     "output_type": "stream",
     "text": [
      "confusion Matrix:\n",
      " [[374  65]\n",
      " [ 85 188]]\n",
      "Acuracy: 0.7893258426966292\n",
      "Recall: 0.6886446886446886\n",
      "Precision: 0.7430830039525692\n",
      "F1 Score: 0.714828897338403\n"
     ]
    }
   ],
   "source": [
    "validation(y_train,y_pred_train)"
   ]
  },
  {
   "cell_type": "code",
   "execution_count": 102,
   "id": "8d7e8b69",
   "metadata": {},
   "outputs": [
    {
     "name": "stdout",
     "output_type": "stream",
     "text": [
      "confusion Matrix:\n",
      " [[94 16]\n",
      " [22 47]]\n",
      "Acuracy: 0.7877094972067039\n",
      "Recall: 0.6811594202898551\n",
      "Precision: 0.746031746031746\n",
      "F1 Score: 0.7121212121212122\n"
     ]
    }
   ],
   "source": [
    "validation(y_test,y_pred)"
   ]
  },
  {
   "cell_type": "markdown",
   "id": "c30c277b",
   "metadata": {},
   "source": [
    "# Regularization"
   ]
  },
  {
   "cell_type": "markdown",
   "id": "a87cc69d",
   "metadata": {},
   "source": [
    "# Ridge and Lasso"
   ]
  },
  {
   "cell_type": "code",
   "execution_count": 103,
   "id": "aabde949",
   "metadata": {},
   "outputs": [],
   "source": [
    "from sklearn.model_selection import GridSearchCV\n",
    "from sklearn.linear_model import Ridge,Lasso"
   ]
  },
  {
   "cell_type": "code",
   "execution_count": 104,
   "id": "bed152c7",
   "metadata": {},
   "outputs": [],
   "source": [
    "params = {'C':[0.001,0.01,0.1,1,10,100,500]}"
   ]
  },
  {
   "cell_type": "code",
   "execution_count": 105,
   "id": "352749ff",
   "metadata": {},
   "outputs": [],
   "source": [
    "gscv = GridSearchCV(estimator=LogisticRegression(penalty='l2'),\n",
    "                   param_grid=params,\n",
    "                   scoring='accuracy',\n",
    "                   verbose=3)"
   ]
  },
  {
   "cell_type": "code",
   "execution_count": 106,
   "id": "d7cb965e",
   "metadata": {
    "scrolled": true
   },
   "outputs": [
    {
     "name": "stdout",
     "output_type": "stream",
     "text": [
      "Fitting 5 folds for each of 7 candidates, totalling 35 fits\n",
      "[CV 1/5] END ...........................C=0.001;, score=0.671 total time=   0.0s\n",
      "[CV 2/5] END ...........................C=0.001;, score=0.664 total time=   0.0s\n",
      "[CV 3/5] END ...........................C=0.001;, score=0.669 total time=   0.0s\n",
      "[CV 4/5] END ...........................C=0.001;, score=0.718 total time=   0.0s\n",
      "[CV 5/5] END ...........................C=0.001;, score=0.711 total time=   0.0s\n",
      "[CV 1/5] END ............................C=0.01;, score=0.713 total time=   0.0s\n",
      "[CV 2/5] END ............................C=0.01;, score=0.713 total time=   0.0s\n",
      "[CV 3/5] END ............................C=0.01;, score=0.704 total time=   0.0s\n",
      "[CV 4/5] END ............................C=0.01;, score=0.725 total time=   0.0s\n",
      "[CV 5/5] END ............................C=0.01;, score=0.754 total time=   0.0s\n",
      "[CV 1/5] END .............................C=0.1;, score=0.804 total time=   0.0s\n",
      "[CV 2/5] END .............................C=0.1;, score=0.818 total time=   0.0s\n",
      "[CV 3/5] END .............................C=0.1;, score=0.775 total time=   0.0s\n",
      "[CV 4/5] END .............................C=0.1;, score=0.782 total time=   0.0s\n",
      "[CV 5/5] END .............................C=0.1;, score=0.768 total time=   0.0s\n",
      "[CV 1/5] END ...............................C=1;, score=0.797 total time=   0.0s\n",
      "[CV 2/5] END ...............................C=1;, score=0.804 total time=   0.0s\n",
      "[CV 3/5] END ...............................C=1;, score=0.761 total time=   0.0s\n",
      "[CV 4/5] END ...............................C=1;, score=0.782 total time=   0.0s\n",
      "[CV 5/5] END ...............................C=1;, score=0.782 total time=   0.0s\n",
      "[CV 1/5] END ..............................C=10;, score=0.797 total time=   0.0s\n",
      "[CV 2/5] END ..............................C=10;, score=0.804 total time=   0.0s\n",
      "[CV 3/5] END ..............................C=10;, score=0.754 total time=   0.0s\n",
      "[CV 4/5] END ..............................C=10;, score=0.782 total time=   0.0s\n",
      "[CV 5/5] END ..............................C=10;, score=0.782 total time=   0.0s\n",
      "[CV 1/5] END .............................C=100;, score=0.797 total time=   0.0s\n",
      "[CV 2/5] END .............................C=100;, score=0.804 total time=   0.0s\n",
      "[CV 3/5] END .............................C=100;, score=0.754 total time=   0.0s\n",
      "[CV 4/5] END .............................C=100;, score=0.782 total time=   0.0s\n",
      "[CV 5/5] END .............................C=100;, score=0.782 total time=   0.0s\n",
      "[CV 1/5] END .............................C=500;, score=0.797 total time=   0.0s\n",
      "[CV 2/5] END .............................C=500;, score=0.804 total time=   0.0s\n",
      "[CV 3/5] END .............................C=500;, score=0.754 total time=   0.0s\n",
      "[CV 4/5] END .............................C=500;, score=0.782 total time=   0.0s\n",
      "[CV 5/5] END .............................C=500;, score=0.782 total time=   0.0s\n"
     ]
    },
    {
     "data": {
      "text/html": [
       "<style>#sk-container-id-2 {color: black;background-color: white;}#sk-container-id-2 pre{padding: 0;}#sk-container-id-2 div.sk-toggleable {background-color: white;}#sk-container-id-2 label.sk-toggleable__label {cursor: pointer;display: block;width: 100%;margin-bottom: 0;padding: 0.3em;box-sizing: border-box;text-align: center;}#sk-container-id-2 label.sk-toggleable__label-arrow:before {content: \"▸\";float: left;margin-right: 0.25em;color: #696969;}#sk-container-id-2 label.sk-toggleable__label-arrow:hover:before {color: black;}#sk-container-id-2 div.sk-estimator:hover label.sk-toggleable__label-arrow:before {color: black;}#sk-container-id-2 div.sk-toggleable__content {max-height: 0;max-width: 0;overflow: hidden;text-align: left;background-color: #f0f8ff;}#sk-container-id-2 div.sk-toggleable__content pre {margin: 0.2em;color: black;border-radius: 0.25em;background-color: #f0f8ff;}#sk-container-id-2 input.sk-toggleable__control:checked~div.sk-toggleable__content {max-height: 200px;max-width: 100%;overflow: auto;}#sk-container-id-2 input.sk-toggleable__control:checked~label.sk-toggleable__label-arrow:before {content: \"▾\";}#sk-container-id-2 div.sk-estimator input.sk-toggleable__control:checked~label.sk-toggleable__label {background-color: #d4ebff;}#sk-container-id-2 div.sk-label input.sk-toggleable__control:checked~label.sk-toggleable__label {background-color: #d4ebff;}#sk-container-id-2 input.sk-hidden--visually {border: 0;clip: rect(1px 1px 1px 1px);clip: rect(1px, 1px, 1px, 1px);height: 1px;margin: -1px;overflow: hidden;padding: 0;position: absolute;width: 1px;}#sk-container-id-2 div.sk-estimator {font-family: monospace;background-color: #f0f8ff;border: 1px dotted black;border-radius: 0.25em;box-sizing: border-box;margin-bottom: 0.5em;}#sk-container-id-2 div.sk-estimator:hover {background-color: #d4ebff;}#sk-container-id-2 div.sk-parallel-item::after {content: \"\";width: 100%;border-bottom: 1px solid gray;flex-grow: 1;}#sk-container-id-2 div.sk-label:hover label.sk-toggleable__label {background-color: #d4ebff;}#sk-container-id-2 div.sk-serial::before {content: \"\";position: absolute;border-left: 1px solid gray;box-sizing: border-box;top: 0;bottom: 0;left: 50%;z-index: 0;}#sk-container-id-2 div.sk-serial {display: flex;flex-direction: column;align-items: center;background-color: white;padding-right: 0.2em;padding-left: 0.2em;position: relative;}#sk-container-id-2 div.sk-item {position: relative;z-index: 1;}#sk-container-id-2 div.sk-parallel {display: flex;align-items: stretch;justify-content: center;background-color: white;position: relative;}#sk-container-id-2 div.sk-item::before, #sk-container-id-2 div.sk-parallel-item::before {content: \"\";position: absolute;border-left: 1px solid gray;box-sizing: border-box;top: 0;bottom: 0;left: 50%;z-index: -1;}#sk-container-id-2 div.sk-parallel-item {display: flex;flex-direction: column;z-index: 1;position: relative;background-color: white;}#sk-container-id-2 div.sk-parallel-item:first-child::after {align-self: flex-end;width: 50%;}#sk-container-id-2 div.sk-parallel-item:last-child::after {align-self: flex-start;width: 50%;}#sk-container-id-2 div.sk-parallel-item:only-child::after {width: 0;}#sk-container-id-2 div.sk-dashed-wrapped {border: 1px dashed gray;margin: 0 0.4em 0.5em 0.4em;box-sizing: border-box;padding-bottom: 0.4em;background-color: white;}#sk-container-id-2 div.sk-label label {font-family: monospace;font-weight: bold;display: inline-block;line-height: 1.2em;}#sk-container-id-2 div.sk-label-container {text-align: center;}#sk-container-id-2 div.sk-container {/* jupyter's `normalize.less` sets `[hidden] { display: none; }` but bootstrap.min.css set `[hidden] { display: none !important; }` so we also need the `!important` here to be able to override the default hidden behavior on the sphinx rendered scikit-learn.org. See: https://github.com/scikit-learn/scikit-learn/issues/21755 */display: inline-block !important;position: relative;}#sk-container-id-2 div.sk-text-repr-fallback {display: none;}</style><div id=\"sk-container-id-2\" class=\"sk-top-container\"><div class=\"sk-text-repr-fallback\"><pre>GridSearchCV(estimator=LogisticRegression(),\n",
       "             param_grid={&#x27;C&#x27;: [0.001, 0.01, 0.1, 1, 10, 100, 500]},\n",
       "             scoring=&#x27;accuracy&#x27;, verbose=3)</pre><b>In a Jupyter environment, please rerun this cell to show the HTML representation or trust the notebook. <br />On GitHub, the HTML representation is unable to render, please try loading this page with nbviewer.org.</b></div><div class=\"sk-container\" hidden><div class=\"sk-item sk-dashed-wrapped\"><div class=\"sk-label-container\"><div class=\"sk-label sk-toggleable\"><input class=\"sk-toggleable__control sk-hidden--visually\" id=\"sk-estimator-id-2\" type=\"checkbox\" ><label for=\"sk-estimator-id-2\" class=\"sk-toggleable__label sk-toggleable__label-arrow\">GridSearchCV</label><div class=\"sk-toggleable__content\"><pre>GridSearchCV(estimator=LogisticRegression(),\n",
       "             param_grid={&#x27;C&#x27;: [0.001, 0.01, 0.1, 1, 10, 100, 500]},\n",
       "             scoring=&#x27;accuracy&#x27;, verbose=3)</pre></div></div></div><div class=\"sk-parallel\"><div class=\"sk-parallel-item\"><div class=\"sk-item\"><div class=\"sk-label-container\"><div class=\"sk-label sk-toggleable\"><input class=\"sk-toggleable__control sk-hidden--visually\" id=\"sk-estimator-id-3\" type=\"checkbox\" ><label for=\"sk-estimator-id-3\" class=\"sk-toggleable__label sk-toggleable__label-arrow\">estimator: LogisticRegression</label><div class=\"sk-toggleable__content\"><pre>LogisticRegression()</pre></div></div></div><div class=\"sk-serial\"><div class=\"sk-item\"><div class=\"sk-estimator sk-toggleable\"><input class=\"sk-toggleable__control sk-hidden--visually\" id=\"sk-estimator-id-4\" type=\"checkbox\" ><label for=\"sk-estimator-id-4\" class=\"sk-toggleable__label sk-toggleable__label-arrow\">LogisticRegression</label><div class=\"sk-toggleable__content\"><pre>LogisticRegression()</pre></div></div></div></div></div></div></div></div></div></div>"
      ],
      "text/plain": [
       "GridSearchCV(estimator=LogisticRegression(),\n",
       "             param_grid={'C': [0.001, 0.01, 0.1, 1, 10, 100, 500]},\n",
       "             scoring='accuracy', verbose=3)"
      ]
     },
     "execution_count": 106,
     "metadata": {},
     "output_type": "execute_result"
    }
   ],
   "source": [
    "gscv.fit(x_train,y_train)"
   ]
  },
  {
   "cell_type": "code",
   "execution_count": 107,
   "id": "edbbb827",
   "metadata": {},
   "outputs": [
    {
     "data": {
      "text/plain": [
       "0.7892642568698907"
      ]
     },
     "execution_count": 107,
     "metadata": {},
     "output_type": "execute_result"
    }
   ],
   "source": [
    "gscv.best_score_"
   ]
  },
  {
   "cell_type": "code",
   "execution_count": 108,
   "id": "c67d4734",
   "metadata": {},
   "outputs": [
    {
     "data": {
      "text/plain": [
       "{'C': 0.1}"
      ]
     },
     "execution_count": 108,
     "metadata": {},
     "output_type": "execute_result"
    }
   ],
   "source": [
    "gscv.best_params_ # c = 1/alpha"
   ]
  },
  {
   "cell_type": "code",
   "execution_count": 109,
   "id": "73f8bd15",
   "metadata": {},
   "outputs": [],
   "source": [
    "gscv = GridSearchCV(estimator=LogisticRegression(penalty='l1',solver='liblinear'),\n",
    "                   param_grid=params,\n",
    "                   scoring='accuracy',\n",
    "                   verbose=3)"
   ]
  },
  {
   "cell_type": "code",
   "execution_count": 110,
   "id": "37323565",
   "metadata": {
    "scrolled": true
   },
   "outputs": [
    {
     "name": "stdout",
     "output_type": "stream",
     "text": [
      "Fitting 5 folds for each of 7 candidates, totalling 35 fits\n",
      "[CV 1/5] END ...........................C=0.001;, score=0.671 total time=   0.0s\n",
      "[CV 2/5] END ...........................C=0.001;, score=0.650 total time=   0.0s\n",
      "[CV 3/5] END ...........................C=0.001;, score=0.648 total time=   0.0s\n",
      "[CV 4/5] END ...........................C=0.001;, score=0.711 total time=   0.0s\n",
      "[CV 5/5] END ...........................C=0.001;, score=0.662 total time=   0.0s\n",
      "[CV 1/5] END ............................C=0.01;, score=0.678 total time=   0.0s\n",
      "[CV 2/5] END ............................C=0.01;, score=0.664 total time=   0.0s\n",
      "[CV 3/5] END ............................C=0.01;, score=0.648 total time=   0.0s\n",
      "[CV 4/5] END ............................C=0.01;, score=0.718 total time=   0.0s\n",
      "[CV 5/5] END ............................C=0.01;, score=0.697 total time=   0.0s\n",
      "[CV 1/5] END .............................C=0.1;, score=0.790 total time=   0.0s\n",
      "[CV 2/5] END .............................C=0.1;, score=0.790 total time=   0.0s\n",
      "[CV 3/5] END .............................C=0.1;, score=0.775 total time=   0.0s\n",
      "[CV 4/5] END .............................C=0.1;, score=0.782 total time=   0.0s\n",
      "[CV 5/5] END .............................C=0.1;, score=0.789 total time=   0.0s\n",
      "[CV 1/5] END ...............................C=1;, score=0.797 total time=   0.0s\n",
      "[CV 2/5] END ...............................C=1;, score=0.804 total time=   0.0s\n",
      "[CV 3/5] END ...............................C=1;, score=0.761 total time=   0.0s\n",
      "[CV 4/5] END ...............................C=1;, score=0.782 total time=   0.0s\n",
      "[CV 5/5] END ...............................C=1;, score=0.782 total time=   0.0s\n",
      "[CV 1/5] END ..............................C=10;, score=0.797 total time=   0.0s\n",
      "[CV 2/5] END ..............................C=10;, score=0.804 total time=   0.0s\n",
      "[CV 3/5] END ..............................C=10;, score=0.754 total time=   0.0s\n",
      "[CV 4/5] END ..............................C=10;, score=0.782 total time=   0.0s\n",
      "[CV 5/5] END ..............................C=10;, score=0.782 total time=   0.0s\n",
      "[CV 1/5] END .............................C=100;, score=0.797 total time=   0.0s\n",
      "[CV 2/5] END .............................C=100;, score=0.804 total time=   0.0s\n",
      "[CV 3/5] END .............................C=100;, score=0.754 total time=   0.0s\n",
      "[CV 4/5] END .............................C=100;, score=0.782 total time=   0.0s\n",
      "[CV 5/5] END .............................C=100;, score=0.782 total time=   0.0s\n",
      "[CV 1/5] END .............................C=500;, score=0.797 total time=   0.0s\n",
      "[CV 2/5] END .............................C=500;, score=0.804 total time=   0.0s\n",
      "[CV 3/5] END .............................C=500;, score=0.754 total time=   0.0s\n",
      "[CV 4/5] END .............................C=500;, score=0.782 total time=   0.0s\n",
      "[CV 5/5] END .............................C=500;, score=0.782 total time=   0.0s\n"
     ]
    },
    {
     "data": {
      "text/html": [
       "<style>#sk-container-id-3 {color: black;background-color: white;}#sk-container-id-3 pre{padding: 0;}#sk-container-id-3 div.sk-toggleable {background-color: white;}#sk-container-id-3 label.sk-toggleable__label {cursor: pointer;display: block;width: 100%;margin-bottom: 0;padding: 0.3em;box-sizing: border-box;text-align: center;}#sk-container-id-3 label.sk-toggleable__label-arrow:before {content: \"▸\";float: left;margin-right: 0.25em;color: #696969;}#sk-container-id-3 label.sk-toggleable__label-arrow:hover:before {color: black;}#sk-container-id-3 div.sk-estimator:hover label.sk-toggleable__label-arrow:before {color: black;}#sk-container-id-3 div.sk-toggleable__content {max-height: 0;max-width: 0;overflow: hidden;text-align: left;background-color: #f0f8ff;}#sk-container-id-3 div.sk-toggleable__content pre {margin: 0.2em;color: black;border-radius: 0.25em;background-color: #f0f8ff;}#sk-container-id-3 input.sk-toggleable__control:checked~div.sk-toggleable__content {max-height: 200px;max-width: 100%;overflow: auto;}#sk-container-id-3 input.sk-toggleable__control:checked~label.sk-toggleable__label-arrow:before {content: \"▾\";}#sk-container-id-3 div.sk-estimator input.sk-toggleable__control:checked~label.sk-toggleable__label {background-color: #d4ebff;}#sk-container-id-3 div.sk-label input.sk-toggleable__control:checked~label.sk-toggleable__label {background-color: #d4ebff;}#sk-container-id-3 input.sk-hidden--visually {border: 0;clip: rect(1px 1px 1px 1px);clip: rect(1px, 1px, 1px, 1px);height: 1px;margin: -1px;overflow: hidden;padding: 0;position: absolute;width: 1px;}#sk-container-id-3 div.sk-estimator {font-family: monospace;background-color: #f0f8ff;border: 1px dotted black;border-radius: 0.25em;box-sizing: border-box;margin-bottom: 0.5em;}#sk-container-id-3 div.sk-estimator:hover {background-color: #d4ebff;}#sk-container-id-3 div.sk-parallel-item::after {content: \"\";width: 100%;border-bottom: 1px solid gray;flex-grow: 1;}#sk-container-id-3 div.sk-label:hover label.sk-toggleable__label {background-color: #d4ebff;}#sk-container-id-3 div.sk-serial::before {content: \"\";position: absolute;border-left: 1px solid gray;box-sizing: border-box;top: 0;bottom: 0;left: 50%;z-index: 0;}#sk-container-id-3 div.sk-serial {display: flex;flex-direction: column;align-items: center;background-color: white;padding-right: 0.2em;padding-left: 0.2em;position: relative;}#sk-container-id-3 div.sk-item {position: relative;z-index: 1;}#sk-container-id-3 div.sk-parallel {display: flex;align-items: stretch;justify-content: center;background-color: white;position: relative;}#sk-container-id-3 div.sk-item::before, #sk-container-id-3 div.sk-parallel-item::before {content: \"\";position: absolute;border-left: 1px solid gray;box-sizing: border-box;top: 0;bottom: 0;left: 50%;z-index: -1;}#sk-container-id-3 div.sk-parallel-item {display: flex;flex-direction: column;z-index: 1;position: relative;background-color: white;}#sk-container-id-3 div.sk-parallel-item:first-child::after {align-self: flex-end;width: 50%;}#sk-container-id-3 div.sk-parallel-item:last-child::after {align-self: flex-start;width: 50%;}#sk-container-id-3 div.sk-parallel-item:only-child::after {width: 0;}#sk-container-id-3 div.sk-dashed-wrapped {border: 1px dashed gray;margin: 0 0.4em 0.5em 0.4em;box-sizing: border-box;padding-bottom: 0.4em;background-color: white;}#sk-container-id-3 div.sk-label label {font-family: monospace;font-weight: bold;display: inline-block;line-height: 1.2em;}#sk-container-id-3 div.sk-label-container {text-align: center;}#sk-container-id-3 div.sk-container {/* jupyter's `normalize.less` sets `[hidden] { display: none; }` but bootstrap.min.css set `[hidden] { display: none !important; }` so we also need the `!important` here to be able to override the default hidden behavior on the sphinx rendered scikit-learn.org. See: https://github.com/scikit-learn/scikit-learn/issues/21755 */display: inline-block !important;position: relative;}#sk-container-id-3 div.sk-text-repr-fallback {display: none;}</style><div id=\"sk-container-id-3\" class=\"sk-top-container\"><div class=\"sk-text-repr-fallback\"><pre>GridSearchCV(estimator=LogisticRegression(penalty=&#x27;l1&#x27;, solver=&#x27;liblinear&#x27;),\n",
       "             param_grid={&#x27;C&#x27;: [0.001, 0.01, 0.1, 1, 10, 100, 500]},\n",
       "             scoring=&#x27;accuracy&#x27;, verbose=3)</pre><b>In a Jupyter environment, please rerun this cell to show the HTML representation or trust the notebook. <br />On GitHub, the HTML representation is unable to render, please try loading this page with nbviewer.org.</b></div><div class=\"sk-container\" hidden><div class=\"sk-item sk-dashed-wrapped\"><div class=\"sk-label-container\"><div class=\"sk-label sk-toggleable\"><input class=\"sk-toggleable__control sk-hidden--visually\" id=\"sk-estimator-id-5\" type=\"checkbox\" ><label for=\"sk-estimator-id-5\" class=\"sk-toggleable__label sk-toggleable__label-arrow\">GridSearchCV</label><div class=\"sk-toggleable__content\"><pre>GridSearchCV(estimator=LogisticRegression(penalty=&#x27;l1&#x27;, solver=&#x27;liblinear&#x27;),\n",
       "             param_grid={&#x27;C&#x27;: [0.001, 0.01, 0.1, 1, 10, 100, 500]},\n",
       "             scoring=&#x27;accuracy&#x27;, verbose=3)</pre></div></div></div><div class=\"sk-parallel\"><div class=\"sk-parallel-item\"><div class=\"sk-item\"><div class=\"sk-label-container\"><div class=\"sk-label sk-toggleable\"><input class=\"sk-toggleable__control sk-hidden--visually\" id=\"sk-estimator-id-6\" type=\"checkbox\" ><label for=\"sk-estimator-id-6\" class=\"sk-toggleable__label sk-toggleable__label-arrow\">estimator: LogisticRegression</label><div class=\"sk-toggleable__content\"><pre>LogisticRegression(penalty=&#x27;l1&#x27;, solver=&#x27;liblinear&#x27;)</pre></div></div></div><div class=\"sk-serial\"><div class=\"sk-item\"><div class=\"sk-estimator sk-toggleable\"><input class=\"sk-toggleable__control sk-hidden--visually\" id=\"sk-estimator-id-7\" type=\"checkbox\" ><label for=\"sk-estimator-id-7\" class=\"sk-toggleable__label sk-toggleable__label-arrow\">LogisticRegression</label><div class=\"sk-toggleable__content\"><pre>LogisticRegression(penalty=&#x27;l1&#x27;, solver=&#x27;liblinear&#x27;)</pre></div></div></div></div></div></div></div></div></div></div>"
      ],
      "text/plain": [
       "GridSearchCV(estimator=LogisticRegression(penalty='l1', solver='liblinear'),\n",
       "             param_grid={'C': [0.001, 0.01, 0.1, 1, 10, 100, 500]},\n",
       "             scoring='accuracy', verbose=3)"
      ]
     },
     "execution_count": 110,
     "metadata": {},
     "output_type": "execute_result"
    }
   ],
   "source": [
    "gscv.fit(x_train,y_train)"
   ]
  },
  {
   "cell_type": "code",
   "execution_count": 111,
   "id": "643c50a0",
   "metadata": {},
   "outputs": [
    {
     "data": {
      "text/plain": [
       "0.7850980005909582"
      ]
     },
     "execution_count": 111,
     "metadata": {},
     "output_type": "execute_result"
    }
   ],
   "source": [
    "gscv.best_score_"
   ]
  },
  {
   "cell_type": "code",
   "execution_count": 112,
   "id": "e87333ee",
   "metadata": {},
   "outputs": [
    {
     "data": {
      "text/plain": [
       "{'C': 0.1}"
      ]
     },
     "execution_count": 112,
     "metadata": {},
     "output_type": "execute_result"
    }
   ],
   "source": [
    "gscv.best_params_"
   ]
  },
  {
   "cell_type": "markdown",
   "id": "eea97c2c",
   "metadata": {},
   "source": [
    "# Navie Bayes"
   ]
  },
  {
   "cell_type": "code",
   "execution_count": 113,
   "id": "bdb6265b",
   "metadata": {},
   "outputs": [],
   "source": [
    "from sklearn.naive_bayes import GaussianNB"
   ]
  },
  {
   "cell_type": "code",
   "execution_count": 114,
   "id": "447b8d26",
   "metadata": {},
   "outputs": [],
   "source": [
    "model_nb = GaussianNB()"
   ]
  },
  {
   "cell_type": "code",
   "execution_count": 115,
   "id": "d85fe82f",
   "metadata": {},
   "outputs": [
    {
     "data": {
      "text/html": [
       "<style>#sk-container-id-4 {color: black;background-color: white;}#sk-container-id-4 pre{padding: 0;}#sk-container-id-4 div.sk-toggleable {background-color: white;}#sk-container-id-4 label.sk-toggleable__label {cursor: pointer;display: block;width: 100%;margin-bottom: 0;padding: 0.3em;box-sizing: border-box;text-align: center;}#sk-container-id-4 label.sk-toggleable__label-arrow:before {content: \"▸\";float: left;margin-right: 0.25em;color: #696969;}#sk-container-id-4 label.sk-toggleable__label-arrow:hover:before {color: black;}#sk-container-id-4 div.sk-estimator:hover label.sk-toggleable__label-arrow:before {color: black;}#sk-container-id-4 div.sk-toggleable__content {max-height: 0;max-width: 0;overflow: hidden;text-align: left;background-color: #f0f8ff;}#sk-container-id-4 div.sk-toggleable__content pre {margin: 0.2em;color: black;border-radius: 0.25em;background-color: #f0f8ff;}#sk-container-id-4 input.sk-toggleable__control:checked~div.sk-toggleable__content {max-height: 200px;max-width: 100%;overflow: auto;}#sk-container-id-4 input.sk-toggleable__control:checked~label.sk-toggleable__label-arrow:before {content: \"▾\";}#sk-container-id-4 div.sk-estimator input.sk-toggleable__control:checked~label.sk-toggleable__label {background-color: #d4ebff;}#sk-container-id-4 div.sk-label input.sk-toggleable__control:checked~label.sk-toggleable__label {background-color: #d4ebff;}#sk-container-id-4 input.sk-hidden--visually {border: 0;clip: rect(1px 1px 1px 1px);clip: rect(1px, 1px, 1px, 1px);height: 1px;margin: -1px;overflow: hidden;padding: 0;position: absolute;width: 1px;}#sk-container-id-4 div.sk-estimator {font-family: monospace;background-color: #f0f8ff;border: 1px dotted black;border-radius: 0.25em;box-sizing: border-box;margin-bottom: 0.5em;}#sk-container-id-4 div.sk-estimator:hover {background-color: #d4ebff;}#sk-container-id-4 div.sk-parallel-item::after {content: \"\";width: 100%;border-bottom: 1px solid gray;flex-grow: 1;}#sk-container-id-4 div.sk-label:hover label.sk-toggleable__label {background-color: #d4ebff;}#sk-container-id-4 div.sk-serial::before {content: \"\";position: absolute;border-left: 1px solid gray;box-sizing: border-box;top: 0;bottom: 0;left: 50%;z-index: 0;}#sk-container-id-4 div.sk-serial {display: flex;flex-direction: column;align-items: center;background-color: white;padding-right: 0.2em;padding-left: 0.2em;position: relative;}#sk-container-id-4 div.sk-item {position: relative;z-index: 1;}#sk-container-id-4 div.sk-parallel {display: flex;align-items: stretch;justify-content: center;background-color: white;position: relative;}#sk-container-id-4 div.sk-item::before, #sk-container-id-4 div.sk-parallel-item::before {content: \"\";position: absolute;border-left: 1px solid gray;box-sizing: border-box;top: 0;bottom: 0;left: 50%;z-index: -1;}#sk-container-id-4 div.sk-parallel-item {display: flex;flex-direction: column;z-index: 1;position: relative;background-color: white;}#sk-container-id-4 div.sk-parallel-item:first-child::after {align-self: flex-end;width: 50%;}#sk-container-id-4 div.sk-parallel-item:last-child::after {align-self: flex-start;width: 50%;}#sk-container-id-4 div.sk-parallel-item:only-child::after {width: 0;}#sk-container-id-4 div.sk-dashed-wrapped {border: 1px dashed gray;margin: 0 0.4em 0.5em 0.4em;box-sizing: border-box;padding-bottom: 0.4em;background-color: white;}#sk-container-id-4 div.sk-label label {font-family: monospace;font-weight: bold;display: inline-block;line-height: 1.2em;}#sk-container-id-4 div.sk-label-container {text-align: center;}#sk-container-id-4 div.sk-container {/* jupyter's `normalize.less` sets `[hidden] { display: none; }` but bootstrap.min.css set `[hidden] { display: none !important; }` so we also need the `!important` here to be able to override the default hidden behavior on the sphinx rendered scikit-learn.org. See: https://github.com/scikit-learn/scikit-learn/issues/21755 */display: inline-block !important;position: relative;}#sk-container-id-4 div.sk-text-repr-fallback {display: none;}</style><div id=\"sk-container-id-4\" class=\"sk-top-container\"><div class=\"sk-text-repr-fallback\"><pre>GaussianNB()</pre><b>In a Jupyter environment, please rerun this cell to show the HTML representation or trust the notebook. <br />On GitHub, the HTML representation is unable to render, please try loading this page with nbviewer.org.</b></div><div class=\"sk-container\" hidden><div class=\"sk-item\"><div class=\"sk-estimator sk-toggleable\"><input class=\"sk-toggleable__control sk-hidden--visually\" id=\"sk-estimator-id-8\" type=\"checkbox\" checked><label for=\"sk-estimator-id-8\" class=\"sk-toggleable__label sk-toggleable__label-arrow\">GaussianNB</label><div class=\"sk-toggleable__content\"><pre>GaussianNB()</pre></div></div></div></div></div>"
      ],
      "text/plain": [
       "GaussianNB()"
      ]
     },
     "execution_count": 115,
     "metadata": {},
     "output_type": "execute_result"
    }
   ],
   "source": [
    "model_nb.fit(x_train,y_train)"
   ]
  },
  {
   "cell_type": "code",
   "execution_count": 116,
   "id": "f9bc4d66",
   "metadata": {},
   "outputs": [],
   "source": [
    "y_pred_nb = model_nb.predict(x_test)"
   ]
  },
  {
   "cell_type": "code",
   "execution_count": 117,
   "id": "86399733",
   "metadata": {},
   "outputs": [
    {
     "data": {
      "text/plain": [
       "array([0, 1, 0, 0, 1, 0, 1, 1, 0, 0, 0, 1, 0, 0, 1, 1, 0, 0, 0, 0, 0, 0,\n",
       "       0, 1, 1, 1, 0, 1, 1, 0, 0, 1, 0, 1, 0, 1, 1, 1, 0, 0, 0, 1, 0, 1,\n",
       "       1, 1, 0, 0, 0, 1, 0, 0, 0, 0, 1, 1, 1, 0, 0, 0, 0, 0, 1, 0, 1, 1,\n",
       "       0, 0, 1, 0, 1, 0, 1, 0, 1, 0, 1, 0, 1, 1, 0, 1, 1, 0, 0, 0, 0, 0,\n",
       "       0, 1, 0, 0, 0, 1, 1, 0, 0, 1, 0, 1, 0, 1, 0, 1, 0, 1, 0, 1, 0, 0,\n",
       "       0, 0, 0, 1, 1, 0, 1, 1, 1, 0, 0, 0, 0, 1, 1, 0, 0, 1, 0, 0, 1, 0,\n",
       "       0, 0, 1, 0, 0, 0, 0, 0, 0, 0, 0, 0, 0, 1, 0, 0, 0, 0, 0, 1, 0, 0,\n",
       "       0, 0, 0, 0, 0, 0, 1, 1, 0, 0, 1, 0, 0, 1, 0, 1, 1, 0, 0, 0, 0, 0,\n",
       "       0, 0, 0], dtype=int64)"
      ]
     },
     "execution_count": 117,
     "metadata": {},
     "output_type": "execute_result"
    }
   ],
   "source": [
    "y_pred_nb"
   ]
  },
  {
   "cell_type": "code",
   "execution_count": 118,
   "id": "a8297f2e",
   "metadata": {},
   "outputs": [
    {
     "data": {
      "text/html": [
       "<div>\n",
       "<style scoped>\n",
       "    .dataframe tbody tr th:only-of-type {\n",
       "        vertical-align: middle;\n",
       "    }\n",
       "\n",
       "    .dataframe tbody tr th {\n",
       "        vertical-align: top;\n",
       "    }\n",
       "\n",
       "    .dataframe thead th {\n",
       "        text-align: right;\n",
       "    }\n",
       "</style>\n",
       "<table border=\"1\" class=\"dataframe\">\n",
       "  <thead>\n",
       "    <tr style=\"text-align: right;\">\n",
       "      <th></th>\n",
       "      <th>Actual Y</th>\n",
       "      <th>Pred LR</th>\n",
       "      <th>Pred NB</th>\n",
       "    </tr>\n",
       "  </thead>\n",
       "  <tbody>\n",
       "    <tr>\n",
       "      <th>90</th>\n",
       "      <td>0</td>\n",
       "      <td>0</td>\n",
       "      <td>0</td>\n",
       "    </tr>\n",
       "    <tr>\n",
       "      <th>736</th>\n",
       "      <td>0</td>\n",
       "      <td>0</td>\n",
       "      <td>1</td>\n",
       "    </tr>\n",
       "    <tr>\n",
       "      <th>48</th>\n",
       "      <td>0</td>\n",
       "      <td>0</td>\n",
       "      <td>0</td>\n",
       "    </tr>\n",
       "    <tr>\n",
       "      <th>783</th>\n",
       "      <td>0</td>\n",
       "      <td>0</td>\n",
       "      <td>0</td>\n",
       "    </tr>\n",
       "    <tr>\n",
       "      <th>404</th>\n",
       "      <td>0</td>\n",
       "      <td>1</td>\n",
       "      <td>1</td>\n",
       "    </tr>\n",
       "    <tr>\n",
       "      <th>884</th>\n",
       "      <td>0</td>\n",
       "      <td>0</td>\n",
       "      <td>0</td>\n",
       "    </tr>\n",
       "    <tr>\n",
       "      <th>865</th>\n",
       "      <td>1</td>\n",
       "      <td>1</td>\n",
       "      <td>1</td>\n",
       "    </tr>\n",
       "    <tr>\n",
       "      <th>796</th>\n",
       "      <td>1</td>\n",
       "      <td>1</td>\n",
       "      <td>1</td>\n",
       "    </tr>\n",
       "    <tr>\n",
       "      <th>819</th>\n",
       "      <td>0</td>\n",
       "      <td>0</td>\n",
       "      <td>0</td>\n",
       "    </tr>\n",
       "    <tr>\n",
       "      <th>75</th>\n",
       "      <td>0</td>\n",
       "      <td>0</td>\n",
       "      <td>0</td>\n",
       "    </tr>\n",
       "    <tr>\n",
       "      <th>428</th>\n",
       "      <td>0</td>\n",
       "      <td>0</td>\n",
       "      <td>0</td>\n",
       "    </tr>\n",
       "    <tr>\n",
       "      <th>322</th>\n",
       "      <td>1</td>\n",
       "      <td>1</td>\n",
       "      <td>1</td>\n",
       "    </tr>\n",
       "    <tr>\n",
       "      <th>616</th>\n",
       "      <td>0</td>\n",
       "      <td>0</td>\n",
       "      <td>0</td>\n",
       "    </tr>\n",
       "    <tr>\n",
       "      <th>661</th>\n",
       "      <td>0</td>\n",
       "      <td>0</td>\n",
       "      <td>0</td>\n",
       "    </tr>\n",
       "    <tr>\n",
       "      <th>136</th>\n",
       "      <td>1</td>\n",
       "      <td>1</td>\n",
       "      <td>1</td>\n",
       "    </tr>\n",
       "    <tr>\n",
       "      <th>523</th>\n",
       "      <td>1</td>\n",
       "      <td>1</td>\n",
       "      <td>1</td>\n",
       "    </tr>\n",
       "    <tr>\n",
       "      <th>418</th>\n",
       "      <td>0</td>\n",
       "      <td>0</td>\n",
       "      <td>0</td>\n",
       "    </tr>\n",
       "    <tr>\n",
       "      <th>834</th>\n",
       "      <td>0</td>\n",
       "      <td>0</td>\n",
       "      <td>0</td>\n",
       "    </tr>\n",
       "    <tr>\n",
       "      <th>157</th>\n",
       "      <td>0</td>\n",
       "      <td>0</td>\n",
       "      <td>0</td>\n",
       "    </tr>\n",
       "    <tr>\n",
       "      <th>146</th>\n",
       "      <td>1</td>\n",
       "      <td>0</td>\n",
       "      <td>0</td>\n",
       "    </tr>\n",
       "  </tbody>\n",
       "</table>\n",
       "</div>"
      ],
      "text/plain": [
       "     Actual Y  Pred LR  Pred NB\n",
       "90          0        0        0\n",
       "736         0        0        1\n",
       "48          0        0        0\n",
       "783         0        0        0\n",
       "404         0        1        1\n",
       "884         0        0        0\n",
       "865         1        1        1\n",
       "796         1        1        1\n",
       "819         0        0        0\n",
       "75          0        0        0\n",
       "428         0        0        0\n",
       "322         1        1        1\n",
       "616         0        0        0\n",
       "661         0        0        0\n",
       "136         1        1        1\n",
       "523         1        1        1\n",
       "418         0        0        0\n",
       "834         0        0        0\n",
       "157         0        0        0\n",
       "146         1        0        0"
      ]
     },
     "execution_count": 118,
     "metadata": {},
     "output_type": "execute_result"
    }
   ],
   "source": [
    "pd.DataFrame({'Actual Y':y_test,'Pred LR':y_pred,'Pred NB':y_pred_nb}).head(20)"
   ]
  },
  {
   "cell_type": "code",
   "execution_count": 119,
   "id": "b635b0bd",
   "metadata": {},
   "outputs": [
    {
     "name": "stdout",
     "output_type": "stream",
     "text": [
      "confusion Matrix:\n",
      " [[94 16]\n",
      " [21 48]]\n",
      "Acuracy: 0.7932960893854749\n",
      "Recall: 0.6956521739130435\n",
      "Precision: 0.75\n",
      "F1 Score: 0.7218045112781954\n"
     ]
    }
   ],
   "source": [
    "validation(y_test,y_pred_nb)"
   ]
  },
  {
   "cell_type": "code",
   "execution_count": 120,
   "id": "78034ff7",
   "metadata": {},
   "outputs": [
    {
     "name": "stdout",
     "output_type": "stream",
     "text": [
      "confusion Matrix:\n",
      " [[94 16]\n",
      " [22 47]]\n",
      "Acuracy: 0.7877094972067039\n",
      "Recall: 0.6811594202898551\n",
      "Precision: 0.746031746031746\n",
      "F1 Score: 0.7121212121212122\n"
     ]
    }
   ],
   "source": [
    "validation(y_test,y_pred)"
   ]
  },
  {
   "cell_type": "code",
   "execution_count": 121,
   "id": "a2fcd4c4",
   "metadata": {},
   "outputs": [],
   "source": [
    "# soft predictions\n",
    "y_pred_nb_soft = model_nb.predict_proba(x_test)"
   ]
  },
  {
   "cell_type": "code",
   "execution_count": 122,
   "id": "7262b5b2",
   "metadata": {
    "scrolled": true
   },
   "outputs": [
    {
     "data": {
      "text/plain": [
       "array([7.67750443e-02, 8.29179171e-01, 6.51321842e-02, 1.01817889e-01,\n",
       "       8.02055747e-01, 8.06933511e-02, 7.72249903e-01, 8.12629627e-01,\n",
       "       4.14768181e-03, 8.07173301e-02, 1.89605136e-01, 9.06965181e-01,\n",
       "       8.78187028e-02, 1.79994810e-01, 8.61716865e-01, 9.81436798e-01,\n",
       "       7.75060538e-02, 9.18944034e-02, 7.60154087e-02, 7.85475544e-02,\n",
       "       1.58387229e-01, 8.14353311e-02, 7.47489113e-02, 7.95935763e-01,\n",
       "       9.93686930e-01, 8.08837952e-01, 2.10960310e-01, 8.39609056e-01,\n",
       "       9.04723854e-01, 8.05479311e-02, 1.89538681e-01, 7.95913761e-01,\n",
       "       1.77852271e-01, 7.78608810e-01, 1.14070049e-01, 8.03684886e-01,\n",
       "       7.01989475e-01, 8.27401493e-01, 1.89538929e-01, 2.52481303e-01,\n",
       "       1.89913076e-01, 9.16772972e-01, 1.04723728e-01, 9.22213287e-01,\n",
       "       9.91530680e-01, 9.35993586e-01, 2.05170494e-01, 9.07934545e-02,\n",
       "       9.53629718e-02, 7.78208889e-01, 8.06978752e-02, 7.32179146e-02,\n",
       "       4.79562349e-01, 7.92155114e-02, 7.79055666e-01, 9.24760101e-01,\n",
       "       9.94434271e-01, 8.01061802e-02, 8.47511938e-02, 2.15332617e-02,\n",
       "       9.36329762e-02, 2.08423271e-01, 7.82274988e-01, 2.17736634e-01,\n",
       "       8.91954681e-01, 9.94314886e-01, 2.12019007e-01, 7.53214992e-02,\n",
       "       8.99575692e-01, 1.40669993e-01, 9.59156115e-01, 1.89913331e-01,\n",
       "       9.99605927e-01, 9.61678823e-02, 7.88251857e-01, 2.11962017e-01,\n",
       "       9.77876953e-01, 8.47912363e-02, 8.16020312e-01, 7.95157913e-01,\n",
       "       2.16419331e-01, 7.97581074e-01, 8.17402805e-01, 1.88974093e-01,\n",
       "       1.14982442e-01, 9.64034589e-02, 1.88274427e-01, 2.70089862e-01,\n",
       "       8.47728941e-02, 7.49821103e-01, 7.47489113e-02, 7.48575166e-02,\n",
       "       1.52983908e-01, 8.39801211e-01, 9.31794038e-01, 8.80202825e-02,\n",
       "       7.46976908e-02, 9.11996135e-01, 8.63839691e-02, 8.13540680e-01,\n",
       "       2.46739218e-14, 9.98013404e-01, 9.83515163e-02, 9.07446062e-01,\n",
       "       9.53535203e-02, 8.10866774e-01, 7.69803589e-02, 9.99801212e-01,\n",
       "       7.47431858e-02, 8.19941305e-02, 2.87663049e-02, 8.17844055e-02,\n",
       "       7.45246372e-02, 9.99831453e-01, 8.37245370e-01, 7.53332327e-02,\n",
       "       9.17429634e-01, 7.73671963e-01, 9.96901104e-01, 7.47752060e-02,\n",
       "       8.80694177e-02, 2.26780548e-01, 7.76256360e-02, 9.07446062e-01,\n",
       "       9.96108292e-01, 1.09477523e-04, 2.47735367e-01, 7.79089284e-01,\n",
       "       7.81162053e-02, 7.41079115e-02, 8.27090991e-01, 8.23258981e-02,\n",
       "       7.72606884e-02, 2.48295762e-01, 7.98406246e-01, 8.98907683e-02,\n",
       "       1.07872485e-01, 7.45786754e-02, 7.29662213e-02, 7.78547764e-02,\n",
       "       9.97865568e-02, 9.97865568e-02, 8.63839691e-02, 1.21281890e-01,\n",
       "       5.97062562e-03, 7.79089284e-01, 9.90303585e-02, 1.67464851e-01,\n",
       "       9.53535203e-02, 1.84692046e-01, 1.93264324e-04, 9.95310498e-01,\n",
       "       1.09412411e-01, 1.00528459e-01, 3.87968306e-01, 7.69982733e-02,\n",
       "       1.88171879e-01, 7.95770865e-02, 1.83427751e-01, 1.99445416e-01,\n",
       "       6.78004474e-01, 9.99724194e-01, 7.78547764e-02, 2.28104850e-01,\n",
       "       9.67320713e-01, 8.01061802e-02, 8.47825599e-02, 7.88683517e-01,\n",
       "       1.89605136e-01, 7.75503763e-01, 9.07446062e-01, 7.83416397e-02,\n",
       "       2.61572018e-01, 7.36739249e-02, 5.88797129e-16, 8.19360085e-02,\n",
       "       8.63278380e-02, 9.03582741e-02, 1.89913076e-01])"
      ]
     },
     "execution_count": 122,
     "metadata": {},
     "output_type": "execute_result"
    }
   ],
   "source": [
    "y_pred_nb_soft[:,1]"
   ]
  },
  {
   "cell_type": "code",
   "execution_count": 123,
   "id": "3fac51bd",
   "metadata": {},
   "outputs": [],
   "source": [
    "fpr_nb,tpr_nb,thres_nb = roc_curve(y_test,y_pred_nb_soft[:,1])"
   ]
  },
  {
   "cell_type": "code",
   "execution_count": 124,
   "id": "eb54e9a1",
   "metadata": {},
   "outputs": [
    {
     "name": "stdout",
     "output_type": "stream",
     "text": [
      "Area under the curve LR:  0.8270750988142292\n",
      "Area under the curve NB:  0.8199604743083004\n"
     ]
    },
    {
     "data": {
      "image/png": "[encoded data removed]",
      "text/plain": [
       "<Figure size 432x288 with 1 Axes>"
      ]
     },
     "metadata": {
      "needs_background": "light"
     },
     "output_type": "display_data"
    }
   ],
   "source": [
    "plt.plot(fpr,tpr)\n",
    "plt.plot(fpr_nb,tpr_nb)\n",
    "\n",
    "plt.xlabel('FPR')\n",
    "plt.ylabel('TPR')\n",
    "plt.title('ROC curve')\n",
    "plt.legend(['LR','NB'])\n",
    "print('Area under the curve LR: ',roc_auc_score(y_test,y_pred_soft[:,1]))\n",
    "print('Area under the curve NB: ',roc_auc_score(y_test,y_pred_nb_soft[:,1]))\n",
    "\n",
    "plt.show()"
   ]
  },
  {
   "cell_type": "markdown",
   "id": "a0a4e093",
   "metadata": {},
   "source": [
    "# Descision Tree"
   ]
  },
  {
   "cell_type": "code",
   "execution_count": 125,
   "id": "d4bf2cc2",
   "metadata": {},
   "outputs": [],
   "source": [
    "from sklearn.tree import DecisionTreeClassifier"
   ]
  },
  {
   "cell_type": "code",
   "execution_count": 126,
   "id": "bd13e5a2",
   "metadata": {},
   "outputs": [],
   "source": [
    "model_dt = DecisionTreeClassifier()"
   ]
  },
  {
   "cell_type": "code",
   "execution_count": 127,
   "id": "9ab10f6a",
   "metadata": {},
   "outputs": [],
   "source": [
    "param = {'criterion':['gini','entropy'],\n",
    "        'max_depth':[3,4,5,6]}"
   ]
  },
  {
   "cell_type": "code",
   "execution_count": 128,
   "id": "7a8f46f0",
   "metadata": {},
   "outputs": [],
   "source": [
    "gscv = GridSearchCV(estimator=model_dt,\n",
    "                   param_grid=param,\n",
    "                   scoring='accuracy',\n",
    "                   verbose=3)"
   ]
  },
  {
   "cell_type": "code",
   "execution_count": 129,
   "id": "ed1e605d",
   "metadata": {
    "scrolled": true
   },
   "outputs": [
    {
     "name": "stdout",
     "output_type": "stream",
     "text": [
      "Fitting 5 folds for each of 8 candidates, totalling 40 fits\n",
      "[CV 1/5] END .......criterion=gini, max_depth=3;, score=0.811 total time=   0.0s\n",
      "[CV 2/5] END .......criterion=gini, max_depth=3;, score=0.804 total time=   0.0s\n",
      "[CV 3/5] END .......criterion=gini, max_depth=3;, score=0.789 total time=   0.0s\n",
      "[CV 4/5] END .......criterion=gini, max_depth=3;, score=0.768 total time=   0.0s\n",
      "[CV 5/5] END .......criterion=gini, max_depth=3;, score=0.803 total time=   0.0s\n",
      "[CV 1/5] END .......criterion=gini, max_depth=4;, score=0.825 total time=   0.0s\n",
      "[CV 2/5] END .......criterion=gini, max_depth=4;, score=0.811 total time=   0.0s\n",
      "[CV 3/5] END .......criterion=gini, max_depth=4;, score=0.803 total time=   0.0s\n",
      "[CV 4/5] END .......criterion=gini, max_depth=4;, score=0.803 total time=   0.0s\n",
      "[CV 5/5] END .......criterion=gini, max_depth=4;, score=0.810 total time=   0.0s\n",
      "[CV 1/5] END .......criterion=gini, max_depth=5;, score=0.818 total time=   0.0s\n",
      "[CV 2/5] END .......criterion=gini, max_depth=5;, score=0.818 total time=   0.0s\n",
      "[CV 3/5] END .......criterion=gini, max_depth=5;, score=0.803 total time=   0.0s\n",
      "[CV 4/5] END .......criterion=gini, max_depth=5;, score=0.796 total time=   0.0s\n",
      "[CV 5/5] END .......criterion=gini, max_depth=5;, score=0.824 total time=   0.0s\n",
      "[CV 1/5] END .......criterion=gini, max_depth=6;, score=0.832 total time=   0.0s\n",
      "[CV 2/5] END .......criterion=gini, max_depth=6;, score=0.811 total time=   0.0s\n",
      "[CV 3/5] END .......criterion=gini, max_depth=6;, score=0.789 total time=   0.0s\n",
      "[CV 4/5] END .......criterion=gini, max_depth=6;, score=0.810 total time=   0.0s\n",
      "[CV 5/5] END .......criterion=gini, max_depth=6;, score=0.803 total time=   0.0s\n",
      "[CV 1/5] END ....criterion=entropy, max_depth=3;, score=0.818 total time=   0.0s\n",
      "[CV 2/5] END ....criterion=entropy, max_depth=3;, score=0.811 total time=   0.0s\n",
      "[CV 3/5] END ....criterion=entropy, max_depth=3;, score=0.789 total time=   0.0s\n",
      "[CV 4/5] END ....criterion=entropy, max_depth=3;, score=0.746 total time=   0.0s\n",
      "[CV 5/5] END ....criterion=entropy, max_depth=3;, score=0.803 total time=   0.0s\n",
      "[CV 1/5] END ....criterion=entropy, max_depth=4;, score=0.825 total time=   0.0s\n",
      "[CV 2/5] END ....criterion=entropy, max_depth=4;, score=0.825 total time=   0.0s\n",
      "[CV 3/5] END ....criterion=entropy, max_depth=4;, score=0.803 total time=   0.0s\n",
      "[CV 4/5] END ....criterion=entropy, max_depth=4;, score=0.775 total time=   0.0s\n",
      "[CV 5/5] END ....criterion=entropy, max_depth=4;, score=0.810 total time=   0.0s\n",
      "[CV 1/5] END ....criterion=entropy, max_depth=5;, score=0.818 total time=   0.0s\n",
      "[CV 2/5] END ....criterion=entropy, max_depth=5;, score=0.818 total time=   0.0s\n",
      "[CV 3/5] END ....criterion=entropy, max_depth=5;, score=0.817 total time=   0.0s\n",
      "[CV 4/5] END ....criterion=entropy, max_depth=5;, score=0.789 total time=   0.0s\n",
      "[CV 5/5] END ....criterion=entropy, max_depth=5;, score=0.824 total time=   0.0s\n",
      "[CV 1/5] END ....criterion=entropy, max_depth=6;, score=0.846 total time=   0.0s\n",
      "[CV 2/5] END ....criterion=entropy, max_depth=6;, score=0.804 total time=   0.0s\n",
      "[CV 3/5] END ....criterion=entropy, max_depth=6;, score=0.810 total time=   0.0s\n",
      "[CV 4/5] END ....criterion=entropy, max_depth=6;, score=0.796 total time=   0.0s\n",
      "[CV 5/5] END ....criterion=entropy, max_depth=6;, score=0.810 total time=   0.0s\n"
     ]
    },
    {
     "data": {
      "text/html": [
       "<style>#sk-container-id-5 {color: black;background-color: white;}#sk-container-id-5 pre{padding: 0;}#sk-container-id-5 div.sk-toggleable {background-color: white;}#sk-container-id-5 label.sk-toggleable__label {cursor: pointer;display: block;width: 100%;margin-bottom: 0;padding: 0.3em;box-sizing: border-box;text-align: center;}#sk-container-id-5 label.sk-toggleable__label-arrow:before {content: \"▸\";float: left;margin-right: 0.25em;color: #696969;}#sk-container-id-5 label.sk-toggleable__label-arrow:hover:before {color: black;}#sk-container-id-5 div.sk-estimator:hover label.sk-toggleable__label-arrow:before {color: black;}#sk-container-id-5 div.sk-toggleable__content {max-height: 0;max-width: 0;overflow: hidden;text-align: left;background-color: #f0f8ff;}#sk-container-id-5 div.sk-toggleable__content pre {margin: 0.2em;color: black;border-radius: 0.25em;background-color: #f0f8ff;}#sk-container-id-5 input.sk-toggleable__control:checked~div.sk-toggleable__content {max-height: 200px;max-width: 100%;overflow: auto;}#sk-container-id-5 input.sk-toggleable__control:checked~label.sk-toggleable__label-arrow:before {content: \"▾\";}#sk-container-id-5 div.sk-estimator input.sk-toggleable__control:checked~label.sk-toggleable__label {background-color: #d4ebff;}#sk-container-id-5 div.sk-label input.sk-toggleable__control:checked~label.sk-toggleable__label {background-color: #d4ebff;}#sk-container-id-5 input.sk-hidden--visually {border: 0;clip: rect(1px 1px 1px 1px);clip: rect(1px, 1px, 1px, 1px);height: 1px;margin: -1px;overflow: hidden;padding: 0;position: absolute;width: 1px;}#sk-container-id-5 div.sk-estimator {font-family: monospace;background-color: #f0f8ff;border: 1px dotted black;border-radius: 0.25em;box-sizing: border-box;margin-bottom: 0.5em;}#sk-container-id-5 div.sk-estimator:hover {background-color: #d4ebff;}#sk-container-id-5 div.sk-parallel-item::after {content: \"\";width: 100%;border-bottom: 1px solid gray;flex-grow: 1;}#sk-container-id-5 div.sk-label:hover label.sk-toggleable__label {background-color: #d4ebff;}#sk-container-id-5 div.sk-serial::before {content: \"\";position: absolute;border-left: 1px solid gray;box-sizing: border-box;top: 0;bottom: 0;left: 50%;z-index: 0;}#sk-container-id-5 div.sk-serial {display: flex;flex-direction: column;align-items: center;background-color: white;padding-right: 0.2em;padding-left: 0.2em;position: relative;}#sk-container-id-5 div.sk-item {position: relative;z-index: 1;}#sk-container-id-5 div.sk-parallel {display: flex;align-items: stretch;justify-content: center;background-color: white;position: relative;}#sk-container-id-5 div.sk-item::before, #sk-container-id-5 div.sk-parallel-item::before {content: \"\";position: absolute;border-left: 1px solid gray;box-sizing: border-box;top: 0;bottom: 0;left: 50%;z-index: -1;}#sk-container-id-5 div.sk-parallel-item {display: flex;flex-direction: column;z-index: 1;position: relative;background-color: white;}#sk-container-id-5 div.sk-parallel-item:first-child::after {align-self: flex-end;width: 50%;}#sk-container-id-5 div.sk-parallel-item:last-child::after {align-self: flex-start;width: 50%;}#sk-container-id-5 div.sk-parallel-item:only-child::after {width: 0;}#sk-container-id-5 div.sk-dashed-wrapped {border: 1px dashed gray;margin: 0 0.4em 0.5em 0.4em;box-sizing: border-box;padding-bottom: 0.4em;background-color: white;}#sk-container-id-5 div.sk-label label {font-family: monospace;font-weight: bold;display: inline-block;line-height: 1.2em;}#sk-container-id-5 div.sk-label-container {text-align: center;}#sk-container-id-5 div.sk-container {/* jupyter's `normalize.less` sets `[hidden] { display: none; }` but bootstrap.min.css set `[hidden] { display: none !important; }` so we also need the `!important` here to be able to override the default hidden behavior on the sphinx rendered scikit-learn.org. See: https://github.com/scikit-learn/scikit-learn/issues/21755 */display: inline-block !important;position: relative;}#sk-container-id-5 div.sk-text-repr-fallback {display: none;}</style><div id=\"sk-container-id-5\" class=\"sk-top-container\"><div class=\"sk-text-repr-fallback\"><pre>GridSearchCV(estimator=DecisionTreeClassifier(),\n",
       "             param_grid={&#x27;criterion&#x27;: [&#x27;gini&#x27;, &#x27;entropy&#x27;],\n",
       "                         &#x27;max_depth&#x27;: [3, 4, 5, 6]},\n",
       "             scoring=&#x27;accuracy&#x27;, verbose=3)</pre><b>In a Jupyter environment, please rerun this cell to show the HTML representation or trust the notebook. <br />On GitHub, the HTML representation is unable to render, please try loading this page with nbviewer.org.</b></div><div class=\"sk-container\" hidden><div class=\"sk-item sk-dashed-wrapped\"><div class=\"sk-label-container\"><div class=\"sk-label sk-toggleable\"><input class=\"sk-toggleable__control sk-hidden--visually\" id=\"sk-estimator-id-9\" type=\"checkbox\" ><label for=\"sk-estimator-id-9\" class=\"sk-toggleable__label sk-toggleable__label-arrow\">GridSearchCV</label><div class=\"sk-toggleable__content\"><pre>GridSearchCV(estimator=DecisionTreeClassifier(),\n",
       "             param_grid={&#x27;criterion&#x27;: [&#x27;gini&#x27;, &#x27;entropy&#x27;],\n",
       "                         &#x27;max_depth&#x27;: [3, 4, 5, 6]},\n",
       "             scoring=&#x27;accuracy&#x27;, verbose=3)</pre></div></div></div><div class=\"sk-parallel\"><div class=\"sk-parallel-item\"><div class=\"sk-item\"><div class=\"sk-label-container\"><div class=\"sk-label sk-toggleable\"><input class=\"sk-toggleable__control sk-hidden--visually\" id=\"sk-estimator-id-10\" type=\"checkbox\" ><label for=\"sk-estimator-id-10\" class=\"sk-toggleable__label sk-toggleable__label-arrow\">estimator: DecisionTreeClassifier</label><div class=\"sk-toggleable__content\"><pre>DecisionTreeClassifier()</pre></div></div></div><div class=\"sk-serial\"><div class=\"sk-item\"><div class=\"sk-estimator sk-toggleable\"><input class=\"sk-toggleable__control sk-hidden--visually\" id=\"sk-estimator-id-11\" type=\"checkbox\" ><label for=\"sk-estimator-id-11\" class=\"sk-toggleable__label sk-toggleable__label-arrow\">DecisionTreeClassifier</label><div class=\"sk-toggleable__content\"><pre>DecisionTreeClassifier()</pre></div></div></div></div></div></div></div></div></div></div>"
      ],
      "text/plain": [
       "GridSearchCV(estimator=DecisionTreeClassifier(),\n",
       "             param_grid={'criterion': ['gini', 'entropy'],\n",
       "                         'max_depth': [3, 4, 5, 6]},\n",
       "             scoring='accuracy', verbose=3)"
      ]
     },
     "execution_count": 129,
     "metadata": {},
     "output_type": "execute_result"
    }
   ],
   "source": [
    "gscv.fit(x_train,y_train)"
   ]
  },
  {
   "cell_type": "code",
   "execution_count": 130,
   "id": "f6fb1c25",
   "metadata": {},
   "outputs": [
    {
     "data": {
      "text/plain": [
       "0.8131882202304738"
      ]
     },
     "execution_count": 130,
     "metadata": {},
     "output_type": "execute_result"
    }
   ],
   "source": [
    "gscv.best_score_"
   ]
  },
  {
   "cell_type": "code",
   "execution_count": 131,
   "id": "7361e09f",
   "metadata": {},
   "outputs": [
    {
     "data": {
      "text/plain": [
       "{'criterion': 'entropy', 'max_depth': 5}"
      ]
     },
     "execution_count": 131,
     "metadata": {},
     "output_type": "execute_result"
    }
   ],
   "source": [
    "gscv.best_params_"
   ]
  },
  {
   "cell_type": "code",
   "execution_count": 132,
   "id": "849e5282",
   "metadata": {},
   "outputs": [
    {
     "data": {
      "text/plain": [
       "(712, 7)"
      ]
     },
     "execution_count": 132,
     "metadata": {},
     "output_type": "execute_result"
    }
   ],
   "source": [
    "x_train.shape"
   ]
  },
  {
   "cell_type": "code",
   "execution_count": 133,
   "id": "b397b72b",
   "metadata": {},
   "outputs": [],
   "source": [
    "model_dt = DecisionTreeClassifier(**gscv.best_params_)"
   ]
  },
  {
   "cell_type": "code",
   "execution_count": 134,
   "id": "bb5467ee",
   "metadata": {},
   "outputs": [
    {
     "data": {
      "text/html": [
       "<style>#sk-container-id-6 {color: black;background-color: white;}#sk-container-id-6 pre{padding: 0;}#sk-container-id-6 div.sk-toggleable {background-color: white;}#sk-container-id-6 label.sk-toggleable__label {cursor: pointer;display: block;width: 100%;margin-bottom: 0;padding: 0.3em;box-sizing: border-box;text-align: center;}#sk-container-id-6 label.sk-toggleable__label-arrow:before {content: \"▸\";float: left;margin-right: 0.25em;color: #696969;}#sk-container-id-6 label.sk-toggleable__label-arrow:hover:before {color: black;}#sk-container-id-6 div.sk-estimator:hover label.sk-toggleable__label-arrow:before {color: black;}#sk-container-id-6 div.sk-toggleable__content {max-height: 0;max-width: 0;overflow: hidden;text-align: left;background-color: #f0f8ff;}#sk-container-id-6 div.sk-toggleable__content pre {margin: 0.2em;color: black;border-radius: 0.25em;background-color: #f0f8ff;}#sk-container-id-6 input.sk-toggleable__control:checked~div.sk-toggleable__content {max-height: 200px;max-width: 100%;overflow: auto;}#sk-container-id-6 input.sk-toggleable__control:checked~label.sk-toggleable__label-arrow:before {content: \"▾\";}#sk-container-id-6 div.sk-estimator input.sk-toggleable__control:checked~label.sk-toggleable__label {background-color: #d4ebff;}#sk-container-id-6 div.sk-label input.sk-toggleable__control:checked~label.sk-toggleable__label {background-color: #d4ebff;}#sk-container-id-6 input.sk-hidden--visually {border: 0;clip: rect(1px 1px 1px 1px);clip: rect(1px, 1px, 1px, 1px);height: 1px;margin: -1px;overflow: hidden;padding: 0;position: absolute;width: 1px;}#sk-container-id-6 div.sk-estimator {font-family: monospace;background-color: #f0f8ff;border: 1px dotted black;border-radius: 0.25em;box-sizing: border-box;margin-bottom: 0.5em;}#sk-container-id-6 div.sk-estimator:hover {background-color: #d4ebff;}#sk-container-id-6 div.sk-parallel-item::after {content: \"\";width: 100%;border-bottom: 1px solid gray;flex-grow: 1;}#sk-container-id-6 div.sk-label:hover label.sk-toggleable__label {background-color: #d4ebff;}#sk-container-id-6 div.sk-serial::before {content: \"\";position: absolute;border-left: 1px solid gray;box-sizing: border-box;top: 0;bottom: 0;left: 50%;z-index: 0;}#sk-container-id-6 div.sk-serial {display: flex;flex-direction: column;align-items: center;background-color: white;padding-right: 0.2em;padding-left: 0.2em;position: relative;}#sk-container-id-6 div.sk-item {position: relative;z-index: 1;}#sk-container-id-6 div.sk-parallel {display: flex;align-items: stretch;justify-content: center;background-color: white;position: relative;}#sk-container-id-6 div.sk-item::before, #sk-container-id-6 div.sk-parallel-item::before {content: \"\";position: absolute;border-left: 1px solid gray;box-sizing: border-box;top: 0;bottom: 0;left: 50%;z-index: -1;}#sk-container-id-6 div.sk-parallel-item {display: flex;flex-direction: column;z-index: 1;position: relative;background-color: white;}#sk-container-id-6 div.sk-parallel-item:first-child::after {align-self: flex-end;width: 50%;}#sk-container-id-6 div.sk-parallel-item:last-child::after {align-self: flex-start;width: 50%;}#sk-container-id-6 div.sk-parallel-item:only-child::after {width: 0;}#sk-container-id-6 div.sk-dashed-wrapped {border: 1px dashed gray;margin: 0 0.4em 0.5em 0.4em;box-sizing: border-box;padding-bottom: 0.4em;background-color: white;}#sk-container-id-6 div.sk-label label {font-family: monospace;font-weight: bold;display: inline-block;line-height: 1.2em;}#sk-container-id-6 div.sk-label-container {text-align: center;}#sk-container-id-6 div.sk-container {/* jupyter's `normalize.less` sets `[hidden] { display: none; }` but bootstrap.min.css set `[hidden] { display: none !important; }` so we also need the `!important` here to be able to override the default hidden behavior on the sphinx rendered scikit-learn.org. See: https://github.com/scikit-learn/scikit-learn/issues/21755 */display: inline-block !important;position: relative;}#sk-container-id-6 div.sk-text-repr-fallback {display: none;}</style><div id=\"sk-container-id-6\" class=\"sk-top-container\"><div class=\"sk-text-repr-fallback\"><pre>DecisionTreeClassifier(criterion=&#x27;entropy&#x27;, max_depth=5)</pre><b>In a Jupyter environment, please rerun this cell to show the HTML representation or trust the notebook. <br />On GitHub, the HTML representation is unable to render, please try loading this page with nbviewer.org.</b></div><div class=\"sk-container\" hidden><div class=\"sk-item\"><div class=\"sk-estimator sk-toggleable\"><input class=\"sk-toggleable__control sk-hidden--visually\" id=\"sk-estimator-id-12\" type=\"checkbox\" checked><label for=\"sk-estimator-id-12\" class=\"sk-toggleable__label sk-toggleable__label-arrow\">DecisionTreeClassifier</label><div class=\"sk-toggleable__content\"><pre>DecisionTreeClassifier(criterion=&#x27;entropy&#x27;, max_depth=5)</pre></div></div></div></div></div>"
      ],
      "text/plain": [
       "DecisionTreeClassifier(criterion='entropy', max_depth=5)"
      ]
     },
     "execution_count": 134,
     "metadata": {},
     "output_type": "execute_result"
    }
   ],
   "source": [
    "model_dt.fit(x_train,y_train)"
   ]
  },
  {
   "cell_type": "code",
   "execution_count": 135,
   "id": "448aee58",
   "metadata": {},
   "outputs": [
    {
     "data": {
      "text/plain": [
       "0.8268156424581006"
      ]
     },
     "execution_count": 135,
     "metadata": {},
     "output_type": "execute_result"
    }
   ],
   "source": [
    "model_dt.score(x_test,y_test)"
   ]
  },
  {
   "cell_type": "code",
   "execution_count": 136,
   "id": "58bf251f",
   "metadata": {},
   "outputs": [],
   "source": [
    "y_pred_dt = model_dt.predict(x_test)"
   ]
  },
  {
   "cell_type": "code",
   "execution_count": 137,
   "id": "96da9f25",
   "metadata": {},
   "outputs": [
    {
     "name": "stdout",
     "output_type": "stream",
     "text": [
      "confusion Matrix:\n",
      " [[98 12]\n",
      " [19 50]]\n",
      "Acuracy: 0.8268156424581006\n",
      "Recall: 0.7246376811594203\n",
      "Precision: 0.8064516129032258\n",
      "F1 Score: 0.7633587786259542\n"
     ]
    }
   ],
   "source": [
    "validation(y_test,y_pred_dt)"
   ]
  },
  {
   "cell_type": "code",
   "execution_count": 138,
   "id": "3cba9566",
   "metadata": {},
   "outputs": [],
   "source": [
    "from sklearn import tree"
   ]
  },
  {
   "cell_type": "code",
   "execution_count": 139,
   "id": "0777562d",
   "metadata": {
    "scrolled": true
   },
   "outputs": [
    {
     "data": {
      "image/png": "[encoded data removed]",
      "text/plain": [
       "<Figure size 4000x3000 with 1 Axes>"
      ]
     },
     "metadata": {
      "needs_background": "light"
     },
     "output_type": "display_data"
    }
   ],
   "source": [
    "plt.figure(figsize=(20,15),dpi=200)\n",
    "tree.plot_tree(model_dt,feature_names=x_train.columns,fontsize=7)\n",
    "plt.show()"
   ]
  },
  {
   "cell_type": "markdown",
   "id": "97e07fe8",
   "metadata": {},
   "source": [
    "# Ensembles models\n",
    "# bagging (Random Forest)"
   ]
  },
  {
   "cell_type": "code",
   "execution_count": 140,
   "id": "5045dfc5",
   "metadata": {},
   "outputs": [],
   "source": [
    "from sklearn.ensemble import RandomForestClassifier"
   ]
  },
  {
   "cell_type": "code",
   "execution_count": 141,
   "id": "8ae2ef29",
   "metadata": {},
   "outputs": [],
   "source": [
    "model_rf = RandomForestClassifier()"
   ]
  },
  {
   "cell_type": "code",
   "execution_count": 142,
   "id": "57c09c1b",
   "metadata": {},
   "outputs": [],
   "source": [
    "param = {'n_estimators':[50,100,200,500],\n",
    "        'criterion':['gini','entropy'],\n",
    "        'max_depth':[3,4,5]}"
   ]
  },
  {
   "cell_type": "code",
   "execution_count": 143,
   "id": "b873409e",
   "metadata": {},
   "outputs": [],
   "source": [
    "gscv = GridSearchCV(estimator=model_rf,\n",
    "                   param_grid=param,\n",
    "                    cv=3,\n",
    "                   scoring='accuracy',\n",
    "                   verbose=3)"
   ]
  },
  {
   "cell_type": "code",
   "execution_count": 144,
   "id": "a85e7f1c",
   "metadata": {
    "scrolled": true
   },
   "outputs": [
    {
     "name": "stdout",
     "output_type": "stream",
     "text": [
      "Fitting 3 folds for each of 24 candidates, totalling 72 fits\n",
      "[CV 1/3] END criterion=gini, max_depth=3, n_estimators=50;, score=0.824 total time=   0.0s\n",
      "[CV 2/3] END criterion=gini, max_depth=3, n_estimators=50;, score=0.797 total time=   0.0s\n",
      "[CV 3/3] END criterion=gini, max_depth=3, n_estimators=50;, score=0.797 total time=   0.0s\n",
      "[CV 1/3] END criterion=gini, max_depth=3, n_estimators=100;, score=0.824 total time=   0.0s\n",
      "[CV 2/3] END criterion=gini, max_depth=3, n_estimators=100;, score=0.797 total time=   0.0s\n",
      "[CV 3/3] END criterion=gini, max_depth=3, n_estimators=100;, score=0.806 total time=   0.0s\n",
      "[CV 1/3] END criterion=gini, max_depth=3, n_estimators=200;, score=0.824 total time=   0.1s\n",
      "[CV 2/3] END criterion=gini, max_depth=3, n_estimators=200;, score=0.793 total time=   0.2s\n",
      "[CV 3/3] END criterion=gini, max_depth=3, n_estimators=200;, score=0.806 total time=   0.1s\n",
      "[CV 1/3] END criterion=gini, max_depth=3, n_estimators=500;, score=0.815 total time=   0.4s\n",
      "[CV 2/3] END criterion=gini, max_depth=3, n_estimators=500;, score=0.797 total time=   0.4s\n",
      "[CV 3/3] END criterion=gini, max_depth=3, n_estimators=500;, score=0.802 total time=   0.5s\n",
      "[CV 1/3] END criterion=gini, max_depth=4, n_estimators=50;, score=0.794 total time=   0.0s\n",
      "[CV 2/3] END criterion=gini, max_depth=4, n_estimators=50;, score=0.806 total time=   0.0s\n",
      "[CV 3/3] END criterion=gini, max_depth=4, n_estimators=50;, score=0.802 total time=   0.0s\n",
      "[CV 1/3] END criterion=gini, max_depth=4, n_estimators=100;, score=0.824 total time=   0.0s\n",
      "[CV 2/3] END criterion=gini, max_depth=4, n_estimators=100;, score=0.802 total time=   0.0s\n",
      "[CV 3/3] END criterion=gini, max_depth=4, n_estimators=100;, score=0.789 total time=   0.0s\n",
      "[CV 1/3] END criterion=gini, max_depth=4, n_estimators=200;, score=0.819 total time=   0.1s\n",
      "[CV 2/3] END criterion=gini, max_depth=4, n_estimators=200;, score=0.810 total time=   0.1s\n",
      "[CV 3/3] END criterion=gini, max_depth=4, n_estimators=200;, score=0.802 total time=   0.1s\n",
      "[CV 1/3] END criterion=gini, max_depth=4, n_estimators=500;, score=0.824 total time=   0.4s\n",
      "[CV 2/3] END criterion=gini, max_depth=4, n_estimators=500;, score=0.797 total time=   0.4s\n",
      "[CV 3/3] END criterion=gini, max_depth=4, n_estimators=500;, score=0.793 total time=   0.4s\n",
      "[CV 1/3] END criterion=gini, max_depth=5, n_estimators=50;, score=0.824 total time=   0.0s\n",
      "[CV 2/3] END criterion=gini, max_depth=5, n_estimators=50;, score=0.797 total time=   0.0s\n",
      "[CV 3/3] END criterion=gini, max_depth=5, n_estimators=50;, score=0.797 total time=   0.0s\n",
      "[CV 1/3] END criterion=gini, max_depth=5, n_estimators=100;, score=0.832 total time=   0.0s\n",
      "[CV 2/3] END criterion=gini, max_depth=5, n_estimators=100;, score=0.797 total time=   0.0s\n",
      "[CV 3/3] END criterion=gini, max_depth=5, n_estimators=100;, score=0.802 total time=   0.0s\n",
      "[CV 1/3] END criterion=gini, max_depth=5, n_estimators=200;, score=0.815 total time=   0.1s\n",
      "[CV 2/3] END criterion=gini, max_depth=5, n_estimators=200;, score=0.797 total time=   0.1s\n",
      "[CV 3/3] END criterion=gini, max_depth=5, n_estimators=200;, score=0.793 total time=   0.1s\n",
      "[CV 1/3] END criterion=gini, max_depth=5, n_estimators=500;, score=0.819 total time=   0.4s\n",
      "[CV 2/3] END criterion=gini, max_depth=5, n_estimators=500;, score=0.793 total time=   0.5s\n",
      "[CV 3/3] END criterion=gini, max_depth=5, n_estimators=500;, score=0.797 total time=   0.5s\n",
      "[CV 1/3] END criterion=entropy, max_depth=3, n_estimators=50;, score=0.815 total time=   0.0s\n",
      "[CV 2/3] END criterion=entropy, max_depth=3, n_estimators=50;, score=0.781 total time=   0.0s\n",
      "[CV 3/3] END criterion=entropy, max_depth=3, n_estimators=50;, score=0.797 total time=   0.0s\n",
      "[CV 1/3] END criterion=entropy, max_depth=3, n_estimators=100;, score=0.824 total time=   0.0s\n",
      "[CV 2/3] END criterion=entropy, max_depth=3, n_estimators=100;, score=0.793 total time=   0.0s\n",
      "[CV 3/3] END criterion=entropy, max_depth=3, n_estimators=100;, score=0.797 total time=   0.0s\n",
      "[CV 1/3] END criterion=entropy, max_depth=3, n_estimators=200;, score=0.811 total time=   0.1s\n",
      "[CV 2/3] END criterion=entropy, max_depth=3, n_estimators=200;, score=0.785 total time=   0.1s\n",
      "[CV 3/3] END criterion=entropy, max_depth=3, n_estimators=200;, score=0.785 total time=   0.1s\n",
      "[CV 1/3] END criterion=entropy, max_depth=3, n_estimators=500;, score=0.819 total time=   0.4s\n",
      "[CV 2/3] END criterion=entropy, max_depth=3, n_estimators=500;, score=0.789 total time=   0.4s\n",
      "[CV 3/3] END criterion=entropy, max_depth=3, n_estimators=500;, score=0.802 total time=   0.4s\n",
      "[CV 1/3] END criterion=entropy, max_depth=4, n_estimators=50;, score=0.811 total time=   0.0s\n",
      "[CV 2/3] END criterion=entropy, max_depth=4, n_estimators=50;, score=0.785 total time=   0.0s\n",
      "[CV 3/3] END criterion=entropy, max_depth=4, n_estimators=50;, score=0.806 total time=   0.0s\n",
      "[CV 1/3] END criterion=entropy, max_depth=4, n_estimators=100;, score=0.807 total time=   0.0s\n",
      "[CV 2/3] END criterion=entropy, max_depth=4, n_estimators=100;, score=0.802 total time=   0.0s\n",
      "[CV 3/3] END criterion=entropy, max_depth=4, n_estimators=100;, score=0.797 total time=   0.0s\n",
      "[CV 1/3] END criterion=entropy, max_depth=4, n_estimators=200;, score=0.819 total time=   0.1s\n",
      "[CV 2/3] END criterion=entropy, max_depth=4, n_estimators=200;, score=0.797 total time=   0.1s\n",
      "[CV 3/3] END criterion=entropy, max_depth=4, n_estimators=200;, score=0.802 total time=   0.1s\n",
      "[CV 1/3] END criterion=entropy, max_depth=4, n_estimators=500;, score=0.824 total time=   0.4s\n",
      "[CV 2/3] END criterion=entropy, max_depth=4, n_estimators=500;, score=0.806 total time=   0.5s\n",
      "[CV 3/3] END criterion=entropy, max_depth=4, n_estimators=500;, score=0.802 total time=   0.5s\n",
      "[CV 1/3] END criterion=entropy, max_depth=5, n_estimators=50;, score=0.811 total time=   0.0s\n",
      "[CV 2/3] END criterion=entropy, max_depth=5, n_estimators=50;, score=0.785 total time=   0.0s\n",
      "[CV 3/3] END criterion=entropy, max_depth=5, n_estimators=50;, score=0.802 total time=   0.0s\n",
      "[CV 1/3] END criterion=entropy, max_depth=5, n_estimators=100;, score=0.832 total time=   0.0s\n",
      "[CV 2/3] END criterion=entropy, max_depth=5, n_estimators=100;, score=0.797 total time=   0.1s\n",
      "[CV 3/3] END criterion=entropy, max_depth=5, n_estimators=100;, score=0.802 total time=   0.0s\n",
      "[CV 1/3] END criterion=entropy, max_depth=5, n_estimators=200;, score=0.824 total time=   0.2s\n",
      "[CV 2/3] END criterion=entropy, max_depth=5, n_estimators=200;, score=0.802 total time=   0.2s\n",
      "[CV 3/3] END criterion=entropy, max_depth=5, n_estimators=200;, score=0.806 total time=   0.3s\n",
      "[CV 1/3] END criterion=entropy, max_depth=5, n_estimators=500;, score=0.824 total time=   0.9s\n",
      "[CV 2/3] END criterion=entropy, max_depth=5, n_estimators=500;, score=0.793 total time=   0.6s\n",
      "[CV 3/3] END criterion=entropy, max_depth=5, n_estimators=500;, score=0.802 total time=   0.9s\n"
     ]
    },
    {
     "data": {
      "text/html": [
       "<style>#sk-container-id-7 {color: black;background-color: white;}#sk-container-id-7 pre{padding: 0;}#sk-container-id-7 div.sk-toggleable {background-color: white;}#sk-container-id-7 label.sk-toggleable__label {cursor: pointer;display: block;width: 100%;margin-bottom: 0;padding: 0.3em;box-sizing: border-box;text-align: center;}#sk-container-id-7 label.sk-toggleable__label-arrow:before {content: \"▸\";float: left;margin-right: 0.25em;color: #696969;}#sk-container-id-7 label.sk-toggleable__label-arrow:hover:before {color: black;}#sk-container-id-7 div.sk-estimator:hover label.sk-toggleable__label-arrow:before {color: black;}#sk-container-id-7 div.sk-toggleable__content {max-height: 0;max-width: 0;overflow: hidden;text-align: left;background-color: #f0f8ff;}#sk-container-id-7 div.sk-toggleable__content pre {margin: 0.2em;color: black;border-radius: 0.25em;background-color: #f0f8ff;}#sk-container-id-7 input.sk-toggleable__control:checked~div.sk-toggleable__content {max-height: 200px;max-width: 100%;overflow: auto;}#sk-container-id-7 input.sk-toggleable__control:checked~label.sk-toggleable__label-arrow:before {content: \"▾\";}#sk-container-id-7 div.sk-estimator input.sk-toggleable__control:checked~label.sk-toggleable__label {background-color: #d4ebff;}#sk-container-id-7 div.sk-label input.sk-toggleable__control:checked~label.sk-toggleable__label {background-color: #d4ebff;}#sk-container-id-7 input.sk-hidden--visually {border: 0;clip: rect(1px 1px 1px 1px);clip: rect(1px, 1px, 1px, 1px);height: 1px;margin: -1px;overflow: hidden;padding: 0;position: absolute;width: 1px;}#sk-container-id-7 div.sk-estimator {font-family: monospace;background-color: #f0f8ff;border: 1px dotted black;border-radius: 0.25em;box-sizing: border-box;margin-bottom: 0.5em;}#sk-container-id-7 div.sk-estimator:hover {background-color: #d4ebff;}#sk-container-id-7 div.sk-parallel-item::after {content: \"\";width: 100%;border-bottom: 1px solid gray;flex-grow: 1;}#sk-container-id-7 div.sk-label:hover label.sk-toggleable__label {background-color: #d4ebff;}#sk-container-id-7 div.sk-serial::before {content: \"\";position: absolute;border-left: 1px solid gray;box-sizing: border-box;top: 0;bottom: 0;left: 50%;z-index: 0;}#sk-container-id-7 div.sk-serial {display: flex;flex-direction: column;align-items: center;background-color: white;padding-right: 0.2em;padding-left: 0.2em;position: relative;}#sk-container-id-7 div.sk-item {position: relative;z-index: 1;}#sk-container-id-7 div.sk-parallel {display: flex;align-items: stretch;justify-content: center;background-color: white;position: relative;}#sk-container-id-7 div.sk-item::before, #sk-container-id-7 div.sk-parallel-item::before {content: \"\";position: absolute;border-left: 1px solid gray;box-sizing: border-box;top: 0;bottom: 0;left: 50%;z-index: -1;}#sk-container-id-7 div.sk-parallel-item {display: flex;flex-direction: column;z-index: 1;position: relative;background-color: white;}#sk-container-id-7 div.sk-parallel-item:first-child::after {align-self: flex-end;width: 50%;}#sk-container-id-7 div.sk-parallel-item:last-child::after {align-self: flex-start;width: 50%;}#sk-container-id-7 div.sk-parallel-item:only-child::after {width: 0;}#sk-container-id-7 div.sk-dashed-wrapped {border: 1px dashed gray;margin: 0 0.4em 0.5em 0.4em;box-sizing: border-box;padding-bottom: 0.4em;background-color: white;}#sk-container-id-7 div.sk-label label {font-family: monospace;font-weight: bold;display: inline-block;line-height: 1.2em;}#sk-container-id-7 div.sk-label-container {text-align: center;}#sk-container-id-7 div.sk-container {/* jupyter's `normalize.less` sets `[hidden] { display: none; }` but bootstrap.min.css set `[hidden] { display: none !important; }` so we also need the `!important` here to be able to override the default hidden behavior on the sphinx rendered scikit-learn.org. See: https://github.com/scikit-learn/scikit-learn/issues/21755 */display: inline-block !important;position: relative;}#sk-container-id-7 div.sk-text-repr-fallback {display: none;}</style><div id=\"sk-container-id-7\" class=\"sk-top-container\"><div class=\"sk-text-repr-fallback\"><pre>GridSearchCV(cv=3, estimator=RandomForestClassifier(),\n",
       "             param_grid={&#x27;criterion&#x27;: [&#x27;gini&#x27;, &#x27;entropy&#x27;],\n",
       "                         &#x27;max_depth&#x27;: [3, 4, 5],\n",
       "                         &#x27;n_estimators&#x27;: [50, 100, 200, 500]},\n",
       "             scoring=&#x27;accuracy&#x27;, verbose=3)</pre><b>In a Jupyter environment, please rerun this cell to show the HTML representation or trust the notebook. <br />On GitHub, the HTML representation is unable to render, please try loading this page with nbviewer.org.</b></div><div class=\"sk-container\" hidden><div class=\"sk-item sk-dashed-wrapped\"><div class=\"sk-label-container\"><div class=\"sk-label sk-toggleable\"><input class=\"sk-toggleable__control sk-hidden--visually\" id=\"sk-estimator-id-13\" type=\"checkbox\" ><label for=\"sk-estimator-id-13\" class=\"sk-toggleable__label sk-toggleable__label-arrow\">GridSearchCV</label><div class=\"sk-toggleable__content\"><pre>GridSearchCV(cv=3, estimator=RandomForestClassifier(),\n",
       "             param_grid={&#x27;criterion&#x27;: [&#x27;gini&#x27;, &#x27;entropy&#x27;],\n",
       "                         &#x27;max_depth&#x27;: [3, 4, 5],\n",
       "                         &#x27;n_estimators&#x27;: [50, 100, 200, 500]},\n",
       "             scoring=&#x27;accuracy&#x27;, verbose=3)</pre></div></div></div><div class=\"sk-parallel\"><div class=\"sk-parallel-item\"><div class=\"sk-item\"><div class=\"sk-label-container\"><div class=\"sk-label sk-toggleable\"><input class=\"sk-toggleable__control sk-hidden--visually\" id=\"sk-estimator-id-14\" type=\"checkbox\" ><label for=\"sk-estimator-id-14\" class=\"sk-toggleable__label sk-toggleable__label-arrow\">estimator: RandomForestClassifier</label><div class=\"sk-toggleable__content\"><pre>RandomForestClassifier()</pre></div></div></div><div class=\"sk-serial\"><div class=\"sk-item\"><div class=\"sk-estimator sk-toggleable\"><input class=\"sk-toggleable__control sk-hidden--visually\" id=\"sk-estimator-id-15\" type=\"checkbox\" ><label for=\"sk-estimator-id-15\" class=\"sk-toggleable__label sk-toggleable__label-arrow\">RandomForestClassifier</label><div class=\"sk-toggleable__content\"><pre>RandomForestClassifier()</pre></div></div></div></div></div></div></div></div></div></div>"
      ],
      "text/plain": [
       "GridSearchCV(cv=3, estimator=RandomForestClassifier(),\n",
       "             param_grid={'criterion': ['gini', 'entropy'],\n",
       "                         'max_depth': [3, 4, 5],\n",
       "                         'n_estimators': [50, 100, 200, 500]},\n",
       "             scoring='accuracy', verbose=3)"
      ]
     },
     "execution_count": 144,
     "metadata": {},
     "output_type": "execute_result"
    }
   ],
   "source": [
    "gscv.fit(x_train,y_train)"
   ]
  },
  {
   "cell_type": "code",
   "execution_count": 145,
   "id": "a0deb153",
   "metadata": {},
   "outputs": [
    {
     "data": {
      "text/plain": [
       "0.8103806923613327"
      ]
     },
     "execution_count": 145,
     "metadata": {},
     "output_type": "execute_result"
    }
   ],
   "source": [
    "gscv.best_score_"
   ]
  },
  {
   "cell_type": "code",
   "execution_count": 146,
   "id": "86757100",
   "metadata": {},
   "outputs": [
    {
     "data": {
      "text/plain": [
       "{'criterion': 'gini', 'max_depth': 4, 'n_estimators': 200}"
      ]
     },
     "execution_count": 146,
     "metadata": {},
     "output_type": "execute_result"
    }
   ],
   "source": [
    "gscv.best_params_"
   ]
  },
  {
   "cell_type": "code",
   "execution_count": 147,
   "id": "764ea5fe",
   "metadata": {},
   "outputs": [],
   "source": [
    "model_rf = RandomForestClassifier(**gscv.best_params_)"
   ]
  },
  {
   "cell_type": "code",
   "execution_count": 148,
   "id": "f670a215",
   "metadata": {},
   "outputs": [
    {
     "data": {
      "text/html": [
       "<style>#sk-container-id-8 {color: black;background-color: white;}#sk-container-id-8 pre{padding: 0;}#sk-container-id-8 div.sk-toggleable {background-color: white;}#sk-container-id-8 label.sk-toggleable__label {cursor: pointer;display: block;width: 100%;margin-bottom: 0;padding: 0.3em;box-sizing: border-box;text-align: center;}#sk-container-id-8 label.sk-toggleable__label-arrow:before {content: \"▸\";float: left;margin-right: 0.25em;color: #696969;}#sk-container-id-8 label.sk-toggleable__label-arrow:hover:before {color: black;}#sk-container-id-8 div.sk-estimator:hover label.sk-toggleable__label-arrow:before {color: black;}#sk-container-id-8 div.sk-toggleable__content {max-height: 0;max-width: 0;overflow: hidden;text-align: left;background-color: #f0f8ff;}#sk-container-id-8 div.sk-toggleable__content pre {margin: 0.2em;color: black;border-radius: 0.25em;background-color: #f0f8ff;}#sk-container-id-8 input.sk-toggleable__control:checked~div.sk-toggleable__content {max-height: 200px;max-width: 100%;overflow: auto;}#sk-container-id-8 input.sk-toggleable__control:checked~label.sk-toggleable__label-arrow:before {content: \"▾\";}#sk-container-id-8 div.sk-estimator input.sk-toggleable__control:checked~label.sk-toggleable__label {background-color: #d4ebff;}#sk-container-id-8 div.sk-label input.sk-toggleable__control:checked~label.sk-toggleable__label {background-color: #d4ebff;}#sk-container-id-8 input.sk-hidden--visually {border: 0;clip: rect(1px 1px 1px 1px);clip: rect(1px, 1px, 1px, 1px);height: 1px;margin: -1px;overflow: hidden;padding: 0;position: absolute;width: 1px;}#sk-container-id-8 div.sk-estimator {font-family: monospace;background-color: #f0f8ff;border: 1px dotted black;border-radius: 0.25em;box-sizing: border-box;margin-bottom: 0.5em;}#sk-container-id-8 div.sk-estimator:hover {background-color: #d4ebff;}#sk-container-id-8 div.sk-parallel-item::after {content: \"\";width: 100%;border-bottom: 1px solid gray;flex-grow: 1;}#sk-container-id-8 div.sk-label:hover label.sk-toggleable__label {background-color: #d4ebff;}#sk-container-id-8 div.sk-serial::before {content: \"\";position: absolute;border-left: 1px solid gray;box-sizing: border-box;top: 0;bottom: 0;left: 50%;z-index: 0;}#sk-container-id-8 div.sk-serial {display: flex;flex-direction: column;align-items: center;background-color: white;padding-right: 0.2em;padding-left: 0.2em;position: relative;}#sk-container-id-8 div.sk-item {position: relative;z-index: 1;}#sk-container-id-8 div.sk-parallel {display: flex;align-items: stretch;justify-content: center;background-color: white;position: relative;}#sk-container-id-8 div.sk-item::before, #sk-container-id-8 div.sk-parallel-item::before {content: \"\";position: absolute;border-left: 1px solid gray;box-sizing: border-box;top: 0;bottom: 0;left: 50%;z-index: -1;}#sk-container-id-8 div.sk-parallel-item {display: flex;flex-direction: column;z-index: 1;position: relative;background-color: white;}#sk-container-id-8 div.sk-parallel-item:first-child::after {align-self: flex-end;width: 50%;}#sk-container-id-8 div.sk-parallel-item:last-child::after {align-self: flex-start;width: 50%;}#sk-container-id-8 div.sk-parallel-item:only-child::after {width: 0;}#sk-container-id-8 div.sk-dashed-wrapped {border: 1px dashed gray;margin: 0 0.4em 0.5em 0.4em;box-sizing: border-box;padding-bottom: 0.4em;background-color: white;}#sk-container-id-8 div.sk-label label {font-family: monospace;font-weight: bold;display: inline-block;line-height: 1.2em;}#sk-container-id-8 div.sk-label-container {text-align: center;}#sk-container-id-8 div.sk-container {/* jupyter's `normalize.less` sets `[hidden] { display: none; }` but bootstrap.min.css set `[hidden] { display: none !important; }` so we also need the `!important` here to be able to override the default hidden behavior on the sphinx rendered scikit-learn.org. See: https://github.com/scikit-learn/scikit-learn/issues/21755 */display: inline-block !important;position: relative;}#sk-container-id-8 div.sk-text-repr-fallback {display: none;}</style><div id=\"sk-container-id-8\" class=\"sk-top-container\"><div class=\"sk-text-repr-fallback\"><pre>RandomForestClassifier(max_depth=4, n_estimators=200)</pre><b>In a Jupyter environment, please rerun this cell to show the HTML representation or trust the notebook. <br />On GitHub, the HTML representation is unable to render, please try loading this page with nbviewer.org.</b></div><div class=\"sk-container\" hidden><div class=\"sk-item\"><div class=\"sk-estimator sk-toggleable\"><input class=\"sk-toggleable__control sk-hidden--visually\" id=\"sk-estimator-id-16\" type=\"checkbox\" checked><label for=\"sk-estimator-id-16\" class=\"sk-toggleable__label sk-toggleable__label-arrow\">RandomForestClassifier</label><div class=\"sk-toggleable__content\"><pre>RandomForestClassifier(max_depth=4, n_estimators=200)</pre></div></div></div></div></div>"
      ],
      "text/plain": [
       "RandomForestClassifier(max_depth=4, n_estimators=200)"
      ]
     },
     "execution_count": 148,
     "metadata": {},
     "output_type": "execute_result"
    }
   ],
   "source": [
    "model_rf.fit(x_train,y_train)"
   ]
  },
  {
   "cell_type": "code",
   "execution_count": 149,
   "id": "cdb7cfa3",
   "metadata": {},
   "outputs": [],
   "source": [
    "y_pred_rf = model_rf.predict(x_test)"
   ]
  },
  {
   "cell_type": "code",
   "execution_count": 150,
   "id": "a4a5fcd1",
   "metadata": {},
   "outputs": [
    {
     "name": "stdout",
     "output_type": "stream",
     "text": [
      "confusion Matrix:\n",
      " [[96 14]\n",
      " [19 50]]\n",
      "Acuracy: 0.8156424581005587\n",
      "Recall: 0.7246376811594203\n",
      "Precision: 0.78125\n",
      "F1 Score: 0.7518796992481203\n"
     ]
    }
   ],
   "source": [
    "validation(y_test,y_pred_rf)"
   ]
  },
  {
   "cell_type": "code",
   "execution_count": 151,
   "id": "dfb8a075",
   "metadata": {},
   "outputs": [
    {
     "data": {
      "text/plain": [
       "0.827247191011236"
      ]
     },
     "execution_count": 151,
     "metadata": {},
     "output_type": "execute_result"
    }
   ],
   "source": [
    "model_rf.score(x_train,y_train)"
   ]
  },
  {
   "cell_type": "markdown",
   "id": "5d6f1a51",
   "metadata": {},
   "source": [
    "# Boosting (ADA Boost)"
   ]
  },
  {
   "cell_type": "code",
   "execution_count": 152,
   "id": "9f97a227",
   "metadata": {},
   "outputs": [],
   "source": [
    "from sklearn.ensemble import AdaBoostClassifier"
   ]
  },
  {
   "cell_type": "code",
   "execution_count": 153,
   "id": "f1a6b07d",
   "metadata": {},
   "outputs": [],
   "source": [
    "model_ada = AdaBoostClassifier()"
   ]
  },
  {
   "cell_type": "code",
   "execution_count": 154,
   "id": "47b13fe1",
   "metadata": {},
   "outputs": [],
   "source": [
    "param = {'n_estimators':[50,100,200,350,500],\n",
    "         'learning_rate':[0.001,.01,.1,1,10]}"
   ]
  },
  {
   "cell_type": "code",
   "execution_count": 155,
   "id": "7d8c8f9d",
   "metadata": {},
   "outputs": [],
   "source": [
    "gscv = GridSearchCV(estimator=model_ada,\n",
    "                   param_grid=param,\n",
    "                    cv=3,\n",
    "                   scoring='f1',\n",
    "                   verbose=3)"
   ]
  },
  {
   "cell_type": "code",
   "execution_count": 156,
   "id": "52952f68",
   "metadata": {
    "scrolled": true
   },
   "outputs": [
    {
     "name": "stdout",
     "output_type": "stream",
     "text": [
      "Fitting 3 folds for each of 25 candidates, totalling 75 fits\n",
      "[CV 1/3] END learning_rate=0.001, n_estimators=50;, score=0.737 total time=   0.0s\n",
      "[CV 2/3] END learning_rate=0.001, n_estimators=50;, score=0.705 total time=   0.0s\n",
      "[CV 3/3] END learning_rate=0.001, n_estimators=50;, score=0.694 total time=   0.0s\n",
      "[CV 1/3] END learning_rate=0.001, n_estimators=100;, score=0.737 total time=   0.0s\n",
      "[CV 2/3] END learning_rate=0.001, n_estimators=100;, score=0.705 total time=   0.0s\n",
      "[CV 3/3] END learning_rate=0.001, n_estimators=100;, score=0.694 total time=   0.0s\n",
      "[CV 1/3] END learning_rate=0.001, n_estimators=200;, score=0.737 total time=   0.4s\n",
      "[CV 2/3] END learning_rate=0.001, n_estimators=200;, score=0.705 total time=   0.2s\n",
      "[CV 3/3] END learning_rate=0.001, n_estimators=200;, score=0.694 total time=   0.2s\n",
      "[CV 1/3] END learning_rate=0.001, n_estimators=350;, score=0.737 total time=   0.3s\n",
      "[CV 2/3] END learning_rate=0.001, n_estimators=350;, score=0.705 total time=   0.3s\n",
      "[CV 3/3] END learning_rate=0.001, n_estimators=350;, score=0.694 total time=   0.3s\n",
      "[CV 1/3] END learning_rate=0.001, n_estimators=500;, score=0.737 total time=   0.5s\n",
      "[CV 2/3] END learning_rate=0.001, n_estimators=500;, score=0.705 total time=   0.5s\n",
      "[CV 3/3] END learning_rate=0.001, n_estimators=500;, score=0.694 total time=   0.5s\n",
      "[CV 1/3] END learning_rate=0.01, n_estimators=50;, score=0.737 total time=   0.0s\n",
      "[CV 2/3] END learning_rate=0.01, n_estimators=50;, score=0.705 total time=   0.0s\n",
      "[CV 3/3] END learning_rate=0.01, n_estimators=50;, score=0.694 total time=   0.0s\n",
      "[CV 1/3] END learning_rate=0.01, n_estimators=100;, score=0.737 total time=   0.0s\n",
      "[CV 2/3] END learning_rate=0.01, n_estimators=100;, score=0.705 total time=   0.0s\n",
      "[CV 3/3] END learning_rate=0.01, n_estimators=100;, score=0.694 total time=   0.0s\n",
      "[CV 1/3] END learning_rate=0.01, n_estimators=200;, score=0.737 total time=   0.1s\n",
      "[CV 2/3] END learning_rate=0.01, n_estimators=200;, score=0.705 total time=   0.2s\n",
      "[CV 3/3] END learning_rate=0.01, n_estimators=200;, score=0.694 total time=   0.2s\n",
      "[CV 1/3] END learning_rate=0.01, n_estimators=350;, score=0.737 total time=   0.3s\n",
      "[CV 2/3] END learning_rate=0.01, n_estimators=350;, score=0.690 total time=   0.3s\n",
      "[CV 3/3] END learning_rate=0.01, n_estimators=350;, score=0.698 total time=   0.3s\n",
      "[CV 1/3] END learning_rate=0.01, n_estimators=500;, score=0.746 total time=   0.5s\n",
      "[CV 2/3] END learning_rate=0.01, n_estimators=500;, score=0.694 total time=   0.5s\n",
      "[CV 3/3] END learning_rate=0.01, n_estimators=500;, score=0.687 total time=   0.5s\n",
      "[CV 1/3] END learning_rate=0.1, n_estimators=50;, score=0.746 total time=   0.0s\n",
      "[CV 2/3] END learning_rate=0.1, n_estimators=50;, score=0.694 total time=   0.0s\n",
      "[CV 3/3] END learning_rate=0.1, n_estimators=50;, score=0.687 total time=   0.0s\n",
      "[CV 1/3] END learning_rate=0.1, n_estimators=100;, score=0.754 total time=   0.0s\n",
      "[CV 2/3] END learning_rate=0.1, n_estimators=100;, score=0.715 total time=   0.0s\n",
      "[CV 3/3] END learning_rate=0.1, n_estimators=100;, score=0.682 total time=   0.0s\n",
      "[CV 1/3] END learning_rate=0.1, n_estimators=200;, score=0.746 total time=   0.2s\n",
      "[CV 2/3] END learning_rate=0.1, n_estimators=200;, score=0.707 total time=   0.2s\n",
      "[CV 3/3] END learning_rate=0.1, n_estimators=200;, score=0.698 total time=   0.1s\n",
      "[CV 1/3] END learning_rate=0.1, n_estimators=350;, score=0.745 total time=   0.3s\n",
      "[CV 2/3] END learning_rate=0.1, n_estimators=350;, score=0.703 total time=   0.3s\n",
      "[CV 3/3] END learning_rate=0.1, n_estimators=350;, score=0.698 total time=   0.3s\n",
      "[CV 1/3] END learning_rate=0.1, n_estimators=500;, score=0.745 total time=   0.5s\n",
      "[CV 2/3] END learning_rate=0.1, n_estimators=500;, score=0.714 total time=   0.5s\n",
      "[CV 3/3] END learning_rate=0.1, n_estimators=500;, score=0.713 total time=   0.5s\n",
      "[CV 1/3] END ..learning_rate=1, n_estimators=50;, score=0.734 total time=   0.0s\n",
      "[CV 2/3] END ..learning_rate=1, n_estimators=50;, score=0.714 total time=   0.0s\n",
      "[CV 3/3] END ..learning_rate=1, n_estimators=50;, score=0.733 total time=   0.0s\n",
      "[CV 1/3] END .learning_rate=1, n_estimators=100;, score=0.727 total time=   0.0s\n",
      "[CV 2/3] END .learning_rate=1, n_estimators=100;, score=0.723 total time=   0.0s\n",
      "[CV 3/3] END .learning_rate=1, n_estimators=100;, score=0.722 total time=   0.0s\n",
      "[CV 1/3] END .learning_rate=1, n_estimators=200;, score=0.760 total time=   0.1s\n",
      "[CV 2/3] END .learning_rate=1, n_estimators=200;, score=0.717 total time=   0.2s\n",
      "[CV 3/3] END .learning_rate=1, n_estimators=200;, score=0.744 total time=   0.1s\n",
      "[CV 1/3] END .learning_rate=1, n_estimators=350;, score=0.749 total time=   0.3s\n",
      "[CV 2/3] END .learning_rate=1, n_estimators=350;, score=0.714 total time=   0.3s\n",
      "[CV 3/3] END .learning_rate=1, n_estimators=350;, score=0.736 total time=   0.3s\n",
      "[CV 1/3] END .learning_rate=1, n_estimators=500;, score=0.750 total time=   0.5s\n",
      "[CV 2/3] END .learning_rate=1, n_estimators=500;, score=0.710 total time=   0.5s\n",
      "[CV 3/3] END .learning_rate=1, n_estimators=500;, score=0.736 total time=   0.5s\n",
      "[CV 1/3] END .learning_rate=10, n_estimators=50;, score=0.207 total time=   0.0s\n",
      "[CV 2/3] END .learning_rate=10, n_estimators=50;, score=0.244 total time=   0.0s\n",
      "[CV 3/3] END .learning_rate=10, n_estimators=50;, score=0.257 total time=   0.0s\n",
      "[CV 1/3] END learning_rate=10, n_estimators=100;, score=0.207 total time=   0.0s\n",
      "[CV 2/3] END learning_rate=10, n_estimators=100;, score=0.244 total time=   0.0s\n",
      "[CV 3/3] END learning_rate=10, n_estimators=100;, score=0.257 total time=   0.0s\n",
      "[CV 1/3] END learning_rate=10, n_estimators=200;, score=0.207 total time=   0.2s\n",
      "[CV 2/3] END learning_rate=10, n_estimators=200;, score=0.244 total time=   0.1s\n",
      "[CV 3/3] END learning_rate=10, n_estimators=200;, score=0.257 total time=   0.1s\n",
      "[CV 1/3] END learning_rate=10, n_estimators=350;, score=0.207 total time=   0.3s\n",
      "[CV 2/3] END learning_rate=10, n_estimators=350;, score=0.244 total time=   0.3s\n",
      "[CV 3/3] END learning_rate=10, n_estimators=350;, score=0.257 total time=   0.3s\n",
      "[CV 1/3] END learning_rate=10, n_estimators=500;, score=0.207 total time=   0.5s\n",
      "[CV 2/3] END learning_rate=10, n_estimators=500;, score=0.244 total time=   0.5s\n",
      "[CV 3/3] END learning_rate=10, n_estimators=500;, score=0.257 total time=   0.5s\n"
     ]
    },
    {
     "data": {
      "text/html": [
       "<style>#sk-container-id-9 {color: black;background-color: white;}#sk-container-id-9 pre{padding: 0;}#sk-container-id-9 div.sk-toggleable {background-color: white;}#sk-container-id-9 label.sk-toggleable__label {cursor: pointer;display: block;width: 100%;margin-bottom: 0;padding: 0.3em;box-sizing: border-box;text-align: center;}#sk-container-id-9 label.sk-toggleable__label-arrow:before {content: \"▸\";float: left;margin-right: 0.25em;color: #696969;}#sk-container-id-9 label.sk-toggleable__label-arrow:hover:before {color: black;}#sk-container-id-9 div.sk-estimator:hover label.sk-toggleable__label-arrow:before {color: black;}#sk-container-id-9 div.sk-toggleable__content {max-height: 0;max-width: 0;overflow: hidden;text-align: left;background-color: #f0f8ff;}#sk-container-id-9 div.sk-toggleable__content pre {margin: 0.2em;color: black;border-radius: 0.25em;background-color: #f0f8ff;}#sk-container-id-9 input.sk-toggleable__control:checked~div.sk-toggleable__content {max-height: 200px;max-width: 100%;overflow: auto;}#sk-container-id-9 input.sk-toggleable__control:checked~label.sk-toggleable__label-arrow:before {content: \"▾\";}#sk-container-id-9 div.sk-estimator input.sk-toggleable__control:checked~label.sk-toggleable__label {background-color: #d4ebff;}#sk-container-id-9 div.sk-label input.sk-toggleable__control:checked~label.sk-toggleable__label {background-color: #d4ebff;}#sk-container-id-9 input.sk-hidden--visually {border: 0;clip: rect(1px 1px 1px 1px);clip: rect(1px, 1px, 1px, 1px);height: 1px;margin: -1px;overflow: hidden;padding: 0;position: absolute;width: 1px;}#sk-container-id-9 div.sk-estimator {font-family: monospace;background-color: #f0f8ff;border: 1px dotted black;border-radius: 0.25em;box-sizing: border-box;margin-bottom: 0.5em;}#sk-container-id-9 div.sk-estimator:hover {background-color: #d4ebff;}#sk-container-id-9 div.sk-parallel-item::after {content: \"\";width: 100%;border-bottom: 1px solid gray;flex-grow: 1;}#sk-container-id-9 div.sk-label:hover label.sk-toggleable__label {background-color: #d4ebff;}#sk-container-id-9 div.sk-serial::before {content: \"\";position: absolute;border-left: 1px solid gray;box-sizing: border-box;top: 0;bottom: 0;left: 50%;z-index: 0;}#sk-container-id-9 div.sk-serial {display: flex;flex-direction: column;align-items: center;background-color: white;padding-right: 0.2em;padding-left: 0.2em;position: relative;}#sk-container-id-9 div.sk-item {position: relative;z-index: 1;}#sk-container-id-9 div.sk-parallel {display: flex;align-items: stretch;justify-content: center;background-color: white;position: relative;}#sk-container-id-9 div.sk-item::before, #sk-container-id-9 div.sk-parallel-item::before {content: \"\";position: absolute;border-left: 1px solid gray;box-sizing: border-box;top: 0;bottom: 0;left: 50%;z-index: -1;}#sk-container-id-9 div.sk-parallel-item {display: flex;flex-direction: column;z-index: 1;position: relative;background-color: white;}#sk-container-id-9 div.sk-parallel-item:first-child::after {align-self: flex-end;width: 50%;}#sk-container-id-9 div.sk-parallel-item:last-child::after {align-self: flex-start;width: 50%;}#sk-container-id-9 div.sk-parallel-item:only-child::after {width: 0;}#sk-container-id-9 div.sk-dashed-wrapped {border: 1px dashed gray;margin: 0 0.4em 0.5em 0.4em;box-sizing: border-box;padding-bottom: 0.4em;background-color: white;}#sk-container-id-9 div.sk-label label {font-family: monospace;font-weight: bold;display: inline-block;line-height: 1.2em;}#sk-container-id-9 div.sk-label-container {text-align: center;}#sk-container-id-9 div.sk-container {/* jupyter's `normalize.less` sets `[hidden] { display: none; }` but bootstrap.min.css set `[hidden] { display: none !important; }` so we also need the `!important` here to be able to override the default hidden behavior on the sphinx rendered scikit-learn.org. See: https://github.com/scikit-learn/scikit-learn/issues/21755 */display: inline-block !important;position: relative;}#sk-container-id-9 div.sk-text-repr-fallback {display: none;}</style><div id=\"sk-container-id-9\" class=\"sk-top-container\"><div class=\"sk-text-repr-fallback\"><pre>GridSearchCV(cv=3, estimator=AdaBoostClassifier(),\n",
       "             param_grid={&#x27;learning_rate&#x27;: [0.001, 0.01, 0.1, 1, 10],\n",
       "                         &#x27;n_estimators&#x27;: [50, 100, 200, 350, 500]},\n",
       "             scoring=&#x27;f1&#x27;, verbose=3)</pre><b>In a Jupyter environment, please rerun this cell to show the HTML representation or trust the notebook. <br />On GitHub, the HTML representation is unable to render, please try loading this page with nbviewer.org.</b></div><div class=\"sk-container\" hidden><div class=\"sk-item sk-dashed-wrapped\"><div class=\"sk-label-container\"><div class=\"sk-label sk-toggleable\"><input class=\"sk-toggleable__control sk-hidden--visually\" id=\"sk-estimator-id-17\" type=\"checkbox\" ><label for=\"sk-estimator-id-17\" class=\"sk-toggleable__label sk-toggleable__label-arrow\">GridSearchCV</label><div class=\"sk-toggleable__content\"><pre>GridSearchCV(cv=3, estimator=AdaBoostClassifier(),\n",
       "             param_grid={&#x27;learning_rate&#x27;: [0.001, 0.01, 0.1, 1, 10],\n",
       "                         &#x27;n_estimators&#x27;: [50, 100, 200, 350, 500]},\n",
       "             scoring=&#x27;f1&#x27;, verbose=3)</pre></div></div></div><div class=\"sk-parallel\"><div class=\"sk-parallel-item\"><div class=\"sk-item\"><div class=\"sk-label-container\"><div class=\"sk-label sk-toggleable\"><input class=\"sk-toggleable__control sk-hidden--visually\" id=\"sk-estimator-id-18\" type=\"checkbox\" ><label for=\"sk-estimator-id-18\" class=\"sk-toggleable__label sk-toggleable__label-arrow\">estimator: AdaBoostClassifier</label><div class=\"sk-toggleable__content\"><pre>AdaBoostClassifier()</pre></div></div></div><div class=\"sk-serial\"><div class=\"sk-item\"><div class=\"sk-estimator sk-toggleable\"><input class=\"sk-toggleable__control sk-hidden--visually\" id=\"sk-estimator-id-19\" type=\"checkbox\" ><label for=\"sk-estimator-id-19\" class=\"sk-toggleable__label sk-toggleable__label-arrow\">AdaBoostClassifier</label><div class=\"sk-toggleable__content\"><pre>AdaBoostClassifier()</pre></div></div></div></div></div></div></div></div></div></div>"
      ],
      "text/plain": [
       "GridSearchCV(cv=3, estimator=AdaBoostClassifier(),\n",
       "             param_grid={'learning_rate': [0.001, 0.01, 0.1, 1, 10],\n",
       "                         'n_estimators': [50, 100, 200, 350, 500]},\n",
       "             scoring='f1', verbose=3)"
      ]
     },
     "execution_count": 156,
     "metadata": {},
     "output_type": "execute_result"
    }
   ],
   "source": [
    "gscv.fit(x_train,y_train)"
   ]
  },
  {
   "cell_type": "code",
   "execution_count": 157,
   "id": "dc7a98a4",
   "metadata": {},
   "outputs": [],
   "source": [
    "# import sklearn\n",
    "#sorted(sklearn.metrics)"
   ]
  },
  {
   "cell_type": "code",
   "execution_count": 158,
   "id": "19162e29",
   "metadata": {},
   "outputs": [
    {
     "data": {
      "text/plain": [
       "0.7406646725087068"
      ]
     },
     "execution_count": 158,
     "metadata": {},
     "output_type": "execute_result"
    }
   ],
   "source": [
    "gscv.best_score_"
   ]
  },
  {
   "cell_type": "code",
   "execution_count": 159,
   "id": "d904a0d0",
   "metadata": {},
   "outputs": [
    {
     "data": {
      "text/plain": [
       "{'learning_rate': 1, 'n_estimators': 200}"
      ]
     },
     "execution_count": 159,
     "metadata": {},
     "output_type": "execute_result"
    }
   ],
   "source": [
    "gscv.best_params_"
   ]
  },
  {
   "cell_type": "code",
   "execution_count": 160,
   "id": "0847eb8d",
   "metadata": {},
   "outputs": [],
   "source": [
    "model_ada = AdaBoostClassifier(**gscv.best_params_)"
   ]
  },
  {
   "cell_type": "code",
   "execution_count": 161,
   "id": "6eab7c2a",
   "metadata": {},
   "outputs": [
    {
     "data": {
      "text/html": [
       "<style>#sk-container-id-10 {color: black;background-color: white;}#sk-container-id-10 pre{padding: 0;}#sk-container-id-10 div.sk-toggleable {background-color: white;}#sk-container-id-10 label.sk-toggleable__label {cursor: pointer;display: block;width: 100%;margin-bottom: 0;padding: 0.3em;box-sizing: border-box;text-align: center;}#sk-container-id-10 label.sk-toggleable__label-arrow:before {content: \"▸\";float: left;margin-right: 0.25em;color: #696969;}#sk-container-id-10 label.sk-toggleable__label-arrow:hover:before {color: black;}#sk-container-id-10 div.sk-estimator:hover label.sk-toggleable__label-arrow:before {color: black;}#sk-container-id-10 div.sk-toggleable__content {max-height: 0;max-width: 0;overflow: hidden;text-align: left;background-color: #f0f8ff;}#sk-container-id-10 div.sk-toggleable__content pre {margin: 0.2em;color: black;border-radius: 0.25em;background-color: #f0f8ff;}#sk-container-id-10 input.sk-toggleable__control:checked~div.sk-toggleable__content {max-height: 200px;max-width: 100%;overflow: auto;}#sk-container-id-10 input.sk-toggleable__control:checked~label.sk-toggleable__label-arrow:before {content: \"▾\";}#sk-container-id-10 div.sk-estimator input.sk-toggleable__control:checked~label.sk-toggleable__label {background-color: #d4ebff;}#sk-container-id-10 div.sk-label input.sk-toggleable__control:checked~label.sk-toggleable__label {background-color: #d4ebff;}#sk-container-id-10 input.sk-hidden--visually {border: 0;clip: rect(1px 1px 1px 1px);clip: rect(1px, 1px, 1px, 1px);height: 1px;margin: -1px;overflow: hidden;padding: 0;position: absolute;width: 1px;}#sk-container-id-10 div.sk-estimator {font-family: monospace;background-color: #f0f8ff;border: 1px dotted black;border-radius: 0.25em;box-sizing: border-box;margin-bottom: 0.5em;}#sk-container-id-10 div.sk-estimator:hover {background-color: #d4ebff;}#sk-container-id-10 div.sk-parallel-item::after {content: \"\";width: 100%;border-bottom: 1px solid gray;flex-grow: 1;}#sk-container-id-10 div.sk-label:hover label.sk-toggleable__label {background-color: #d4ebff;}#sk-container-id-10 div.sk-serial::before {content: \"\";position: absolute;border-left: 1px solid gray;box-sizing: border-box;top: 0;bottom: 0;left: 50%;z-index: 0;}#sk-container-id-10 div.sk-serial {display: flex;flex-direction: column;align-items: center;background-color: white;padding-right: 0.2em;padding-left: 0.2em;position: relative;}#sk-container-id-10 div.sk-item {position: relative;z-index: 1;}#sk-container-id-10 div.sk-parallel {display: flex;align-items: stretch;justify-content: center;background-color: white;position: relative;}#sk-container-id-10 div.sk-item::before, #sk-container-id-10 div.sk-parallel-item::before {content: \"\";position: absolute;border-left: 1px solid gray;box-sizing: border-box;top: 0;bottom: 0;left: 50%;z-index: -1;}#sk-container-id-10 div.sk-parallel-item {display: flex;flex-direction: column;z-index: 1;position: relative;background-color: white;}#sk-container-id-10 div.sk-parallel-item:first-child::after {align-self: flex-end;width: 50%;}#sk-container-id-10 div.sk-parallel-item:last-child::after {align-self: flex-start;width: 50%;}#sk-container-id-10 div.sk-parallel-item:only-child::after {width: 0;}#sk-container-id-10 div.sk-dashed-wrapped {border: 1px dashed gray;margin: 0 0.4em 0.5em 0.4em;box-sizing: border-box;padding-bottom: 0.4em;background-color: white;}#sk-container-id-10 div.sk-label label {font-family: monospace;font-weight: bold;display: inline-block;line-height: 1.2em;}#sk-container-id-10 div.sk-label-container {text-align: center;}#sk-container-id-10 div.sk-container {/* jupyter's `normalize.less` sets `[hidden] { display: none; }` but bootstrap.min.css set `[hidden] { display: none !important; }` so we also need the `!important` here to be able to override the default hidden behavior on the sphinx rendered scikit-learn.org. See: https://github.com/scikit-learn/scikit-learn/issues/21755 */display: inline-block !important;position: relative;}#sk-container-id-10 div.sk-text-repr-fallback {display: none;}</style><div id=\"sk-container-id-10\" class=\"sk-top-container\"><div class=\"sk-text-repr-fallback\"><pre>AdaBoostClassifier(learning_rate=1, n_estimators=200)</pre><b>In a Jupyter environment, please rerun this cell to show the HTML representation or trust the notebook. <br />On GitHub, the HTML representation is unable to render, please try loading this page with nbviewer.org.</b></div><div class=\"sk-container\" hidden><div class=\"sk-item\"><div class=\"sk-estimator sk-toggleable\"><input class=\"sk-toggleable__control sk-hidden--visually\" id=\"sk-estimator-id-20\" type=\"checkbox\" checked><label for=\"sk-estimator-id-20\" class=\"sk-toggleable__label sk-toggleable__label-arrow\">AdaBoostClassifier</label><div class=\"sk-toggleable__content\"><pre>AdaBoostClassifier(learning_rate=1, n_estimators=200)</pre></div></div></div></div></div>"
      ],
      "text/plain": [
       "AdaBoostClassifier(learning_rate=1, n_estimators=200)"
      ]
     },
     "execution_count": 161,
     "metadata": {},
     "output_type": "execute_result"
    }
   ],
   "source": [
    "model_ada.fit(x_train,y_train)"
   ]
  },
  {
   "cell_type": "code",
   "execution_count": 162,
   "id": "9f334b09",
   "metadata": {},
   "outputs": [],
   "source": [
    "y_pred_ada= model_ada.predict(x_test)"
   ]
  },
  {
   "cell_type": "code",
   "execution_count": 163,
   "id": "905806e7",
   "metadata": {},
   "outputs": [
    {
     "name": "stdout",
     "output_type": "stream",
     "text": [
      "confusion Matrix:\n",
      " [[94 16]\n",
      " [17 52]]\n",
      "Acuracy: 0.8156424581005587\n",
      "Recall: 0.7536231884057971\n",
      "Precision: 0.7647058823529411\n",
      "F1 Score: 0.759124087591241\n"
     ]
    }
   ],
   "source": [
    "validation(y_test,y_pred_ada)"
   ]
  },
  {
   "cell_type": "markdown",
   "id": "c92f1b20",
   "metadata": {},
   "source": [
    "# Gradient Boosting"
   ]
  },
  {
   "cell_type": "code",
   "execution_count": 164,
   "id": "11c24f7c",
   "metadata": {},
   "outputs": [],
   "source": [
    "from sklearn.ensemble import GradientBoostingClassifier"
   ]
  },
  {
   "cell_type": "code",
   "execution_count": 165,
   "id": "7da960c1",
   "metadata": {},
   "outputs": [],
   "source": [
    "model_gb = GradientBoostingClassifier()"
   ]
  },
  {
   "cell_type": "code",
   "execution_count": 166,
   "id": "108a5d39",
   "metadata": {},
   "outputs": [],
   "source": [
    "param = {'n_estimators':[50,100,200,350,500],\n",
    "         'learning_rate':[0.001,.01,0.1,1],\n",
    "        'max_features':[3,4,5]}"
   ]
  },
  {
   "cell_type": "code",
   "execution_count": 167,
   "id": "1406ddfe",
   "metadata": {},
   "outputs": [],
   "source": [
    "gscv = GridSearchCV(estimator=model_gb,\n",
    "                   param_grid=param,\n",
    "                    cv=3,\n",
    "                   scoring='accuracy',\n",
    "                   verbose=3)"
   ]
  },
  {
   "cell_type": "code",
   "execution_count": 168,
   "id": "3ecb2306",
   "metadata": {
    "scrolled": true
   },
   "outputs": [
    {
     "name": "stdout",
     "output_type": "stream",
     "text": [
      "Fitting 3 folds for each of 60 candidates, totalling 180 fits\n",
      "[CV 1/3] END learning_rate=0.001, max_features=3, n_estimators=50;, score=0.618 total time=   0.0s\n",
      "[CV 2/3] END learning_rate=0.001, max_features=3, n_estimators=50;, score=0.616 total time=   0.0s\n",
      "[CV 3/3] END learning_rate=0.001, max_features=3, n_estimators=50;, score=0.616 total time=   0.0s\n",
      "[CV 1/3] END learning_rate=0.001, max_features=3, n_estimators=100;, score=0.618 total time=   0.0s\n",
      "[CV 2/3] END learning_rate=0.001, max_features=3, n_estimators=100;, score=0.616 total time=   0.0s\n",
      "[CV 3/3] END learning_rate=0.001, max_features=3, n_estimators=100;, score=0.616 total time=   0.0s\n",
      "[CV 1/3] END learning_rate=0.001, max_features=3, n_estimators=200;, score=0.618 total time=   0.0s\n",
      "[CV 2/3] END learning_rate=0.001, max_features=3, n_estimators=200;, score=0.616 total time=   0.0s\n",
      "[CV 3/3] END learning_rate=0.001, max_features=3, n_estimators=200;, score=0.616 total time=   0.0s\n",
      "[CV 1/3] END learning_rate=0.001, max_features=3, n_estimators=350;, score=0.689 total time=   0.1s\n",
      "[CV 2/3] END learning_rate=0.001, max_features=3, n_estimators=350;, score=0.738 total time=   0.1s\n",
      "[CV 3/3] END learning_rate=0.001, max_features=3, n_estimators=350;, score=0.700 total time=   0.1s\n",
      "[CV 1/3] END learning_rate=0.001, max_features=3, n_estimators=500;, score=0.723 total time=   0.2s\n",
      "[CV 2/3] END learning_rate=0.001, max_features=3, n_estimators=500;, score=0.743 total time=   0.1s\n",
      "[CV 3/3] END learning_rate=0.001, max_features=3, n_estimators=500;, score=0.751 total time=   0.1s\n",
      "[CV 1/3] END learning_rate=0.001, max_features=4, n_estimators=50;, score=0.618 total time=   0.0s\n",
      "[CV 2/3] END learning_rate=0.001, max_features=4, n_estimators=50;, score=0.616 total time=   0.0s\n",
      "[CV 3/3] END learning_rate=0.001, max_features=4, n_estimators=50;, score=0.616 total time=   0.0s\n",
      "[CV 1/3] END learning_rate=0.001, max_features=4, n_estimators=100;, score=0.618 total time=   0.0s\n",
      "[CV 2/3] END learning_rate=0.001, max_features=4, n_estimators=100;, score=0.616 total time=   0.0s\n",
      "[CV 3/3] END learning_rate=0.001, max_features=4, n_estimators=100;, score=0.616 total time=   0.0s\n",
      "[CV 1/3] END learning_rate=0.001, max_features=4, n_estimators=200;, score=0.618 total time=   0.0s\n",
      "[CV 2/3] END learning_rate=0.001, max_features=4, n_estimators=200;, score=0.616 total time=   0.1s\n",
      "[CV 3/3] END learning_rate=0.001, max_features=4, n_estimators=200;, score=0.616 total time=   0.1s\n",
      "[CV 1/3] END learning_rate=0.001, max_features=4, n_estimators=350;, score=0.693 total time=   0.3s\n",
      "[CV 2/3] END learning_rate=0.001, max_features=4, n_estimators=350;, score=0.751 total time=   0.1s\n",
      "[CV 3/3] END learning_rate=0.001, max_features=4, n_estimators=350;, score=0.713 total time=   0.2s\n",
      "[CV 1/3] END learning_rate=0.001, max_features=4, n_estimators=500;, score=0.777 total time=   0.2s\n",
      "[CV 2/3] END learning_rate=0.001, max_features=4, n_estimators=500;, score=0.734 total time=   0.2s\n",
      "[CV 3/3] END learning_rate=0.001, max_features=4, n_estimators=500;, score=0.789 total time=   0.2s\n",
      "[CV 1/3] END learning_rate=0.001, max_features=5, n_estimators=50;, score=0.618 total time=   0.0s\n",
      "[CV 2/3] END learning_rate=0.001, max_features=5, n_estimators=50;, score=0.616 total time=   0.0s\n",
      "[CV 3/3] END learning_rate=0.001, max_features=5, n_estimators=50;, score=0.616 total time=   0.0s\n",
      "[CV 1/3] END learning_rate=0.001, max_features=5, n_estimators=100;, score=0.618 total time=   0.0s\n",
      "[CV 2/3] END learning_rate=0.001, max_features=5, n_estimators=100;, score=0.616 total time=   0.0s\n",
      "[CV 3/3] END learning_rate=0.001, max_features=5, n_estimators=100;, score=0.616 total time=   0.0s\n",
      "[CV 1/3] END learning_rate=0.001, max_features=5, n_estimators=200;, score=0.618 total time=   0.1s\n",
      "[CV 2/3] END learning_rate=0.001, max_features=5, n_estimators=200;, score=0.616 total time=   0.1s\n",
      "[CV 3/3] END learning_rate=0.001, max_features=5, n_estimators=200;, score=0.616 total time=   0.1s\n",
      "[CV 1/3] END learning_rate=0.001, max_features=5, n_estimators=350;, score=0.693 total time=   0.1s\n",
      "[CV 2/3] END learning_rate=0.001, max_features=5, n_estimators=350;, score=0.747 total time=   0.3s\n",
      "[CV 3/3] END learning_rate=0.001, max_features=5, n_estimators=350;, score=0.722 total time=   0.2s\n",
      "[CV 1/3] END learning_rate=0.001, max_features=5, n_estimators=500;, score=0.803 total time=   0.4s\n",
      "[CV 2/3] END learning_rate=0.001, max_features=5, n_estimators=500;, score=0.734 total time=   0.2s\n",
      "[CV 3/3] END learning_rate=0.001, max_features=5, n_estimators=500;, score=0.768 total time=   0.2s\n",
      "[CV 1/3] END learning_rate=0.01, max_features=3, n_estimators=50;, score=0.752 total time=   0.0s\n",
      "[CV 2/3] END learning_rate=0.01, max_features=3, n_estimators=50;, score=0.738 total time=   0.0s\n",
      "[CV 3/3] END learning_rate=0.01, max_features=3, n_estimators=50;, score=0.781 total time=   0.0s\n",
      "[CV 1/3] END learning_rate=0.01, max_features=3, n_estimators=100;, score=0.819 total time=   0.0s\n",
      "[CV 2/3] END learning_rate=0.01, max_features=3, n_estimators=100;, score=0.793 total time=   0.0s\n",
      "[CV 3/3] END learning_rate=0.01, max_features=3, n_estimators=100;, score=0.793 total time=   0.0s\n",
      "[CV 1/3] END learning_rate=0.01, max_features=3, n_estimators=200;, score=0.828 total time=   0.0s\n",
      "[CV 2/3] END learning_rate=0.01, max_features=3, n_estimators=200;, score=0.793 total time=   0.0s\n",
      "[CV 3/3] END learning_rate=0.01, max_features=3, n_estimators=200;, score=0.806 total time=   0.1s\n",
      "[CV 1/3] END learning_rate=0.01, max_features=3, n_estimators=350;, score=0.824 total time=   0.1s\n",
      "[CV 2/3] END learning_rate=0.01, max_features=3, n_estimators=350;, score=0.781 total time=   0.2s\n",
      "[CV 3/3] END learning_rate=0.01, max_features=3, n_estimators=350;, score=0.806 total time=   0.1s\n",
      "[CV 1/3] END learning_rate=0.01, max_features=3, n_estimators=500;, score=0.819 total time=   0.3s\n",
      "[CV 2/3] END learning_rate=0.01, max_features=3, n_estimators=500;, score=0.781 total time=   0.3s\n",
      "[CV 3/3] END learning_rate=0.01, max_features=3, n_estimators=500;, score=0.810 total time=   0.2s\n",
      "[CV 1/3] END learning_rate=0.01, max_features=4, n_estimators=50;, score=0.773 total time=   0.0s\n",
      "[CV 2/3] END learning_rate=0.01, max_features=4, n_estimators=50;, score=0.734 total time=   0.0s\n",
      "[CV 3/3] END learning_rate=0.01, max_features=4, n_estimators=50;, score=0.772 total time=   0.0s\n",
      "[CV 1/3] END learning_rate=0.01, max_features=4, n_estimators=100;, score=0.819 total time=   0.0s\n",
      "[CV 2/3] END learning_rate=0.01, max_features=4, n_estimators=100;, score=0.785 total time=   0.0s\n",
      "[CV 3/3] END learning_rate=0.01, max_features=4, n_estimators=100;, score=0.793 total time=   0.0s\n",
      "[CV 1/3] END learning_rate=0.01, max_features=4, n_estimators=200;, score=0.824 total time=   0.1s\n",
      "[CV 2/3] END learning_rate=0.01, max_features=4, n_estimators=200;, score=0.797 total time=   0.0s\n",
      "[CV 3/3] END learning_rate=0.01, max_features=4, n_estimators=200;, score=0.797 total time=   0.0s\n",
      "[CV 1/3] END learning_rate=0.01, max_features=4, n_estimators=350;, score=0.828 total time=   0.2s\n",
      "[CV 2/3] END learning_rate=0.01, max_features=4, n_estimators=350;, score=0.781 total time=   0.1s\n",
      "[CV 3/3] END learning_rate=0.01, max_features=4, n_estimators=350;, score=0.806 total time=   0.1s\n",
      "[CV 1/3] END learning_rate=0.01, max_features=4, n_estimators=500;, score=0.815 total time=   0.2s\n",
      "[CV 2/3] END learning_rate=0.01, max_features=4, n_estimators=500;, score=0.785 total time=   0.2s\n",
      "[CV 3/3] END learning_rate=0.01, max_features=4, n_estimators=500;, score=0.802 total time=   0.2s\n",
      "[CV 1/3] END learning_rate=0.01, max_features=5, n_estimators=50;, score=0.782 total time=   0.0s\n",
      "[CV 2/3] END learning_rate=0.01, max_features=5, n_estimators=50;, score=0.734 total time=   0.0s\n",
      "[CV 3/3] END learning_rate=0.01, max_features=5, n_estimators=50;, score=0.772 total time=   0.0s\n",
      "[CV 1/3] END learning_rate=0.01, max_features=5, n_estimators=100;, score=0.824 total time=   0.0s\n",
      "[CV 2/3] END learning_rate=0.01, max_features=5, n_estimators=100;, score=0.789 total time=   0.0s\n",
      "[CV 3/3] END learning_rate=0.01, max_features=5, n_estimators=100;, score=0.785 total time=   0.0s\n",
      "[CV 1/3] END learning_rate=0.01, max_features=5, n_estimators=200;, score=0.824 total time=   0.0s\n"
     ]
    },
    {
     "name": "stdout",
     "output_type": "stream",
     "text": [
      "[CV 2/3] END learning_rate=0.01, max_features=5, n_estimators=200;, score=0.789 total time=   0.0s\n",
      "[CV 3/3] END learning_rate=0.01, max_features=5, n_estimators=200;, score=0.802 total time=   0.1s\n",
      "[CV 1/3] END learning_rate=0.01, max_features=5, n_estimators=350;, score=0.824 total time=   0.2s\n",
      "[CV 2/3] END learning_rate=0.01, max_features=5, n_estimators=350;, score=0.785 total time=   0.2s\n",
      "[CV 3/3] END learning_rate=0.01, max_features=5, n_estimators=350;, score=0.802 total time=   0.1s\n",
      "[CV 1/3] END learning_rate=0.01, max_features=5, n_estimators=500;, score=0.811 total time=   0.3s\n",
      "[CV 2/3] END learning_rate=0.01, max_features=5, n_estimators=500;, score=0.776 total time=   0.3s\n",
      "[CV 3/3] END learning_rate=0.01, max_features=5, n_estimators=500;, score=0.806 total time=   0.2s\n",
      "[CV 1/3] END learning_rate=0.1, max_features=3, n_estimators=50;, score=0.803 total time=   0.0s\n",
      "[CV 2/3] END learning_rate=0.1, max_features=3, n_estimators=50;, score=0.793 total time=   0.0s\n",
      "[CV 3/3] END learning_rate=0.1, max_features=3, n_estimators=50;, score=0.802 total time=   0.0s\n",
      "[CV 1/3] END learning_rate=0.1, max_features=3, n_estimators=100;, score=0.828 total time=   0.0s\n",
      "[CV 2/3] END learning_rate=0.1, max_features=3, n_estimators=100;, score=0.785 total time=   0.0s\n",
      "[CV 3/3] END learning_rate=0.1, max_features=3, n_estimators=100;, score=0.814 total time=   0.0s\n",
      "[CV 1/3] END learning_rate=0.1, max_features=3, n_estimators=200;, score=0.811 total time=   0.0s\n",
      "[CV 2/3] END learning_rate=0.1, max_features=3, n_estimators=200;, score=0.785 total time=   0.0s\n",
      "[CV 3/3] END learning_rate=0.1, max_features=3, n_estimators=200;, score=0.785 total time=   0.1s\n",
      "[CV 1/3] END learning_rate=0.1, max_features=3, n_estimators=350;, score=0.803 total time=   0.1s\n",
      "[CV 2/3] END learning_rate=0.1, max_features=3, n_estimators=350;, score=0.781 total time=   0.1s\n",
      "[CV 3/3] END learning_rate=0.1, max_features=3, n_estimators=350;, score=0.785 total time=   0.1s\n",
      "[CV 1/3] END learning_rate=0.1, max_features=3, n_estimators=500;, score=0.815 total time=   0.2s\n",
      "[CV 2/3] END learning_rate=0.1, max_features=3, n_estimators=500;, score=0.797 total time=   0.1s\n",
      "[CV 3/3] END learning_rate=0.1, max_features=3, n_estimators=500;, score=0.785 total time=   0.1s\n",
      "[CV 1/3] END learning_rate=0.1, max_features=4, n_estimators=50;, score=0.811 total time=   0.0s\n",
      "[CV 2/3] END learning_rate=0.1, max_features=4, n_estimators=50;, score=0.785 total time=   0.0s\n",
      "[CV 3/3] END learning_rate=0.1, max_features=4, n_estimators=50;, score=0.810 total time=   0.0s\n",
      "[CV 1/3] END learning_rate=0.1, max_features=4, n_estimators=100;, score=0.794 total time=   0.0s\n",
      "[CV 2/3] END learning_rate=0.1, max_features=4, n_estimators=100;, score=0.781 total time=   0.0s\n",
      "[CV 3/3] END learning_rate=0.1, max_features=4, n_estimators=100;, score=0.797 total time=   0.0s\n",
      "[CV 1/3] END learning_rate=0.1, max_features=4, n_estimators=200;, score=0.828 total time=   0.0s\n",
      "[CV 2/3] END learning_rate=0.1, max_features=4, n_estimators=200;, score=0.793 total time=   0.1s\n",
      "[CV 3/3] END learning_rate=0.1, max_features=4, n_estimators=200;, score=0.789 total time=   0.0s\n",
      "[CV 1/3] END learning_rate=0.1, max_features=4, n_estimators=350;, score=0.819 total time=   0.1s\n",
      "[CV 2/3] END learning_rate=0.1, max_features=4, n_estimators=350;, score=0.793 total time=   0.2s\n",
      "[CV 3/3] END learning_rate=0.1, max_features=4, n_estimators=350;, score=0.806 total time=   0.1s\n",
      "[CV 1/3] END learning_rate=0.1, max_features=4, n_estimators=500;, score=0.811 total time=   0.2s\n",
      "[CV 2/3] END learning_rate=0.1, max_features=4, n_estimators=500;, score=0.802 total time=   0.3s\n",
      "[CV 3/3] END learning_rate=0.1, max_features=4, n_estimators=500;, score=0.781 total time=   0.2s\n",
      "[CV 1/3] END learning_rate=0.1, max_features=5, n_estimators=50;, score=0.807 total time=   0.0s\n",
      "[CV 2/3] END learning_rate=0.1, max_features=5, n_estimators=50;, score=0.776 total time=   0.0s\n",
      "[CV 3/3] END learning_rate=0.1, max_features=5, n_estimators=50;, score=0.806 total time=   0.0s\n",
      "[CV 1/3] END learning_rate=0.1, max_features=5, n_estimators=100;, score=0.824 total time=   0.0s\n",
      "[CV 2/3] END learning_rate=0.1, max_features=5, n_estimators=100;, score=0.768 total time=   0.0s\n",
      "[CV 3/3] END learning_rate=0.1, max_features=5, n_estimators=100;, score=0.806 total time=   0.0s\n",
      "[CV 1/3] END learning_rate=0.1, max_features=5, n_estimators=200;, score=0.815 total time=   0.0s\n",
      "[CV 2/3] END learning_rate=0.1, max_features=5, n_estimators=200;, score=0.781 total time=   0.0s\n",
      "[CV 3/3] END learning_rate=0.1, max_features=5, n_estimators=200;, score=0.797 total time=   0.0s\n",
      "[CV 1/3] END learning_rate=0.1, max_features=5, n_estimators=350;, score=0.819 total time=   0.2s\n",
      "[CV 2/3] END learning_rate=0.1, max_features=5, n_estimators=350;, score=0.785 total time=   0.1s\n",
      "[CV 3/3] END learning_rate=0.1, max_features=5, n_estimators=350;, score=0.797 total time=   0.2s\n",
      "[CV 1/3] END learning_rate=0.1, max_features=5, n_estimators=500;, score=0.803 total time=   0.5s\n",
      "[CV 2/3] END learning_rate=0.1, max_features=5, n_estimators=500;, score=0.797 total time=   0.3s\n",
      "[CV 3/3] END learning_rate=0.1, max_features=5, n_estimators=500;, score=0.797 total time=   0.3s\n",
      "[CV 1/3] END learning_rate=1, max_features=3, n_estimators=50;, score=0.786 total time=   0.0s\n",
      "[CV 2/3] END learning_rate=1, max_features=3, n_estimators=50;, score=0.802 total time=   0.0s\n",
      "[CV 3/3] END learning_rate=1, max_features=3, n_estimators=50;, score=0.768 total time=   0.0s\n",
      "[CV 1/3] END learning_rate=1, max_features=3, n_estimators=100;, score=0.794 total time=   0.0s\n",
      "[CV 2/3] END learning_rate=1, max_features=3, n_estimators=100;, score=0.776 total time=   0.0s\n",
      "[CV 3/3] END learning_rate=1, max_features=3, n_estimators=100;, score=0.776 total time=   0.0s\n",
      "[CV 1/3] END learning_rate=1, max_features=3, n_estimators=200;, score=0.790 total time=   0.0s\n",
      "[CV 2/3] END learning_rate=1, max_features=3, n_estimators=200;, score=0.785 total time=   0.0s\n",
      "[CV 3/3] END learning_rate=1, max_features=3, n_estimators=200;, score=0.759 total time=   0.1s\n",
      "[CV 1/3] END learning_rate=1, max_features=3, n_estimators=350;, score=0.790 total time=   0.2s\n",
      "[CV 2/3] END learning_rate=1, max_features=3, n_estimators=350;, score=0.785 total time=   0.2s\n",
      "[CV 3/3] END learning_rate=1, max_features=3, n_estimators=350;, score=0.764 total time=   0.2s\n",
      "[CV 1/3] END learning_rate=1, max_features=3, n_estimators=500;, score=0.777 total time=   0.3s\n",
      "[CV 2/3] END learning_rate=1, max_features=3, n_estimators=500;, score=0.764 total time=   0.3s\n",
      "[CV 3/3] END learning_rate=1, max_features=3, n_estimators=500;, score=0.768 total time=   0.3s\n",
      "[CV 1/3] END learning_rate=1, max_features=4, n_estimators=50;, score=0.803 total time=   0.0s\n",
      "[CV 2/3] END learning_rate=1, max_features=4, n_estimators=50;, score=0.772 total time=   0.0s\n",
      "[CV 3/3] END learning_rate=1, max_features=4, n_estimators=50;, score=0.759 total time=   0.0s\n",
      "[CV 1/3] END learning_rate=1, max_features=4, n_estimators=100;, score=0.794 total time=   0.1s\n",
      "[CV 2/3] END learning_rate=1, max_features=4, n_estimators=100;, score=0.776 total time=   0.0s\n",
      "[CV 3/3] END learning_rate=1, max_features=4, n_estimators=100;, score=0.743 total time=   0.1s\n",
      "[CV 1/3] END learning_rate=1, max_features=4, n_estimators=200;, score=0.803 total time=   0.1s\n",
      "[CV 2/3] END learning_rate=1, max_features=4, n_estimators=200;, score=0.789 total time=   0.1s\n",
      "[CV 3/3] END learning_rate=1, max_features=4, n_estimators=200;, score=0.768 total time=   0.1s\n",
      "[CV 1/3] END learning_rate=1, max_features=4, n_estimators=350;, score=0.786 total time=   0.2s\n",
      "[CV 2/3] END learning_rate=1, max_features=4, n_estimators=350;, score=0.789 total time=   0.2s\n",
      "[CV 3/3] END learning_rate=1, max_features=4, n_estimators=350;, score=0.755 total time=   0.2s\n",
      "[CV 1/3] END learning_rate=1, max_features=4, n_estimators=500;, score=0.777 total time=   0.4s\n",
      "[CV 2/3] END learning_rate=1, max_features=4, n_estimators=500;, score=0.776 total time=   0.3s\n",
      "[CV 3/3] END learning_rate=1, max_features=4, n_estimators=500;, score=0.768 total time=   0.6s\n",
      "[CV 1/3] END learning_rate=1, max_features=5, n_estimators=50;, score=0.819 total time=   0.0s\n",
      "[CV 2/3] END learning_rate=1, max_features=5, n_estimators=50;, score=0.793 total time=   0.0s\n",
      "[CV 3/3] END learning_rate=1, max_features=5, n_estimators=50;, score=0.776 total time=   0.0s\n"
     ]
    },
    {
     "name": "stdout",
     "output_type": "stream",
     "text": [
      "[CV 1/3] END learning_rate=1, max_features=5, n_estimators=100;, score=0.807 total time=   0.0s\n",
      "[CV 2/3] END learning_rate=1, max_features=5, n_estimators=100;, score=0.789 total time=   0.0s\n",
      "[CV 3/3] END learning_rate=1, max_features=5, n_estimators=100;, score=0.772 total time=   0.0s\n",
      "[CV 1/3] END learning_rate=1, max_features=5, n_estimators=200;, score=0.811 total time=   0.1s\n",
      "[CV 2/3] END learning_rate=1, max_features=5, n_estimators=200;, score=0.785 total time=   0.1s\n",
      "[CV 3/3] END learning_rate=1, max_features=5, n_estimators=200;, score=0.768 total time=   0.1s\n",
      "[CV 1/3] END learning_rate=1, max_features=5, n_estimators=350;, score=0.786 total time=   0.2s\n",
      "[CV 2/3] END learning_rate=1, max_features=5, n_estimators=350;, score=0.759 total time=   0.2s\n",
      "[CV 3/3] END learning_rate=1, max_features=5, n_estimators=350;, score=0.764 total time=   0.2s\n",
      "[CV 1/3] END learning_rate=1, max_features=5, n_estimators=500;, score=0.803 total time=   0.4s\n",
      "[CV 2/3] END learning_rate=1, max_features=5, n_estimators=500;, score=0.768 total time=   0.2s\n",
      "[CV 3/3] END learning_rate=1, max_features=5, n_estimators=500;, score=0.772 total time=   0.4s\n"
     ]
    },
    {
     "data": {
      "text/html": [
       "<style>#sk-container-id-11 {color: black;background-color: white;}#sk-container-id-11 pre{padding: 0;}#sk-container-id-11 div.sk-toggleable {background-color: white;}#sk-container-id-11 label.sk-toggleable__label {cursor: pointer;display: block;width: 100%;margin-bottom: 0;padding: 0.3em;box-sizing: border-box;text-align: center;}#sk-container-id-11 label.sk-toggleable__label-arrow:before {content: \"▸\";float: left;margin-right: 0.25em;color: #696969;}#sk-container-id-11 label.sk-toggleable__label-arrow:hover:before {color: black;}#sk-container-id-11 div.sk-estimator:hover label.sk-toggleable__label-arrow:before {color: black;}#sk-container-id-11 div.sk-toggleable__content {max-height: 0;max-width: 0;overflow: hidden;text-align: left;background-color: #f0f8ff;}#sk-container-id-11 div.sk-toggleable__content pre {margin: 0.2em;color: black;border-radius: 0.25em;background-color: #f0f8ff;}#sk-container-id-11 input.sk-toggleable__control:checked~div.sk-toggleable__content {max-height: 200px;max-width: 100%;overflow: auto;}#sk-container-id-11 input.sk-toggleable__control:checked~label.sk-toggleable__label-arrow:before {content: \"▾\";}#sk-container-id-11 div.sk-estimator input.sk-toggleable__control:checked~label.sk-toggleable__label {background-color: #d4ebff;}#sk-container-id-11 div.sk-label input.sk-toggleable__control:checked~label.sk-toggleable__label {background-color: #d4ebff;}#sk-container-id-11 input.sk-hidden--visually {border: 0;clip: rect(1px 1px 1px 1px);clip: rect(1px, 1px, 1px, 1px);height: 1px;margin: -1px;overflow: hidden;padding: 0;position: absolute;width: 1px;}#sk-container-id-11 div.sk-estimator {font-family: monospace;background-color: #f0f8ff;border: 1px dotted black;border-radius: 0.25em;box-sizing: border-box;margin-bottom: 0.5em;}#sk-container-id-11 div.sk-estimator:hover {background-color: #d4ebff;}#sk-container-id-11 div.sk-parallel-item::after {content: \"\";width: 100%;border-bottom: 1px solid gray;flex-grow: 1;}#sk-container-id-11 div.sk-label:hover label.sk-toggleable__label {background-color: #d4ebff;}#sk-container-id-11 div.sk-serial::before {content: \"\";position: absolute;border-left: 1px solid gray;box-sizing: border-box;top: 0;bottom: 0;left: 50%;z-index: 0;}#sk-container-id-11 div.sk-serial {display: flex;flex-direction: column;align-items: center;background-color: white;padding-right: 0.2em;padding-left: 0.2em;position: relative;}#sk-container-id-11 div.sk-item {position: relative;z-index: 1;}#sk-container-id-11 div.sk-parallel {display: flex;align-items: stretch;justify-content: center;background-color: white;position: relative;}#sk-container-id-11 div.sk-item::before, #sk-container-id-11 div.sk-parallel-item::before {content: \"\";position: absolute;border-left: 1px solid gray;box-sizing: border-box;top: 0;bottom: 0;left: 50%;z-index: -1;}#sk-container-id-11 div.sk-parallel-item {display: flex;flex-direction: column;z-index: 1;position: relative;background-color: white;}#sk-container-id-11 div.sk-parallel-item:first-child::after {align-self: flex-end;width: 50%;}#sk-container-id-11 div.sk-parallel-item:last-child::after {align-self: flex-start;width: 50%;}#sk-container-id-11 div.sk-parallel-item:only-child::after {width: 0;}#sk-container-id-11 div.sk-dashed-wrapped {border: 1px dashed gray;margin: 0 0.4em 0.5em 0.4em;box-sizing: border-box;padding-bottom: 0.4em;background-color: white;}#sk-container-id-11 div.sk-label label {font-family: monospace;font-weight: bold;display: inline-block;line-height: 1.2em;}#sk-container-id-11 div.sk-label-container {text-align: center;}#sk-container-id-11 div.sk-container {/* jupyter's `normalize.less` sets `[hidden] { display: none; }` but bootstrap.min.css set `[hidden] { display: none !important; }` so we also need the `!important` here to be able to override the default hidden behavior on the sphinx rendered scikit-learn.org. See: https://github.com/scikit-learn/scikit-learn/issues/21755 */display: inline-block !important;position: relative;}#sk-container-id-11 div.sk-text-repr-fallback {display: none;}</style><div id=\"sk-container-id-11\" class=\"sk-top-container\"><div class=\"sk-text-repr-fallback\"><pre>GridSearchCV(cv=3, estimator=GradientBoostingClassifier(),\n",
       "             param_grid={&#x27;learning_rate&#x27;: [0.001, 0.01, 0.1, 1],\n",
       "                         &#x27;max_features&#x27;: [3, 4, 5],\n",
       "                         &#x27;n_estimators&#x27;: [50, 100, 200, 350, 500]},\n",
       "             scoring=&#x27;accuracy&#x27;, verbose=3)</pre><b>In a Jupyter environment, please rerun this cell to show the HTML representation or trust the notebook. <br />On GitHub, the HTML representation is unable to render, please try loading this page with nbviewer.org.</b></div><div class=\"sk-container\" hidden><div class=\"sk-item sk-dashed-wrapped\"><div class=\"sk-label-container\"><div class=\"sk-label sk-toggleable\"><input class=\"sk-toggleable__control sk-hidden--visually\" id=\"sk-estimator-id-21\" type=\"checkbox\" ><label for=\"sk-estimator-id-21\" class=\"sk-toggleable__label sk-toggleable__label-arrow\">GridSearchCV</label><div class=\"sk-toggleable__content\"><pre>GridSearchCV(cv=3, estimator=GradientBoostingClassifier(),\n",
       "             param_grid={&#x27;learning_rate&#x27;: [0.001, 0.01, 0.1, 1],\n",
       "                         &#x27;max_features&#x27;: [3, 4, 5],\n",
       "                         &#x27;n_estimators&#x27;: [50, 100, 200, 350, 500]},\n",
       "             scoring=&#x27;accuracy&#x27;, verbose=3)</pre></div></div></div><div class=\"sk-parallel\"><div class=\"sk-parallel-item\"><div class=\"sk-item\"><div class=\"sk-label-container\"><div class=\"sk-label sk-toggleable\"><input class=\"sk-toggleable__control sk-hidden--visually\" id=\"sk-estimator-id-22\" type=\"checkbox\" ><label for=\"sk-estimator-id-22\" class=\"sk-toggleable__label sk-toggleable__label-arrow\">estimator: GradientBoostingClassifier</label><div class=\"sk-toggleable__content\"><pre>GradientBoostingClassifier()</pre></div></div></div><div class=\"sk-serial\"><div class=\"sk-item\"><div class=\"sk-estimator sk-toggleable\"><input class=\"sk-toggleable__control sk-hidden--visually\" id=\"sk-estimator-id-23\" type=\"checkbox\" ><label for=\"sk-estimator-id-23\" class=\"sk-toggleable__label sk-toggleable__label-arrow\">GradientBoostingClassifier</label><div class=\"sk-toggleable__content\"><pre>GradientBoostingClassifier()</pre></div></div></div></div></div></div></div></div></div></div>"
      ],
      "text/plain": [
       "GridSearchCV(cv=3, estimator=GradientBoostingClassifier(),\n",
       "             param_grid={'learning_rate': [0.001, 0.01, 0.1, 1],\n",
       "                         'max_features': [3, 4, 5],\n",
       "                         'n_estimators': [50, 100, 200, 350, 500]},\n",
       "             scoring='accuracy', verbose=3)"
      ]
     },
     "execution_count": 168,
     "metadata": {},
     "output_type": "execute_result"
    }
   ],
   "source": [
    "gscv.fit(x_train,y_train)"
   ]
  },
  {
   "cell_type": "code",
   "execution_count": 169,
   "id": "42360517",
   "metadata": {},
   "outputs": [
    {
     "data": {
      "text/plain": [
       "0.8089624035268116"
      ]
     },
     "execution_count": 169,
     "metadata": {},
     "output_type": "execute_result"
    }
   ],
   "source": [
    "gscv.best_score_"
   ]
  },
  {
   "cell_type": "code",
   "execution_count": 170,
   "id": "1abc5e12",
   "metadata": {},
   "outputs": [
    {
     "data": {
      "text/plain": [
       "{'learning_rate': 0.01, 'max_features': 3, 'n_estimators': 200}"
      ]
     },
     "execution_count": 170,
     "metadata": {},
     "output_type": "execute_result"
    }
   ],
   "source": [
    "gscv.best_params_"
   ]
  },
  {
   "cell_type": "code",
   "execution_count": 171,
   "id": "a5600fb5",
   "metadata": {},
   "outputs": [],
   "source": [
    "model_gb = GradientBoostingClassifier(**gscv.best_params_)"
   ]
  },
  {
   "cell_type": "code",
   "execution_count": 172,
   "id": "be515a2f",
   "metadata": {},
   "outputs": [
    {
     "data": {
      "text/html": [
       "<style>#sk-container-id-12 {color: black;background-color: white;}#sk-container-id-12 pre{padding: 0;}#sk-container-id-12 div.sk-toggleable {background-color: white;}#sk-container-id-12 label.sk-toggleable__label {cursor: pointer;display: block;width: 100%;margin-bottom: 0;padding: 0.3em;box-sizing: border-box;text-align: center;}#sk-container-id-12 label.sk-toggleable__label-arrow:before {content: \"▸\";float: left;margin-right: 0.25em;color: #696969;}#sk-container-id-12 label.sk-toggleable__label-arrow:hover:before {color: black;}#sk-container-id-12 div.sk-estimator:hover label.sk-toggleable__label-arrow:before {color: black;}#sk-container-id-12 div.sk-toggleable__content {max-height: 0;max-width: 0;overflow: hidden;text-align: left;background-color: #f0f8ff;}#sk-container-id-12 div.sk-toggleable__content pre {margin: 0.2em;color: black;border-radius: 0.25em;background-color: #f0f8ff;}#sk-container-id-12 input.sk-toggleable__control:checked~div.sk-toggleable__content {max-height: 200px;max-width: 100%;overflow: auto;}#sk-container-id-12 input.sk-toggleable__control:checked~label.sk-toggleable__label-arrow:before {content: \"▾\";}#sk-container-id-12 div.sk-estimator input.sk-toggleable__control:checked~label.sk-toggleable__label {background-color: #d4ebff;}#sk-container-id-12 div.sk-label input.sk-toggleable__control:checked~label.sk-toggleable__label {background-color: #d4ebff;}#sk-container-id-12 input.sk-hidden--visually {border: 0;clip: rect(1px 1px 1px 1px);clip: rect(1px, 1px, 1px, 1px);height: 1px;margin: -1px;overflow: hidden;padding: 0;position: absolute;width: 1px;}#sk-container-id-12 div.sk-estimator {font-family: monospace;background-color: #f0f8ff;border: 1px dotted black;border-radius: 0.25em;box-sizing: border-box;margin-bottom: 0.5em;}#sk-container-id-12 div.sk-estimator:hover {background-color: #d4ebff;}#sk-container-id-12 div.sk-parallel-item::after {content: \"\";width: 100%;border-bottom: 1px solid gray;flex-grow: 1;}#sk-container-id-12 div.sk-label:hover label.sk-toggleable__label {background-color: #d4ebff;}#sk-container-id-12 div.sk-serial::before {content: \"\";position: absolute;border-left: 1px solid gray;box-sizing: border-box;top: 0;bottom: 0;left: 50%;z-index: 0;}#sk-container-id-12 div.sk-serial {display: flex;flex-direction: column;align-items: center;background-color: white;padding-right: 0.2em;padding-left: 0.2em;position: relative;}#sk-container-id-12 div.sk-item {position: relative;z-index: 1;}#sk-container-id-12 div.sk-parallel {display: flex;align-items: stretch;justify-content: center;background-color: white;position: relative;}#sk-container-id-12 div.sk-item::before, #sk-container-id-12 div.sk-parallel-item::before {content: \"\";position: absolute;border-left: 1px solid gray;box-sizing: border-box;top: 0;bottom: 0;left: 50%;z-index: -1;}#sk-container-id-12 div.sk-parallel-item {display: flex;flex-direction: column;z-index: 1;position: relative;background-color: white;}#sk-container-id-12 div.sk-parallel-item:first-child::after {align-self: flex-end;width: 50%;}#sk-container-id-12 div.sk-parallel-item:last-child::after {align-self: flex-start;width: 50%;}#sk-container-id-12 div.sk-parallel-item:only-child::after {width: 0;}#sk-container-id-12 div.sk-dashed-wrapped {border: 1px dashed gray;margin: 0 0.4em 0.5em 0.4em;box-sizing: border-box;padding-bottom: 0.4em;background-color: white;}#sk-container-id-12 div.sk-label label {font-family: monospace;font-weight: bold;display: inline-block;line-height: 1.2em;}#sk-container-id-12 div.sk-label-container {text-align: center;}#sk-container-id-12 div.sk-container {/* jupyter's `normalize.less` sets `[hidden] { display: none; }` but bootstrap.min.css set `[hidden] { display: none !important; }` so we also need the `!important` here to be able to override the default hidden behavior on the sphinx rendered scikit-learn.org. See: https://github.com/scikit-learn/scikit-learn/issues/21755 */display: inline-block !important;position: relative;}#sk-container-id-12 div.sk-text-repr-fallback {display: none;}</style><div id=\"sk-container-id-12\" class=\"sk-top-container\"><div class=\"sk-text-repr-fallback\"><pre>GradientBoostingClassifier(learning_rate=0.01, max_features=3, n_estimators=200)</pre><b>In a Jupyter environment, please rerun this cell to show the HTML representation or trust the notebook. <br />On GitHub, the HTML representation is unable to render, please try loading this page with nbviewer.org.</b></div><div class=\"sk-container\" hidden><div class=\"sk-item\"><div class=\"sk-estimator sk-toggleable\"><input class=\"sk-toggleable__control sk-hidden--visually\" id=\"sk-estimator-id-24\" type=\"checkbox\" checked><label for=\"sk-estimator-id-24\" class=\"sk-toggleable__label sk-toggleable__label-arrow\">GradientBoostingClassifier</label><div class=\"sk-toggleable__content\"><pre>GradientBoostingClassifier(learning_rate=0.01, max_features=3, n_estimators=200)</pre></div></div></div></div></div>"
      ],
      "text/plain": [
       "GradientBoostingClassifier(learning_rate=0.01, max_features=3, n_estimators=200)"
      ]
     },
     "execution_count": 172,
     "metadata": {},
     "output_type": "execute_result"
    }
   ],
   "source": [
    "model_gb.fit(x_train,y_train)"
   ]
  },
  {
   "cell_type": "code",
   "execution_count": 173,
   "id": "8232c1b1",
   "metadata": {},
   "outputs": [],
   "source": [
    "y_pred_gb =model_gb.predict(x_test)"
   ]
  },
  {
   "cell_type": "code",
   "execution_count": 174,
   "id": "5cf1bb80",
   "metadata": {},
   "outputs": [
    {
     "name": "stdout",
     "output_type": "stream",
     "text": [
      "confusion Matrix:\n",
      " [[98 12]\n",
      " [20 49]]\n",
      "Acuracy: 0.8212290502793296\n",
      "Recall: 0.7101449275362319\n",
      "Precision: 0.8032786885245902\n",
      "F1 Score: 0.7538461538461538\n"
     ]
    }
   ],
   "source": [
    "validation(y_test,y_pred_gb)"
   ]
  },
  {
   "cell_type": "markdown",
   "id": "7d5a2bbc",
   "metadata": {},
   "source": [
    "## XGBoost"
   ]
  },
  {
   "cell_type": "code",
   "execution_count": 175,
   "id": "3c4da636",
   "metadata": {},
   "outputs": [
    {
     "name": "stdout",
     "output_type": "stream",
     "text": [
      "Requirement already satisfied: xgboost in c:\\users\\tarun\\anaconda3\\lib\\site-packages (1.6.1)Note: you may need to restart the kernel to use updated packages.\n",
      "Requirement already satisfied: scipy in c:\\users\\tarun\\anaconda3\\lib\\site-packages (from xgboost) (1.7.1)\n",
      "Requirement already satisfied: numpy in c:\\users\\tarun\\anaconda3\\lib\\site-packages (from xgboost) (1.20.3)\n",
      "\n"
     ]
    }
   ],
   "source": [
    "pip install xgboost"
   ]
  },
  {
   "cell_type": "code",
   "execution_count": 176,
   "id": "a850cb8f",
   "metadata": {},
   "outputs": [],
   "source": [
    "from xgboost import XGBClassifier"
   ]
  },
  {
   "cell_type": "code",
   "execution_count": 177,
   "id": "f1bd8e56",
   "metadata": {},
   "outputs": [],
   "source": [
    "model_xgb = XGBClassifier(eval_metric= 'logloss')"
   ]
  },
  {
   "cell_type": "code",
   "execution_count": 178,
   "id": "1d029c7f",
   "metadata": {},
   "outputs": [],
   "source": [
    "param = {'n_estimators':[50,100,200,350,500],\n",
    "         'learning_rate':[0.001,.01,0.1,1],\n",
    "         \n",
    "        'max_depth':[4,5,6,7]}"
   ]
  },
  {
   "cell_type": "code",
   "execution_count": 179,
   "id": "3488c5a2",
   "metadata": {},
   "outputs": [],
   "source": [
    "gscv = GridSearchCV(estimator=model_xgb,\n",
    "                   param_grid=param,\n",
    "                    cv=3,\n",
    "                   scoring='accuracy',\n",
    "                   verbose=3)"
   ]
  },
  {
   "cell_type": "code",
   "execution_count": 180,
   "id": "19d833ab",
   "metadata": {
    "scrolled": true
   },
   "outputs": [
    {
     "name": "stdout",
     "output_type": "stream",
     "text": [
      "Fitting 3 folds for each of 80 candidates, totalling 240 fits\n",
      "[CV 1/3] END learning_rate=0.001, max_depth=4, n_estimators=50;, score=0.819 total time=   0.0s\n",
      "[CV 2/3] END learning_rate=0.001, max_depth=4, n_estimators=50;, score=0.797 total time=   0.0s\n",
      "[CV 3/3] END learning_rate=0.001, max_depth=4, n_estimators=50;, score=0.776 total time=   0.0s\n",
      "[CV 1/3] END learning_rate=0.001, max_depth=4, n_estimators=100;, score=0.819 total time=   0.0s\n",
      "[CV 2/3] END learning_rate=0.001, max_depth=4, n_estimators=100;, score=0.797 total time=   0.0s\n",
      "[CV 3/3] END learning_rate=0.001, max_depth=4, n_estimators=100;, score=0.776 total time=   0.0s\n",
      "[CV 1/3] END learning_rate=0.001, max_depth=4, n_estimators=200;, score=0.819 total time=   0.1s\n",
      "[CV 2/3] END learning_rate=0.001, max_depth=4, n_estimators=200;, score=0.797 total time=   0.4s\n",
      "[CV 3/3] END learning_rate=0.001, max_depth=4, n_estimators=200;, score=0.781 total time=   0.3s\n",
      "[CV 1/3] END learning_rate=0.001, max_depth=4, n_estimators=350;, score=0.819 total time=   0.5s\n",
      "[CV 2/3] END learning_rate=0.001, max_depth=4, n_estimators=350;, score=0.797 total time=   0.5s\n",
      "[CV 3/3] END learning_rate=0.001, max_depth=4, n_estimators=350;, score=0.789 total time=   0.5s\n",
      "[CV 1/3] END learning_rate=0.001, max_depth=4, n_estimators=500;, score=0.815 total time=   1.2s\n",
      "[CV 2/3] END learning_rate=0.001, max_depth=4, n_estimators=500;, score=0.793 total time=   1.5s\n",
      "[CV 3/3] END learning_rate=0.001, max_depth=4, n_estimators=500;, score=0.789 total time=   1.0s\n",
      "[CV 1/3] END learning_rate=0.001, max_depth=5, n_estimators=50;, score=0.815 total time=   0.0s\n",
      "[CV 2/3] END learning_rate=0.001, max_depth=5, n_estimators=50;, score=0.819 total time=   0.0s\n",
      "[CV 3/3] END learning_rate=0.001, max_depth=5, n_estimators=50;, score=0.802 total time=   0.1s\n",
      "[CV 1/3] END learning_rate=0.001, max_depth=5, n_estimators=100;, score=0.815 total time=   0.2s\n",
      "[CV 2/3] END learning_rate=0.001, max_depth=5, n_estimators=100;, score=0.819 total time=   0.1s\n",
      "[CV 3/3] END learning_rate=0.001, max_depth=5, n_estimators=100;, score=0.802 total time=   0.1s\n",
      "[CV 1/3] END learning_rate=0.001, max_depth=5, n_estimators=200;, score=0.815 total time=   0.3s\n",
      "[CV 2/3] END learning_rate=0.001, max_depth=5, n_estimators=200;, score=0.819 total time=   0.3s\n",
      "[CV 3/3] END learning_rate=0.001, max_depth=5, n_estimators=200;, score=0.793 total time=   0.2s\n",
      "[CV 1/3] END learning_rate=0.001, max_depth=5, n_estimators=350;, score=0.807 total time=   0.5s\n",
      "[CV 2/3] END learning_rate=0.001, max_depth=5, n_estimators=350;, score=0.802 total time=   0.5s\n",
      "[CV 3/3] END learning_rate=0.001, max_depth=5, n_estimators=350;, score=0.781 total time=   0.6s\n",
      "[CV 1/3] END learning_rate=0.001, max_depth=5, n_estimators=500;, score=0.803 total time=   0.9s\n",
      "[CV 2/3] END learning_rate=0.001, max_depth=5, n_estimators=500;, score=0.789 total time=   0.9s\n",
      "[CV 3/3] END learning_rate=0.001, max_depth=5, n_estimators=500;, score=0.797 total time=   0.8s\n",
      "[CV 1/3] END learning_rate=0.001, max_depth=6, n_estimators=50;, score=0.782 total time=   0.0s\n",
      "[CV 2/3] END learning_rate=0.001, max_depth=6, n_estimators=50;, score=0.802 total time=   0.0s\n",
      "[CV 3/3] END learning_rate=0.001, max_depth=6, n_estimators=50;, score=0.814 total time=   0.0s\n",
      "[CV 1/3] END learning_rate=0.001, max_depth=6, n_estimators=100;, score=0.790 total time=   0.1s\n",
      "[CV 2/3] END learning_rate=0.001, max_depth=6, n_estimators=100;, score=0.802 total time=   0.1s\n",
      "[CV 3/3] END learning_rate=0.001, max_depth=6, n_estimators=100;, score=0.814 total time=   0.1s\n",
      "[CV 1/3] END learning_rate=0.001, max_depth=6, n_estimators=200;, score=0.782 total time=   0.3s\n",
      "[CV 2/3] END learning_rate=0.001, max_depth=6, n_estimators=200;, score=0.802 total time=   0.3s\n",
      "[CV 3/3] END learning_rate=0.001, max_depth=6, n_estimators=200;, score=0.802 total time=   0.3s\n",
      "[CV 1/3] END learning_rate=0.001, max_depth=6, n_estimators=350;, score=0.765 total time=   0.7s\n",
      "[CV 2/3] END learning_rate=0.001, max_depth=6, n_estimators=350;, score=0.814 total time=   0.7s\n",
      "[CV 3/3] END learning_rate=0.001, max_depth=6, n_estimators=350;, score=0.785 total time=   0.6s\n",
      "[CV 1/3] END learning_rate=0.001, max_depth=6, n_estimators=500;, score=0.765 total time=   0.9s\n",
      "[CV 2/3] END learning_rate=0.001, max_depth=6, n_estimators=500;, score=0.814 total time=   0.9s\n",
      "[CV 3/3] END learning_rate=0.001, max_depth=6, n_estimators=500;, score=0.797 total time=   0.9s\n",
      "[CV 1/3] END learning_rate=0.001, max_depth=7, n_estimators=50;, score=0.777 total time=   0.0s\n",
      "[CV 2/3] END learning_rate=0.001, max_depth=7, n_estimators=50;, score=0.802 total time=   0.0s\n",
      "[CV 3/3] END learning_rate=0.001, max_depth=7, n_estimators=50;, score=0.810 total time=   0.0s\n",
      "[CV 1/3] END learning_rate=0.001, max_depth=7, n_estimators=100;, score=0.773 total time=   0.1s\n",
      "[CV 2/3] END learning_rate=0.001, max_depth=7, n_estimators=100;, score=0.802 total time=   0.1s\n",
      "[CV 3/3] END learning_rate=0.001, max_depth=7, n_estimators=100;, score=0.814 total time=   0.1s\n",
      "[CV 1/3] END learning_rate=0.001, max_depth=7, n_estimators=200;, score=0.782 total time=   0.3s\n",
      "[CV 2/3] END learning_rate=0.001, max_depth=7, n_estimators=200;, score=0.802 total time=   0.3s\n",
      "[CV 3/3] END learning_rate=0.001, max_depth=7, n_estimators=200;, score=0.797 total time=   0.3s\n",
      "[CV 1/3] END learning_rate=0.001, max_depth=7, n_estimators=350;, score=0.798 total time=   0.7s\n",
      "[CV 2/3] END learning_rate=0.001, max_depth=7, n_estimators=350;, score=0.814 total time=   0.7s\n",
      "[CV 3/3] END learning_rate=0.001, max_depth=7, n_estimators=350;, score=0.785 total time=   0.7s\n",
      "[CV 1/3] END learning_rate=0.001, max_depth=7, n_estimators=500;, score=0.798 total time=   1.0s\n",
      "[CV 2/3] END learning_rate=0.001, max_depth=7, n_estimators=500;, score=0.814 total time=   0.9s\n",
      "[CV 3/3] END learning_rate=0.001, max_depth=7, n_estimators=500;, score=0.772 total time=   1.0s\n",
      "[CV 1/3] END learning_rate=0.01, max_depth=4, n_estimators=50;, score=0.815 total time=   0.0s\n",
      "[CV 2/3] END learning_rate=0.01, max_depth=4, n_estimators=50;, score=0.793 total time=   0.0s\n",
      "[CV 3/3] END learning_rate=0.01, max_depth=4, n_estimators=50;, score=0.789 total time=   0.0s\n",
      "[CV 1/3] END learning_rate=0.01, max_depth=4, n_estimators=100;, score=0.815 total time=   0.1s\n",
      "[CV 2/3] END learning_rate=0.01, max_depth=4, n_estimators=100;, score=0.793 total time=   0.1s\n",
      "[CV 3/3] END learning_rate=0.01, max_depth=4, n_estimators=100;, score=0.789 total time=   0.1s\n",
      "[CV 1/3] END learning_rate=0.01, max_depth=4, n_estimators=200;, score=0.811 total time=   0.2s\n",
      "[CV 2/3] END learning_rate=0.01, max_depth=4, n_estimators=200;, score=0.793 total time=   0.2s\n",
      "[CV 3/3] END learning_rate=0.01, max_depth=4, n_estimators=200;, score=0.785 total time=   0.2s\n",
      "[CV 1/3] END learning_rate=0.01, max_depth=4, n_estimators=350;, score=0.819 total time=   0.4s\n",
      "[CV 2/3] END learning_rate=0.01, max_depth=4, n_estimators=350;, score=0.785 total time=   0.4s\n",
      "[CV 3/3] END learning_rate=0.01, max_depth=4, n_estimators=350;, score=0.793 total time=   0.5s\n",
      "[CV 1/3] END learning_rate=0.01, max_depth=4, n_estimators=500;, score=0.815 total time=   0.6s\n",
      "[CV 2/3] END learning_rate=0.01, max_depth=4, n_estimators=500;, score=0.781 total time=   0.6s\n",
      "[CV 3/3] END learning_rate=0.01, max_depth=4, n_estimators=500;, score=0.806 total time=   0.6s\n",
      "[CV 1/3] END learning_rate=0.01, max_depth=5, n_estimators=50;, score=0.807 total time=   0.0s\n",
      "[CV 2/3] END learning_rate=0.01, max_depth=5, n_estimators=50;, score=0.789 total time=   0.0s\n",
      "[CV 3/3] END learning_rate=0.01, max_depth=5, n_estimators=50;, score=0.797 total time=   0.0s\n",
      "[CV 1/3] END learning_rate=0.01, max_depth=5, n_estimators=100;, score=0.798 total time=   0.1s\n",
      "[CV 2/3] END learning_rate=0.01, max_depth=5, n_estimators=100;, score=0.797 total time=   0.1s\n",
      "[CV 3/3] END learning_rate=0.01, max_depth=5, n_estimators=100;, score=0.793 total time=   0.1s\n",
      "[CV 1/3] END learning_rate=0.01, max_depth=5, n_estimators=200;, score=0.815 total time=   0.3s\n",
      "[CV 2/3] END learning_rate=0.01, max_depth=5, n_estimators=200;, score=0.793 total time=   0.3s\n",
      "[CV 3/3] END learning_rate=0.01, max_depth=5, n_estimators=200;, score=0.785 total time=   0.3s\n",
      "[CV 1/3] END learning_rate=0.01, max_depth=5, n_estimators=350;, score=0.811 total time=   0.5s\n"
     ]
    },
    {
     "name": "stdout",
     "output_type": "stream",
     "text": [
      "[CV 2/3] END learning_rate=0.01, max_depth=5, n_estimators=350;, score=0.793 total time=   0.5s\n",
      "[CV 3/3] END learning_rate=0.01, max_depth=5, n_estimators=350;, score=0.785 total time=   0.6s\n",
      "[CV 1/3] END learning_rate=0.01, max_depth=5, n_estimators=500;, score=0.819 total time=   0.8s\n",
      "[CV 2/3] END learning_rate=0.01, max_depth=5, n_estimators=500;, score=0.781 total time=   0.8s\n",
      "[CV 3/3] END learning_rate=0.01, max_depth=5, n_estimators=500;, score=0.785 total time=   0.9s\n",
      "[CV 1/3] END learning_rate=0.01, max_depth=6, n_estimators=50;, score=0.773 total time=   0.0s\n",
      "[CV 2/3] END learning_rate=0.01, max_depth=6, n_estimators=50;, score=0.797 total time=   0.0s\n",
      "[CV 3/3] END learning_rate=0.01, max_depth=6, n_estimators=50;, score=0.793 total time=   0.0s\n",
      "[CV 1/3] END learning_rate=0.01, max_depth=6, n_estimators=100;, score=0.815 total time=   0.1s\n",
      "[CV 2/3] END learning_rate=0.01, max_depth=6, n_estimators=100;, score=0.793 total time=   0.1s\n",
      "[CV 3/3] END learning_rate=0.01, max_depth=6, n_estimators=100;, score=0.772 total time=   0.1s\n",
      "[CV 1/3] END learning_rate=0.01, max_depth=6, n_estimators=200;, score=0.815 total time=   0.3s\n",
      "[CV 2/3] END learning_rate=0.01, max_depth=6, n_estimators=200;, score=0.789 total time=   0.3s\n",
      "[CV 3/3] END learning_rate=0.01, max_depth=6, n_estimators=200;, score=0.776 total time=   0.4s\n",
      "[CV 1/3] END learning_rate=0.01, max_depth=6, n_estimators=350;, score=0.811 total time=   0.6s\n",
      "[CV 2/3] END learning_rate=0.01, max_depth=6, n_estimators=350;, score=0.789 total time=   0.6s\n",
      "[CV 3/3] END learning_rate=0.01, max_depth=6, n_estimators=350;, score=0.789 total time=   0.7s\n",
      "[CV 1/3] END learning_rate=0.01, max_depth=6, n_estimators=500;, score=0.815 total time=   0.9s\n",
      "[CV 2/3] END learning_rate=0.01, max_depth=6, n_estimators=500;, score=0.785 total time=   0.9s\n",
      "[CV 3/3] END learning_rate=0.01, max_depth=6, n_estimators=500;, score=0.789 total time=   0.9s\n",
      "[CV 1/3] END learning_rate=0.01, max_depth=7, n_estimators=50;, score=0.803 total time=   0.0s\n",
      "[CV 2/3] END learning_rate=0.01, max_depth=7, n_estimators=50;, score=0.802 total time=   0.0s\n",
      "[CV 3/3] END learning_rate=0.01, max_depth=7, n_estimators=50;, score=0.768 total time=   0.0s\n",
      "[CV 1/3] END learning_rate=0.01, max_depth=7, n_estimators=100;, score=0.811 total time=   0.2s\n",
      "[CV 2/3] END learning_rate=0.01, max_depth=7, n_estimators=100;, score=0.797 total time=   0.2s\n",
      "[CV 3/3] END learning_rate=0.01, max_depth=7, n_estimators=100;, score=0.772 total time=   0.2s\n",
      "[CV 1/3] END learning_rate=0.01, max_depth=7, n_estimators=200;, score=0.815 total time=   0.4s\n",
      "[CV 2/3] END learning_rate=0.01, max_depth=7, n_estimators=200;, score=0.793 total time=   0.4s\n",
      "[CV 3/3] END learning_rate=0.01, max_depth=7, n_estimators=200;, score=0.785 total time=   0.4s\n",
      "[CV 1/3] END learning_rate=0.01, max_depth=7, n_estimators=350;, score=0.819 total time=   0.7s\n",
      "[CV 2/3] END learning_rate=0.01, max_depth=7, n_estimators=350;, score=0.785 total time=   0.7s\n",
      "[CV 3/3] END learning_rate=0.01, max_depth=7, n_estimators=350;, score=0.776 total time=   0.7s\n",
      "[CV 1/3] END learning_rate=0.01, max_depth=7, n_estimators=500;, score=0.828 total time=   1.0s\n",
      "[CV 2/3] END learning_rate=0.01, max_depth=7, n_estimators=500;, score=0.781 total time=   1.1s\n",
      "[CV 3/3] END learning_rate=0.01, max_depth=7, n_estimators=500;, score=0.793 total time=   1.3s\n",
      "[CV 1/3] END learning_rate=0.1, max_depth=4, n_estimators=50;, score=0.824 total time=   0.0s\n",
      "[CV 2/3] END learning_rate=0.1, max_depth=4, n_estimators=50;, score=0.776 total time=   0.1s\n",
      "[CV 3/3] END learning_rate=0.1, max_depth=4, n_estimators=50;, score=0.819 total time=   0.1s\n",
      "[CV 1/3] END learning_rate=0.1, max_depth=4, n_estimators=100;, score=0.824 total time=   0.3s\n",
      "[CV 2/3] END learning_rate=0.1, max_depth=4, n_estimators=100;, score=0.781 total time=   0.3s\n",
      "[CV 3/3] END learning_rate=0.1, max_depth=4, n_estimators=100;, score=0.781 total time=   0.2s\n",
      "[CV 1/3] END learning_rate=0.1, max_depth=4, n_estimators=200;, score=0.815 total time=   0.4s\n",
      "[CV 2/3] END learning_rate=0.1, max_depth=4, n_estimators=200;, score=0.776 total time=   0.5s\n",
      "[CV 3/3] END learning_rate=0.1, max_depth=4, n_estimators=200;, score=0.776 total time=   0.4s\n",
      "[CV 1/3] END learning_rate=0.1, max_depth=4, n_estimators=350;, score=0.807 total time=   0.6s\n",
      "[CV 2/3] END learning_rate=0.1, max_depth=4, n_estimators=350;, score=0.789 total time=   1.0s\n",
      "[CV 3/3] END learning_rate=0.1, max_depth=4, n_estimators=350;, score=0.764 total time=   1.2s\n",
      "[CV 1/3] END learning_rate=0.1, max_depth=4, n_estimators=500;, score=0.798 total time=   1.6s\n",
      "[CV 2/3] END learning_rate=0.1, max_depth=4, n_estimators=500;, score=0.785 total time=   1.5s\n",
      "[CV 3/3] END learning_rate=0.1, max_depth=4, n_estimators=500;, score=0.751 total time=   1.3s\n",
      "[CV 1/3] END learning_rate=0.1, max_depth=5, n_estimators=50;, score=0.824 total time=   0.0s\n",
      "[CV 2/3] END learning_rate=0.1, max_depth=5, n_estimators=50;, score=0.781 total time=   0.0s\n",
      "[CV 3/3] END learning_rate=0.1, max_depth=5, n_estimators=50;, score=0.772 total time=   0.0s\n",
      "[CV 1/3] END learning_rate=0.1, max_depth=5, n_estimators=100;, score=0.824 total time=   0.1s\n",
      "[CV 2/3] END learning_rate=0.1, max_depth=5, n_estimators=100;, score=0.776 total time=   0.2s\n",
      "[CV 3/3] END learning_rate=0.1, max_depth=5, n_estimators=100;, score=0.768 total time=   0.1s\n",
      "[CV 1/3] END learning_rate=0.1, max_depth=5, n_estimators=200;, score=0.807 total time=   0.6s\n",
      "[CV 2/3] END learning_rate=0.1, max_depth=5, n_estimators=200;, score=0.785 total time=   0.5s\n",
      "[CV 3/3] END learning_rate=0.1, max_depth=5, n_estimators=200;, score=0.764 total time=   0.3s\n",
      "[CV 1/3] END learning_rate=0.1, max_depth=5, n_estimators=350;, score=0.807 total time=   0.9s\n",
      "[CV 2/3] END learning_rate=0.1, max_depth=5, n_estimators=350;, score=0.785 total time=   0.7s\n",
      "[CV 3/3] END learning_rate=0.1, max_depth=5, n_estimators=350;, score=0.768 total time=   0.6s\n",
      "[CV 1/3] END learning_rate=0.1, max_depth=5, n_estimators=500;, score=0.798 total time=   0.6s\n",
      "[CV 2/3] END learning_rate=0.1, max_depth=5, n_estimators=500;, score=0.785 total time=   0.4s\n",
      "[CV 3/3] END learning_rate=0.1, max_depth=5, n_estimators=500;, score=0.743 total time=   0.2s\n",
      "[CV 1/3] END learning_rate=0.1, max_depth=6, n_estimators=50;, score=0.828 total time=   0.0s\n",
      "[CV 2/3] END learning_rate=0.1, max_depth=6, n_estimators=50;, score=0.789 total time=   0.0s\n",
      "[CV 3/3] END learning_rate=0.1, max_depth=6, n_estimators=50;, score=0.781 total time=   0.0s\n",
      "[CV 1/3] END learning_rate=0.1, max_depth=6, n_estimators=100;, score=0.819 total time=   0.0s\n",
      "[CV 2/3] END learning_rate=0.1, max_depth=6, n_estimators=100;, score=0.785 total time=   0.2s\n",
      "[CV 3/3] END learning_rate=0.1, max_depth=6, n_estimators=100;, score=0.768 total time=   0.0s\n",
      "[CV 1/3] END learning_rate=0.1, max_depth=6, n_estimators=200;, score=0.794 total time=   0.5s\n",
      "[CV 2/3] END learning_rate=0.1, max_depth=6, n_estimators=200;, score=0.797 total time=   0.2s\n",
      "[CV 3/3] END learning_rate=0.1, max_depth=6, n_estimators=200;, score=0.768 total time=   0.0s\n",
      "[CV 1/3] END learning_rate=0.1, max_depth=6, n_estimators=350;, score=0.790 total time=   0.1s\n",
      "[CV 2/3] END learning_rate=0.1, max_depth=6, n_estimators=350;, score=0.810 total time=   0.1s\n",
      "[CV 3/3] END learning_rate=0.1, max_depth=6, n_estimators=350;, score=0.755 total time=   0.1s\n",
      "[CV 1/3] END learning_rate=0.1, max_depth=6, n_estimators=500;, score=0.790 total time=   0.2s\n",
      "[CV 2/3] END learning_rate=0.1, max_depth=6, n_estimators=500;, score=0.789 total time=   0.2s\n",
      "[CV 3/3] END learning_rate=0.1, max_depth=6, n_estimators=500;, score=0.743 total time=   0.2s\n",
      "[CV 1/3] END learning_rate=0.1, max_depth=7, n_estimators=50;, score=0.828 total time=   0.0s\n",
      "[CV 2/3] END learning_rate=0.1, max_depth=7, n_estimators=50;, score=0.785 total time=   0.0s\n",
      "[CV 3/3] END learning_rate=0.1, max_depth=7, n_estimators=50;, score=0.785 total time=   0.0s\n",
      "[CV 1/3] END learning_rate=0.1, max_depth=7, n_estimators=100;, score=0.819 total time=   0.0s\n",
      "[CV 2/3] END learning_rate=0.1, max_depth=7, n_estimators=100;, score=0.781 total time=   0.0s\n",
      "[CV 3/3] END learning_rate=0.1, max_depth=7, n_estimators=100;, score=0.781 total time=   0.0s\n",
      "[CV 1/3] END learning_rate=0.1, max_depth=7, n_estimators=200;, score=0.811 total time=   0.1s\n"
     ]
    },
    {
     "name": "stdout",
     "output_type": "stream",
     "text": [
      "[CV 2/3] END learning_rate=0.1, max_depth=7, n_estimators=200;, score=0.789 total time=   0.0s\n",
      "[CV 3/3] END learning_rate=0.1, max_depth=7, n_estimators=200;, score=0.755 total time=   0.5s\n",
      "[CV 1/3] END learning_rate=0.1, max_depth=7, n_estimators=350;, score=0.790 total time=   0.7s\n",
      "[CV 2/3] END learning_rate=0.1, max_depth=7, n_estimators=350;, score=0.793 total time=   0.1s\n",
      "[CV 3/3] END learning_rate=0.1, max_depth=7, n_estimators=350;, score=0.747 total time=   0.2s\n",
      "[CV 1/3] END learning_rate=0.1, max_depth=7, n_estimators=500;, score=0.786 total time=   0.3s\n",
      "[CV 2/3] END learning_rate=0.1, max_depth=7, n_estimators=500;, score=0.789 total time=   0.2s\n",
      "[CV 3/3] END learning_rate=0.1, max_depth=7, n_estimators=500;, score=0.747 total time=   0.2s\n",
      "[CV 1/3] END learning_rate=1, max_depth=4, n_estimators=50;, score=0.807 total time=   0.0s\n",
      "[CV 2/3] END learning_rate=1, max_depth=4, n_estimators=50;, score=0.806 total time=   0.0s\n",
      "[CV 3/3] END learning_rate=1, max_depth=4, n_estimators=50;, score=0.776 total time=   0.0s\n",
      "[CV 1/3] END learning_rate=1, max_depth=4, n_estimators=100;, score=0.794 total time=   0.1s\n",
      "[CV 2/3] END learning_rate=1, max_depth=4, n_estimators=100;, score=0.810 total time=   0.1s\n",
      "[CV 3/3] END learning_rate=1, max_depth=4, n_estimators=100;, score=0.751 total time=   0.0s\n",
      "[CV 1/3] END learning_rate=1, max_depth=4, n_estimators=200;, score=0.794 total time=   0.3s\n",
      "[CV 2/3] END learning_rate=1, max_depth=4, n_estimators=200;, score=0.806 total time=   0.2s\n",
      "[CV 3/3] END learning_rate=1, max_depth=4, n_estimators=200;, score=0.759 total time=   0.2s\n",
      "[CV 1/3] END learning_rate=1, max_depth=4, n_estimators=350;, score=0.786 total time=   0.1s\n",
      "[CV 2/3] END learning_rate=1, max_depth=4, n_estimators=350;, score=0.793 total time=   0.1s\n",
      "[CV 3/3] END learning_rate=1, max_depth=4, n_estimators=350;, score=0.759 total time=   0.2s\n",
      "[CV 1/3] END learning_rate=1, max_depth=4, n_estimators=500;, score=0.777 total time=   0.4s\n",
      "[CV 2/3] END learning_rate=1, max_depth=4, n_estimators=500;, score=0.797 total time=   0.3s\n",
      "[CV 3/3] END learning_rate=1, max_depth=4, n_estimators=500;, score=0.764 total time=   0.3s\n",
      "[CV 1/3] END learning_rate=1, max_depth=5, n_estimators=50;, score=0.786 total time=   0.0s\n",
      "[CV 2/3] END learning_rate=1, max_depth=5, n_estimators=50;, score=0.793 total time=   0.0s\n",
      "[CV 3/3] END learning_rate=1, max_depth=5, n_estimators=50;, score=0.772 total time=   0.0s\n",
      "[CV 1/3] END learning_rate=1, max_depth=5, n_estimators=100;, score=0.777 total time=   0.1s\n",
      "[CV 2/3] END learning_rate=1, max_depth=5, n_estimators=100;, score=0.793 total time=   0.0s\n",
      "[CV 3/3] END learning_rate=1, max_depth=5, n_estimators=100;, score=0.759 total time=   0.0s\n",
      "[CV 1/3] END learning_rate=1, max_depth=5, n_estimators=200;, score=0.782 total time=   0.1s\n",
      "[CV 2/3] END learning_rate=1, max_depth=5, n_estimators=200;, score=0.781 total time=   0.3s\n",
      "[CV 3/3] END learning_rate=1, max_depth=5, n_estimators=200;, score=0.755 total time=   0.1s\n",
      "[CV 1/3] END learning_rate=1, max_depth=5, n_estimators=350;, score=0.773 total time=   0.2s\n",
      "[CV 2/3] END learning_rate=1, max_depth=5, n_estimators=350;, score=0.789 total time=   0.1s\n",
      "[CV 3/3] END learning_rate=1, max_depth=5, n_estimators=350;, score=0.768 total time=   0.5s\n",
      "[CV 1/3] END learning_rate=1, max_depth=5, n_estimators=500;, score=0.769 total time=   0.6s\n",
      "[CV 2/3] END learning_rate=1, max_depth=5, n_estimators=500;, score=0.793 total time=   0.2s\n",
      "[CV 3/3] END learning_rate=1, max_depth=5, n_estimators=500;, score=0.772 total time=   0.8s\n",
      "[CV 1/3] END learning_rate=1, max_depth=6, n_estimators=50;, score=0.790 total time=   0.0s\n",
      "[CV 2/3] END learning_rate=1, max_depth=6, n_estimators=50;, score=0.797 total time=   0.0s\n",
      "[CV 3/3] END learning_rate=1, max_depth=6, n_estimators=50;, score=0.755 total time=   0.0s\n",
      "[CV 1/3] END learning_rate=1, max_depth=6, n_estimators=100;, score=0.790 total time=   0.1s\n",
      "[CV 2/3] END learning_rate=1, max_depth=6, n_estimators=100;, score=0.802 total time=   0.2s\n",
      "[CV 3/3] END learning_rate=1, max_depth=6, n_estimators=100;, score=0.764 total time=   0.0s\n",
      "[CV 1/3] END learning_rate=1, max_depth=6, n_estimators=200;, score=0.798 total time=   0.4s\n",
      "[CV 2/3] END learning_rate=1, max_depth=6, n_estimators=200;, score=0.802 total time=   0.0s\n",
      "[CV 3/3] END learning_rate=1, max_depth=6, n_estimators=200;, score=0.764 total time=   0.0s\n",
      "[CV 1/3] END learning_rate=1, max_depth=6, n_estimators=350;, score=0.790 total time=   0.3s\n",
      "[CV 2/3] END learning_rate=1, max_depth=6, n_estimators=350;, score=0.802 total time=   0.3s\n",
      "[CV 3/3] END learning_rate=1, max_depth=6, n_estimators=350;, score=0.772 total time=   0.1s\n",
      "[CV 1/3] END learning_rate=1, max_depth=6, n_estimators=500;, score=0.790 total time=   0.3s\n",
      "[CV 2/3] END learning_rate=1, max_depth=6, n_estimators=500;, score=0.806 total time=   0.3s\n",
      "[CV 3/3] END learning_rate=1, max_depth=6, n_estimators=500;, score=0.776 total time=   0.3s\n",
      "[CV 1/3] END learning_rate=1, max_depth=7, n_estimators=50;, score=0.798 total time=   0.0s\n",
      "[CV 2/3] END learning_rate=1, max_depth=7, n_estimators=50;, score=0.789 total time=   0.0s\n",
      "[CV 3/3] END learning_rate=1, max_depth=7, n_estimators=50;, score=0.738 total time=   0.0s\n",
      "[CV 1/3] END learning_rate=1, max_depth=7, n_estimators=100;, score=0.798 total time=   0.0s\n",
      "[CV 2/3] END learning_rate=1, max_depth=7, n_estimators=100;, score=0.781 total time=   0.0s\n",
      "[CV 3/3] END learning_rate=1, max_depth=7, n_estimators=100;, score=0.747 total time=   0.0s\n",
      "[CV 1/3] END learning_rate=1, max_depth=7, n_estimators=200;, score=0.786 total time=   0.0s\n",
      "[CV 2/3] END learning_rate=1, max_depth=7, n_estimators=200;, score=0.781 total time=   0.0s\n",
      "[CV 3/3] END learning_rate=1, max_depth=7, n_estimators=200;, score=0.759 total time=   0.1s\n",
      "[CV 1/3] END learning_rate=1, max_depth=7, n_estimators=350;, score=0.782 total time=   0.2s\n",
      "[CV 2/3] END learning_rate=1, max_depth=7, n_estimators=350;, score=0.776 total time=   0.2s\n",
      "[CV 3/3] END learning_rate=1, max_depth=7, n_estimators=350;, score=0.768 total time=   0.2s\n",
      "[CV 1/3] END learning_rate=1, max_depth=7, n_estimators=500;, score=0.773 total time=   0.2s\n",
      "[CV 2/3] END learning_rate=1, max_depth=7, n_estimators=500;, score=0.781 total time=   0.2s\n",
      "[CV 3/3] END learning_rate=1, max_depth=7, n_estimators=500;, score=0.772 total time=   0.4s\n"
     ]
    },
    {
     "data": {
      "text/html": [
       "<style>#sk-container-id-13 {color: black;background-color: white;}#sk-container-id-13 pre{padding: 0;}#sk-container-id-13 div.sk-toggleable {background-color: white;}#sk-container-id-13 label.sk-toggleable__label {cursor: pointer;display: block;width: 100%;margin-bottom: 0;padding: 0.3em;box-sizing: border-box;text-align: center;}#sk-container-id-13 label.sk-toggleable__label-arrow:before {content: \"▸\";float: left;margin-right: 0.25em;color: #696969;}#sk-container-id-13 label.sk-toggleable__label-arrow:hover:before {color: black;}#sk-container-id-13 div.sk-estimator:hover label.sk-toggleable__label-arrow:before {color: black;}#sk-container-id-13 div.sk-toggleable__content {max-height: 0;max-width: 0;overflow: hidden;text-align: left;background-color: #f0f8ff;}#sk-container-id-13 div.sk-toggleable__content pre {margin: 0.2em;color: black;border-radius: 0.25em;background-color: #f0f8ff;}#sk-container-id-13 input.sk-toggleable__control:checked~div.sk-toggleable__content {max-height: 200px;max-width: 100%;overflow: auto;}#sk-container-id-13 input.sk-toggleable__control:checked~label.sk-toggleable__label-arrow:before {content: \"▾\";}#sk-container-id-13 div.sk-estimator input.sk-toggleable__control:checked~label.sk-toggleable__label {background-color: #d4ebff;}#sk-container-id-13 div.sk-label input.sk-toggleable__control:checked~label.sk-toggleable__label {background-color: #d4ebff;}#sk-container-id-13 input.sk-hidden--visually {border: 0;clip: rect(1px 1px 1px 1px);clip: rect(1px, 1px, 1px, 1px);height: 1px;margin: -1px;overflow: hidden;padding: 0;position: absolute;width: 1px;}#sk-container-id-13 div.sk-estimator {font-family: monospace;background-color: #f0f8ff;border: 1px dotted black;border-radius: 0.25em;box-sizing: border-box;margin-bottom: 0.5em;}#sk-container-id-13 div.sk-estimator:hover {background-color: #d4ebff;}#sk-container-id-13 div.sk-parallel-item::after {content: \"\";width: 100%;border-bottom: 1px solid gray;flex-grow: 1;}#sk-container-id-13 div.sk-label:hover label.sk-toggleable__label {background-color: #d4ebff;}#sk-container-id-13 div.sk-serial::before {content: \"\";position: absolute;border-left: 1px solid gray;box-sizing: border-box;top: 0;bottom: 0;left: 50%;z-index: 0;}#sk-container-id-13 div.sk-serial {display: flex;flex-direction: column;align-items: center;background-color: white;padding-right: 0.2em;padding-left: 0.2em;position: relative;}#sk-container-id-13 div.sk-item {position: relative;z-index: 1;}#sk-container-id-13 div.sk-parallel {display: flex;align-items: stretch;justify-content: center;background-color: white;position: relative;}#sk-container-id-13 div.sk-item::before, #sk-container-id-13 div.sk-parallel-item::before {content: \"\";position: absolute;border-left: 1px solid gray;box-sizing: border-box;top: 0;bottom: 0;left: 50%;z-index: -1;}#sk-container-id-13 div.sk-parallel-item {display: flex;flex-direction: column;z-index: 1;position: relative;background-color: white;}#sk-container-id-13 div.sk-parallel-item:first-child::after {align-self: flex-end;width: 50%;}#sk-container-id-13 div.sk-parallel-item:last-child::after {align-self: flex-start;width: 50%;}#sk-container-id-13 div.sk-parallel-item:only-child::after {width: 0;}#sk-container-id-13 div.sk-dashed-wrapped {border: 1px dashed gray;margin: 0 0.4em 0.5em 0.4em;box-sizing: border-box;padding-bottom: 0.4em;background-color: white;}#sk-container-id-13 div.sk-label label {font-family: monospace;font-weight: bold;display: inline-block;line-height: 1.2em;}#sk-container-id-13 div.sk-label-container {text-align: center;}#sk-container-id-13 div.sk-container {/* jupyter's `normalize.less` sets `[hidden] { display: none; }` but bootstrap.min.css set `[hidden] { display: none !important; }` so we also need the `!important` here to be able to override the default hidden behavior on the sphinx rendered scikit-learn.org. See: https://github.com/scikit-learn/scikit-learn/issues/21755 */display: inline-block !important;position: relative;}#sk-container-id-13 div.sk-text-repr-fallback {display: none;}</style><div id=\"sk-container-id-13\" class=\"sk-top-container\"><div class=\"sk-text-repr-fallback\"><pre>GridSearchCV(cv=3,\n",
       "             estimator=XGBClassifier(base_score=None, booster=None,\n",
       "                                     callbacks=None, colsample_bylevel=None,\n",
       "                                     colsample_bynode=None,\n",
       "                                     colsample_bytree=None,\n",
       "                                     early_stopping_rounds=None,\n",
       "                                     enable_categorical=False,\n",
       "                                     eval_metric=&#x27;logloss&#x27;, gamma=None,\n",
       "                                     gpu_id=None, grow_policy=None,\n",
       "                                     importance_type=None,\n",
       "                                     interaction_constraints=None,\n",
       "                                     learning_rate=None, max_bin=None,\n",
       "                                     m...\n",
       "                                     max_delta_step=None, max_depth=None,\n",
       "                                     max_leaves=None, min_child_weight=None,\n",
       "                                     missing=nan, monotone_constraints=None,\n",
       "                                     n_estimators=100, n_jobs=None,\n",
       "                                     num_parallel_tree=None, predictor=None,\n",
       "                                     random_state=None, reg_alpha=None,\n",
       "                                     reg_lambda=None, ...),\n",
       "             param_grid={&#x27;learning_rate&#x27;: [0.001, 0.01, 0.1, 1],\n",
       "                         &#x27;max_depth&#x27;: [4, 5, 6, 7],\n",
       "                         &#x27;n_estimators&#x27;: [50, 100, 200, 350, 500]},\n",
       "             scoring=&#x27;accuracy&#x27;, verbose=3)</pre><b>In a Jupyter environment, please rerun this cell to show the HTML representation or trust the notebook. <br />On GitHub, the HTML representation is unable to render, please try loading this page with nbviewer.org.</b></div><div class=\"sk-container\" hidden><div class=\"sk-item sk-dashed-wrapped\"><div class=\"sk-label-container\"><div class=\"sk-label sk-toggleable\"><input class=\"sk-toggleable__control sk-hidden--visually\" id=\"sk-estimator-id-25\" type=\"checkbox\" ><label for=\"sk-estimator-id-25\" class=\"sk-toggleable__label sk-toggleable__label-arrow\">GridSearchCV</label><div class=\"sk-toggleable__content\"><pre>GridSearchCV(cv=3,\n",
       "             estimator=XGBClassifier(base_score=None, booster=None,\n",
       "                                     callbacks=None, colsample_bylevel=None,\n",
       "                                     colsample_bynode=None,\n",
       "                                     colsample_bytree=None,\n",
       "                                     early_stopping_rounds=None,\n",
       "                                     enable_categorical=False,\n",
       "                                     eval_metric=&#x27;logloss&#x27;, gamma=None,\n",
       "                                     gpu_id=None, grow_policy=None,\n",
       "                                     importance_type=None,\n",
       "                                     interaction_constraints=None,\n",
       "                                     learning_rate=None, max_bin=None,\n",
       "                                     m...\n",
       "                                     max_delta_step=None, max_depth=None,\n",
       "                                     max_leaves=None, min_child_weight=None,\n",
       "                                     missing=nan, monotone_constraints=None,\n",
       "                                     n_estimators=100, n_jobs=None,\n",
       "                                     num_parallel_tree=None, predictor=None,\n",
       "                                     random_state=None, reg_alpha=None,\n",
       "                                     reg_lambda=None, ...),\n",
       "             param_grid={&#x27;learning_rate&#x27;: [0.001, 0.01, 0.1, 1],\n",
       "                         &#x27;max_depth&#x27;: [4, 5, 6, 7],\n",
       "                         &#x27;n_estimators&#x27;: [50, 100, 200, 350, 500]},\n",
       "             scoring=&#x27;accuracy&#x27;, verbose=3)</pre></div></div></div><div class=\"sk-parallel\"><div class=\"sk-parallel-item\"><div class=\"sk-item\"><div class=\"sk-label-container\"><div class=\"sk-label sk-toggleable\"><input class=\"sk-toggleable__control sk-hidden--visually\" id=\"sk-estimator-id-26\" type=\"checkbox\" ><label for=\"sk-estimator-id-26\" class=\"sk-toggleable__label sk-toggleable__label-arrow\">estimator: XGBClassifier</label><div class=\"sk-toggleable__content\"><pre>XGBClassifier(base_score=None, booster=None, callbacks=None,\n",
       "              colsample_bylevel=None, colsample_bynode=None,\n",
       "              colsample_bytree=None, early_stopping_rounds=None,\n",
       "              enable_categorical=False, eval_metric=&#x27;logloss&#x27;, gamma=None,\n",
       "              gpu_id=None, grow_policy=None, importance_type=None,\n",
       "              interaction_constraints=None, learning_rate=None, max_bin=None,\n",
       "              max_cat_to_onehot=None, max_delta_step=None, max_depth=None,\n",
       "              max_leaves=None, min_child_weight=None, missing=nan,\n",
       "              monotone_constraints=None, n_estimators=100, n_jobs=None,\n",
       "              num_parallel_tree=None, predictor=None, random_state=None,\n",
       "              reg_alpha=None, reg_lambda=None, ...)</pre></div></div></div><div class=\"sk-serial\"><div class=\"sk-item\"><div class=\"sk-estimator sk-toggleable\"><input class=\"sk-toggleable__control sk-hidden--visually\" id=\"sk-estimator-id-27\" type=\"checkbox\" ><label for=\"sk-estimator-id-27\" class=\"sk-toggleable__label sk-toggleable__label-arrow\">XGBClassifier</label><div class=\"sk-toggleable__content\"><pre>XGBClassifier(base_score=None, booster=None, callbacks=None,\n",
       "              colsample_bylevel=None, colsample_bynode=None,\n",
       "              colsample_bytree=None, early_stopping_rounds=None,\n",
       "              enable_categorical=False, eval_metric=&#x27;logloss&#x27;, gamma=None,\n",
       "              gpu_id=None, grow_policy=None, importance_type=None,\n",
       "              interaction_constraints=None, learning_rate=None, max_bin=None,\n",
       "              max_cat_to_onehot=None, max_delta_step=None, max_depth=None,\n",
       "              max_leaves=None, min_child_weight=None, missing=nan,\n",
       "              monotone_constraints=None, n_estimators=100, n_jobs=None,\n",
       "              num_parallel_tree=None, predictor=None, random_state=None,\n",
       "              reg_alpha=None, reg_lambda=None, ...)</pre></div></div></div></div></div></div></div></div></div></div>"
      ],
      "text/plain": [
       "GridSearchCV(cv=3,\n",
       "             estimator=XGBClassifier(base_score=None, booster=None,\n",
       "                                     callbacks=None, colsample_bylevel=None,\n",
       "                                     colsample_bynode=None,\n",
       "                                     colsample_bytree=None,\n",
       "                                     early_stopping_rounds=None,\n",
       "                                     enable_categorical=False,\n",
       "                                     eval_metric='logloss', gamma=None,\n",
       "                                     gpu_id=None, grow_policy=None,\n",
       "                                     importance_type=None,\n",
       "                                     interaction_constraints=None,\n",
       "                                     learning_rate=None, max_bin=None,\n",
       "                                     m...\n",
       "                                     max_delta_step=None, max_depth=None,\n",
       "                                     max_leaves=None, min_child_weight=None,\n",
       "                                     missing=nan, monotone_constraints=None,\n",
       "                                     n_estimators=100, n_jobs=None,\n",
       "                                     num_parallel_tree=None, predictor=None,\n",
       "                                     random_state=None, reg_alpha=None,\n",
       "                                     reg_lambda=None, ...),\n",
       "             param_grid={'learning_rate': [0.001, 0.01, 0.1, 1],\n",
       "                         'max_depth': [4, 5, 6, 7],\n",
       "                         'n_estimators': [50, 100, 200, 350, 500]},\n",
       "             scoring='accuracy', verbose=3)"
      ]
     },
     "execution_count": 180,
     "metadata": {},
     "output_type": "execute_result"
    }
   ],
   "source": [
    "gscv.fit(x_train,y_train)"
   ]
  },
  {
   "cell_type": "code",
   "execution_count": 181,
   "id": "eec92f04",
   "metadata": {},
   "outputs": [
    {
     "data": {
      "text/plain": [
       "0.8117930716590434"
      ]
     },
     "execution_count": 181,
     "metadata": {},
     "output_type": "execute_result"
    }
   ],
   "source": [
    "gscv.best_score_"
   ]
  },
  {
   "cell_type": "code",
   "execution_count": 182,
   "id": "ced39e2f",
   "metadata": {},
   "outputs": [
    {
     "data": {
      "text/plain": [
       "{'learning_rate': 0.001, 'max_depth': 5, 'n_estimators': 50}"
      ]
     },
     "execution_count": 182,
     "metadata": {},
     "output_type": "execute_result"
    }
   ],
   "source": [
    "gscv.best_params_"
   ]
  },
  {
   "cell_type": "code",
   "execution_count": 183,
   "id": "ae5c3f99",
   "metadata": {},
   "outputs": [],
   "source": [
    "model_xgb = XGBClassifier(**gscv.best_params_)"
   ]
  },
  {
   "cell_type": "code",
   "execution_count": 184,
   "id": "47ccdc24",
   "metadata": {},
   "outputs": [
    {
     "data": {
      "text/html": [
       "<style>#sk-container-id-14 {color: black;background-color: white;}#sk-container-id-14 pre{padding: 0;}#sk-container-id-14 div.sk-toggleable {background-color: white;}#sk-container-id-14 label.sk-toggleable__label {cursor: pointer;display: block;width: 100%;margin-bottom: 0;padding: 0.3em;box-sizing: border-box;text-align: center;}#sk-container-id-14 label.sk-toggleable__label-arrow:before {content: \"▸\";float: left;margin-right: 0.25em;color: #696969;}#sk-container-id-14 label.sk-toggleable__label-arrow:hover:before {color: black;}#sk-container-id-14 div.sk-estimator:hover label.sk-toggleable__label-arrow:before {color: black;}#sk-container-id-14 div.sk-toggleable__content {max-height: 0;max-width: 0;overflow: hidden;text-align: left;background-color: #f0f8ff;}#sk-container-id-14 div.sk-toggleable__content pre {margin: 0.2em;color: black;border-radius: 0.25em;background-color: #f0f8ff;}#sk-container-id-14 input.sk-toggleable__control:checked~div.sk-toggleable__content {max-height: 200px;max-width: 100%;overflow: auto;}#sk-container-id-14 input.sk-toggleable__control:checked~label.sk-toggleable__label-arrow:before {content: \"▾\";}#sk-container-id-14 div.sk-estimator input.sk-toggleable__control:checked~label.sk-toggleable__label {background-color: #d4ebff;}#sk-container-id-14 div.sk-label input.sk-toggleable__control:checked~label.sk-toggleable__label {background-color: #d4ebff;}#sk-container-id-14 input.sk-hidden--visually {border: 0;clip: rect(1px 1px 1px 1px);clip: rect(1px, 1px, 1px, 1px);height: 1px;margin: -1px;overflow: hidden;padding: 0;position: absolute;width: 1px;}#sk-container-id-14 div.sk-estimator {font-family: monospace;background-color: #f0f8ff;border: 1px dotted black;border-radius: 0.25em;box-sizing: border-box;margin-bottom: 0.5em;}#sk-container-id-14 div.sk-estimator:hover {background-color: #d4ebff;}#sk-container-id-14 div.sk-parallel-item::after {content: \"\";width: 100%;border-bottom: 1px solid gray;flex-grow: 1;}#sk-container-id-14 div.sk-label:hover label.sk-toggleable__label {background-color: #d4ebff;}#sk-container-id-14 div.sk-serial::before {content: \"\";position: absolute;border-left: 1px solid gray;box-sizing: border-box;top: 0;bottom: 0;left: 50%;z-index: 0;}#sk-container-id-14 div.sk-serial {display: flex;flex-direction: column;align-items: center;background-color: white;padding-right: 0.2em;padding-left: 0.2em;position: relative;}#sk-container-id-14 div.sk-item {position: relative;z-index: 1;}#sk-container-id-14 div.sk-parallel {display: flex;align-items: stretch;justify-content: center;background-color: white;position: relative;}#sk-container-id-14 div.sk-item::before, #sk-container-id-14 div.sk-parallel-item::before {content: \"\";position: absolute;border-left: 1px solid gray;box-sizing: border-box;top: 0;bottom: 0;left: 50%;z-index: -1;}#sk-container-id-14 div.sk-parallel-item {display: flex;flex-direction: column;z-index: 1;position: relative;background-color: white;}#sk-container-id-14 div.sk-parallel-item:first-child::after {align-self: flex-end;width: 50%;}#sk-container-id-14 div.sk-parallel-item:last-child::after {align-self: flex-start;width: 50%;}#sk-container-id-14 div.sk-parallel-item:only-child::after {width: 0;}#sk-container-id-14 div.sk-dashed-wrapped {border: 1px dashed gray;margin: 0 0.4em 0.5em 0.4em;box-sizing: border-box;padding-bottom: 0.4em;background-color: white;}#sk-container-id-14 div.sk-label label {font-family: monospace;font-weight: bold;display: inline-block;line-height: 1.2em;}#sk-container-id-14 div.sk-label-container {text-align: center;}#sk-container-id-14 div.sk-container {/* jupyter's `normalize.less` sets `[hidden] { display: none; }` but bootstrap.min.css set `[hidden] { display: none !important; }` so we also need the `!important` here to be able to override the default hidden behavior on the sphinx rendered scikit-learn.org. See: https://github.com/scikit-learn/scikit-learn/issues/21755 */display: inline-block !important;position: relative;}#sk-container-id-14 div.sk-text-repr-fallback {display: none;}</style><div id=\"sk-container-id-14\" class=\"sk-top-container\"><div class=\"sk-text-repr-fallback\"><pre>XGBClassifier(base_score=0.5, booster=&#x27;gbtree&#x27;, callbacks=None,\n",
       "              colsample_bylevel=1, colsample_bynode=1, colsample_bytree=1,\n",
       "              early_stopping_rounds=None, enable_categorical=False,\n",
       "              eval_metric=None, gamma=0, gpu_id=-1, grow_policy=&#x27;depthwise&#x27;,\n",
       "              importance_type=None, interaction_constraints=&#x27;&#x27;,\n",
       "              learning_rate=0.001, max_bin=256, max_cat_to_onehot=4,\n",
       "              max_delta_step=0, max_depth=5, max_leaves=0, min_child_weight=1,\n",
       "              missing=nan, monotone_constraints=&#x27;()&#x27;, n_estimators=50, n_jobs=0,\n",
       "              num_parallel_tree=1, predictor=&#x27;auto&#x27;, random_state=0,\n",
       "              reg_alpha=0, reg_lambda=1, ...)</pre><b>In a Jupyter environment, please rerun this cell to show the HTML representation or trust the notebook. <br />On GitHub, the HTML representation is unable to render, please try loading this page with nbviewer.org.</b></div><div class=\"sk-container\" hidden><div class=\"sk-item\"><div class=\"sk-estimator sk-toggleable\"><input class=\"sk-toggleable__control sk-hidden--visually\" id=\"sk-estimator-id-28\" type=\"checkbox\" checked><label for=\"sk-estimator-id-28\" class=\"sk-toggleable__label sk-toggleable__label-arrow\">XGBClassifier</label><div class=\"sk-toggleable__content\"><pre>XGBClassifier(base_score=0.5, booster=&#x27;gbtree&#x27;, callbacks=None,\n",
       "              colsample_bylevel=1, colsample_bynode=1, colsample_bytree=1,\n",
       "              early_stopping_rounds=None, enable_categorical=False,\n",
       "              eval_metric=None, gamma=0, gpu_id=-1, grow_policy=&#x27;depthwise&#x27;,\n",
       "              importance_type=None, interaction_constraints=&#x27;&#x27;,\n",
       "              learning_rate=0.001, max_bin=256, max_cat_to_onehot=4,\n",
       "              max_delta_step=0, max_depth=5, max_leaves=0, min_child_weight=1,\n",
       "              missing=nan, monotone_constraints=&#x27;()&#x27;, n_estimators=50, n_jobs=0,\n",
       "              num_parallel_tree=1, predictor=&#x27;auto&#x27;, random_state=0,\n",
       "              reg_alpha=0, reg_lambda=1, ...)</pre></div></div></div></div></div>"
      ],
      "text/plain": [
       "XGBClassifier(base_score=0.5, booster='gbtree', callbacks=None,\n",
       "              colsample_bylevel=1, colsample_bynode=1, colsample_bytree=1,\n",
       "              early_stopping_rounds=None, enable_categorical=False,\n",
       "              eval_metric=None, gamma=0, gpu_id=-1, grow_policy='depthwise',\n",
       "              importance_type=None, interaction_constraints='',\n",
       "              learning_rate=0.001, max_bin=256, max_cat_to_onehot=4,\n",
       "              max_delta_step=0, max_depth=5, max_leaves=0, min_child_weight=1,\n",
       "              missing=nan, monotone_constraints='()', n_estimators=50, n_jobs=0,\n",
       "              num_parallel_tree=1, predictor='auto', random_state=0,\n",
       "              reg_alpha=0, reg_lambda=1, ...)"
      ]
     },
     "execution_count": 184,
     "metadata": {},
     "output_type": "execute_result"
    }
   ],
   "source": [
    "model_xgb.fit(x_train,y_train)"
   ]
  },
  {
   "cell_type": "code",
   "execution_count": 185,
   "id": "c383c78e",
   "metadata": {},
   "outputs": [],
   "source": [
    "y_pred_xgb= model_xgb.predict(x_test)"
   ]
  },
  {
   "cell_type": "code",
   "execution_count": 186,
   "id": "9c8bf829",
   "metadata": {},
   "outputs": [
    {
     "name": "stdout",
     "output_type": "stream",
     "text": [
      "confusion Matrix:\n",
      " [[97 13]\n",
      " [17 52]]\n",
      "Acuracy: 0.8324022346368715\n",
      "Recall: 0.7536231884057971\n",
      "Precision: 0.8\n",
      "F1 Score: 0.7761194029850746\n"
     ]
    }
   ],
   "source": [
    "validation(y_test,y_pred_xgb)"
   ]
  },
  {
   "cell_type": "markdown",
   "id": "28dd12c9",
   "metadata": {},
   "source": [
    "# KNN"
   ]
  },
  {
   "cell_type": "code",
   "execution_count": 187,
   "id": "b160bf4b",
   "metadata": {},
   "outputs": [],
   "source": [
    "from sklearn.neighbors import KNeighborsClassifier"
   ]
  },
  {
   "cell_type": "code",
   "execution_count": 188,
   "id": "dba37559",
   "metadata": {},
   "outputs": [],
   "source": [
    "model_knn = KNeighborsClassifier(n_neighbors=7)"
   ]
  },
  {
   "cell_type": "code",
   "execution_count": 189,
   "id": "5ed2b0fa",
   "metadata": {},
   "outputs": [],
   "source": [
    "# standard scaling\n",
    "from sklearn.preprocessing import StandardScaler"
   ]
  },
  {
   "cell_type": "code",
   "execution_count": 190,
   "id": "b426579f",
   "metadata": {},
   "outputs": [],
   "source": [
    "sc = StandardScaler()"
   ]
  },
  {
   "cell_type": "code",
   "execution_count": 191,
   "id": "dbd0b2f6",
   "metadata": {},
   "outputs": [],
   "source": [
    "x_train_s = sc.fit_transform(x_train)\n",
    "x_test_s = sc.fit_transform(x_test)"
   ]
  },
  {
   "cell_type": "code",
   "execution_count": 192,
   "id": "9bb5b2d4",
   "metadata": {},
   "outputs": [
    {
     "data": {
      "text/html": [
       "<div>\n",
       "<style scoped>\n",
       "    .dataframe tbody tr th:only-of-type {\n",
       "        vertical-align: middle;\n",
       "    }\n",
       "\n",
       "    .dataframe tbody tr th {\n",
       "        vertical-align: top;\n",
       "    }\n",
       "\n",
       "    .dataframe thead th {\n",
       "        text-align: right;\n",
       "    }\n",
       "</style>\n",
       "<table border=\"1\" class=\"dataframe\">\n",
       "  <thead>\n",
       "    <tr style=\"text-align: right;\">\n",
       "      <th></th>\n",
       "      <th>Age</th>\n",
       "      <th>SibSp</th>\n",
       "      <th>Parch</th>\n",
       "      <th>Fare</th>\n",
       "      <th>Sex_male</th>\n",
       "      <th>Embarked_Q</th>\n",
       "      <th>Embarked_S</th>\n",
       "    </tr>\n",
       "  </thead>\n",
       "  <tbody>\n",
       "    <tr>\n",
       "      <th>0</th>\n",
       "      <td>-0.023721</td>\n",
       "      <td>-0.484354</td>\n",
       "      <td>-0.532986</td>\n",
       "      <td>-0.655377</td>\n",
       "      <td>0.755100</td>\n",
       "      <td>-0.323942</td>\n",
       "      <td>0.570899</td>\n",
       "    </tr>\n",
       "    <tr>\n",
       "      <th>1</th>\n",
       "      <td>1.461187</td>\n",
       "      <td>0.382640</td>\n",
       "      <td>3.803585</td>\n",
       "      <td>0.343889</td>\n",
       "      <td>-1.324329</td>\n",
       "      <td>-0.323942</td>\n",
       "      <td>0.570899</td>\n",
       "    </tr>\n",
       "    <tr>\n",
       "      <th>2</th>\n",
       "      <td>-0.101874</td>\n",
       "      <td>1.249633</td>\n",
       "      <td>-0.532986</td>\n",
       "      <td>-0.138029</td>\n",
       "      <td>0.755100</td>\n",
       "      <td>-0.323942</td>\n",
       "      <td>-1.751623</td>\n",
       "    </tr>\n",
       "    <tr>\n",
       "      <th>3</th>\n",
       "      <td>-0.101874</td>\n",
       "      <td>0.382640</td>\n",
       "      <td>2.358061</td>\n",
       "      <td>-0.070811</td>\n",
       "      <td>0.755100</td>\n",
       "      <td>-0.323942</td>\n",
       "      <td>0.570899</td>\n",
       "    </tr>\n",
       "    <tr>\n",
       "      <th>4</th>\n",
       "      <td>-0.727098</td>\n",
       "      <td>-0.484354</td>\n",
       "      <td>-0.532986</td>\n",
       "      <td>-0.632127</td>\n",
       "      <td>-1.324329</td>\n",
       "      <td>-0.323942</td>\n",
       "      <td>0.570899</td>\n",
       "    </tr>\n",
       "    <tr>\n",
       "      <th>...</th>\n",
       "      <td>...</td>\n",
       "      <td>...</td>\n",
       "      <td>...</td>\n",
       "      <td>...</td>\n",
       "      <td>...</td>\n",
       "      <td>...</td>\n",
       "      <td>...</td>\n",
       "    </tr>\n",
       "    <tr>\n",
       "      <th>174</th>\n",
       "      <td>-0.101874</td>\n",
       "      <td>6.451593</td>\n",
       "      <td>2.358061</td>\n",
       "      <td>1.679089</td>\n",
       "      <td>0.755100</td>\n",
       "      <td>-0.323942</td>\n",
       "      <td>0.570899</td>\n",
       "    </tr>\n",
       "    <tr>\n",
       "      <th>175</th>\n",
       "      <td>-0.414486</td>\n",
       "      <td>-0.484354</td>\n",
       "      <td>-0.532986</td>\n",
       "      <td>-0.693336</td>\n",
       "      <td>0.755100</td>\n",
       "      <td>-0.323942</td>\n",
       "      <td>0.570899</td>\n",
       "    </tr>\n",
       "    <tr>\n",
       "      <th>176</th>\n",
       "      <td>-0.648945</td>\n",
       "      <td>-0.484354</td>\n",
       "      <td>-0.532986</td>\n",
       "      <td>-0.685744</td>\n",
       "      <td>0.755100</td>\n",
       "      <td>-0.323942</td>\n",
       "      <td>0.570899</td>\n",
       "    </tr>\n",
       "    <tr>\n",
       "      <th>177</th>\n",
       "      <td>-0.805252</td>\n",
       "      <td>-0.484354</td>\n",
       "      <td>-0.532986</td>\n",
       "      <td>-0.574874</td>\n",
       "      <td>0.755100</td>\n",
       "      <td>-0.323942</td>\n",
       "      <td>0.570899</td>\n",
       "    </tr>\n",
       "    <tr>\n",
       "      <th>178</th>\n",
       "      <td>-0.101874</td>\n",
       "      <td>-0.484354</td>\n",
       "      <td>-0.532986</td>\n",
       "      <td>-0.686693</td>\n",
       "      <td>0.755100</td>\n",
       "      <td>-0.323942</td>\n",
       "      <td>-1.751623</td>\n",
       "    </tr>\n",
       "  </tbody>\n",
       "</table>\n",
       "<p>179 rows × 7 columns</p>\n",
       "</div>"
      ],
      "text/plain": [
       "          Age     SibSp     Parch      Fare  Sex_male  Embarked_Q  Embarked_S\n",
       "0   -0.023721 -0.484354 -0.532986 -0.655377  0.755100   -0.323942    0.570899\n",
       "1    1.461187  0.382640  3.803585  0.343889 -1.324329   -0.323942    0.570899\n",
       "2   -0.101874  1.249633 -0.532986 -0.138029  0.755100   -0.323942   -1.751623\n",
       "3   -0.101874  0.382640  2.358061 -0.070811  0.755100   -0.323942    0.570899\n",
       "4   -0.727098 -0.484354 -0.532986 -0.632127 -1.324329   -0.323942    0.570899\n",
       "..        ...       ...       ...       ...       ...         ...         ...\n",
       "174 -0.101874  6.451593  2.358061  1.679089  0.755100   -0.323942    0.570899\n",
       "175 -0.414486 -0.484354 -0.532986 -0.693336  0.755100   -0.323942    0.570899\n",
       "176 -0.648945 -0.484354 -0.532986 -0.685744  0.755100   -0.323942    0.570899\n",
       "177 -0.805252 -0.484354 -0.532986 -0.574874  0.755100   -0.323942    0.570899\n",
       "178 -0.101874 -0.484354 -0.532986 -0.686693  0.755100   -0.323942   -1.751623\n",
       "\n",
       "[179 rows x 7 columns]"
      ]
     },
     "execution_count": 192,
     "metadata": {},
     "output_type": "execute_result"
    }
   ],
   "source": [
    "pd.DataFrame(x_test_s,columns=x_train.columns)"
   ]
  },
  {
   "cell_type": "code",
   "execution_count": 193,
   "id": "95a52404",
   "metadata": {},
   "outputs": [
    {
     "data": {
      "text/html": [
       "<style>#sk-container-id-15 {color: black;background-color: white;}#sk-container-id-15 pre{padding: 0;}#sk-container-id-15 div.sk-toggleable {background-color: white;}#sk-container-id-15 label.sk-toggleable__label {cursor: pointer;display: block;width: 100%;margin-bottom: 0;padding: 0.3em;box-sizing: border-box;text-align: center;}#sk-container-id-15 label.sk-toggleable__label-arrow:before {content: \"▸\";float: left;margin-right: 0.25em;color: #696969;}#sk-container-id-15 label.sk-toggleable__label-arrow:hover:before {color: black;}#sk-container-id-15 div.sk-estimator:hover label.sk-toggleable__label-arrow:before {color: black;}#sk-container-id-15 div.sk-toggleable__content {max-height: 0;max-width: 0;overflow: hidden;text-align: left;background-color: #f0f8ff;}#sk-container-id-15 div.sk-toggleable__content pre {margin: 0.2em;color: black;border-radius: 0.25em;background-color: #f0f8ff;}#sk-container-id-15 input.sk-toggleable__control:checked~div.sk-toggleable__content {max-height: 200px;max-width: 100%;overflow: auto;}#sk-container-id-15 input.sk-toggleable__control:checked~label.sk-toggleable__label-arrow:before {content: \"▾\";}#sk-container-id-15 div.sk-estimator input.sk-toggleable__control:checked~label.sk-toggleable__label {background-color: #d4ebff;}#sk-container-id-15 div.sk-label input.sk-toggleable__control:checked~label.sk-toggleable__label {background-color: #d4ebff;}#sk-container-id-15 input.sk-hidden--visually {border: 0;clip: rect(1px 1px 1px 1px);clip: rect(1px, 1px, 1px, 1px);height: 1px;margin: -1px;overflow: hidden;padding: 0;position: absolute;width: 1px;}#sk-container-id-15 div.sk-estimator {font-family: monospace;background-color: #f0f8ff;border: 1px dotted black;border-radius: 0.25em;box-sizing: border-box;margin-bottom: 0.5em;}#sk-container-id-15 div.sk-estimator:hover {background-color: #d4ebff;}#sk-container-id-15 div.sk-parallel-item::after {content: \"\";width: 100%;border-bottom: 1px solid gray;flex-grow: 1;}#sk-container-id-15 div.sk-label:hover label.sk-toggleable__label {background-color: #d4ebff;}#sk-container-id-15 div.sk-serial::before {content: \"\";position: absolute;border-left: 1px solid gray;box-sizing: border-box;top: 0;bottom: 0;left: 50%;z-index: 0;}#sk-container-id-15 div.sk-serial {display: flex;flex-direction: column;align-items: center;background-color: white;padding-right: 0.2em;padding-left: 0.2em;position: relative;}#sk-container-id-15 div.sk-item {position: relative;z-index: 1;}#sk-container-id-15 div.sk-parallel {display: flex;align-items: stretch;justify-content: center;background-color: white;position: relative;}#sk-container-id-15 div.sk-item::before, #sk-container-id-15 div.sk-parallel-item::before {content: \"\";position: absolute;border-left: 1px solid gray;box-sizing: border-box;top: 0;bottom: 0;left: 50%;z-index: -1;}#sk-container-id-15 div.sk-parallel-item {display: flex;flex-direction: column;z-index: 1;position: relative;background-color: white;}#sk-container-id-15 div.sk-parallel-item:first-child::after {align-self: flex-end;width: 50%;}#sk-container-id-15 div.sk-parallel-item:last-child::after {align-self: flex-start;width: 50%;}#sk-container-id-15 div.sk-parallel-item:only-child::after {width: 0;}#sk-container-id-15 div.sk-dashed-wrapped {border: 1px dashed gray;margin: 0 0.4em 0.5em 0.4em;box-sizing: border-box;padding-bottom: 0.4em;background-color: white;}#sk-container-id-15 div.sk-label label {font-family: monospace;font-weight: bold;display: inline-block;line-height: 1.2em;}#sk-container-id-15 div.sk-label-container {text-align: center;}#sk-container-id-15 div.sk-container {/* jupyter's `normalize.less` sets `[hidden] { display: none; }` but bootstrap.min.css set `[hidden] { display: none !important; }` so we also need the `!important` here to be able to override the default hidden behavior on the sphinx rendered scikit-learn.org. See: https://github.com/scikit-learn/scikit-learn/issues/21755 */display: inline-block !important;position: relative;}#sk-container-id-15 div.sk-text-repr-fallback {display: none;}</style><div id=\"sk-container-id-15\" class=\"sk-top-container\"><div class=\"sk-text-repr-fallback\"><pre>KNeighborsClassifier(n_neighbors=7)</pre><b>In a Jupyter environment, please rerun this cell to show the HTML representation or trust the notebook. <br />On GitHub, the HTML representation is unable to render, please try loading this page with nbviewer.org.</b></div><div class=\"sk-container\" hidden><div class=\"sk-item\"><div class=\"sk-estimator sk-toggleable\"><input class=\"sk-toggleable__control sk-hidden--visually\" id=\"sk-estimator-id-29\" type=\"checkbox\" checked><label for=\"sk-estimator-id-29\" class=\"sk-toggleable__label sk-toggleable__label-arrow\">KNeighborsClassifier</label><div class=\"sk-toggleable__content\"><pre>KNeighborsClassifier(n_neighbors=7)</pre></div></div></div></div></div>"
      ],
      "text/plain": [
       "KNeighborsClassifier(n_neighbors=7)"
      ]
     },
     "execution_count": 193,
     "metadata": {},
     "output_type": "execute_result"
    }
   ],
   "source": [
    "model_knn.fit(x_train_s,y_train)"
   ]
  },
  {
   "cell_type": "code",
   "execution_count": 194,
   "id": "f647efa3",
   "metadata": {},
   "outputs": [],
   "source": [
    "y_pred_knn = model_knn.predict(x_test_s)"
   ]
  },
  {
   "cell_type": "code",
   "execution_count": 195,
   "id": "66d8564d",
   "metadata": {},
   "outputs": [
    {
     "name": "stdout",
     "output_type": "stream",
     "text": [
      "confusion Matrix:\n",
      " [[91 19]\n",
      " [18 51]]\n",
      "Acuracy: 0.7932960893854749\n",
      "Recall: 0.7391304347826086\n",
      "Precision: 0.7285714285714285\n",
      "F1 Score: 0.7338129496402879\n"
     ]
    }
   ],
   "source": [
    "validation(y_test,y_pred_knn)"
   ]
  },
  {
   "cell_type": "markdown",
   "id": "e5621ad0",
   "metadata": {},
   "source": [
    "# Support vector Machine"
   ]
  },
  {
   "cell_type": "code",
   "execution_count": 196,
   "id": "cdb8f9e6",
   "metadata": {},
   "outputs": [],
   "source": [
    "from sklearn.svm import SVC"
   ]
  },
  {
   "cell_type": "code",
   "execution_count": 197,
   "id": "6b287783",
   "metadata": {},
   "outputs": [],
   "source": [
    "model_svc = SVC()"
   ]
  },
  {
   "cell_type": "code",
   "execution_count": 198,
   "id": "4aa1ccce",
   "metadata": {},
   "outputs": [],
   "source": [
    "params = {'C':[0.001,0.01,0.1,1],\n",
    "         'kernel':['linear','poly','rbf','sigmoid'],\n",
    "          'gamma':[0.001,0.01,0.1,1]}"
   ]
  },
  {
   "cell_type": "code",
   "execution_count": 199,
   "id": "0b736497",
   "metadata": {},
   "outputs": [],
   "source": [
    "from sklearn.model_selection import GridSearchCV"
   ]
  },
  {
   "cell_type": "code",
   "execution_count": 200,
   "id": "dd0ab6c6",
   "metadata": {},
   "outputs": [],
   "source": [
    "gscv = GridSearchCV(estimator=model_svc,\n",
    "                   param_grid=params,\n",
    "                   cv=3,\n",
    "                   scoring='accuracy',\n",
    "                   verbose=3)"
   ]
  },
  {
   "cell_type": "code",
   "execution_count": 201,
   "id": "af11cfb1",
   "metadata": {},
   "outputs": [],
   "source": [
    "from sklearn.preprocessing import StandardScaler\n",
    "sc = StandardScaler()"
   ]
  },
  {
   "cell_type": "code",
   "execution_count": 202,
   "id": "b1e10ec2",
   "metadata": {},
   "outputs": [],
   "source": [
    "x_train_s = sc.fit_transform(x_train)\n",
    "x_test_s = sc.fit_transform(x_test)"
   ]
  },
  {
   "cell_type": "code",
   "execution_count": 203,
   "id": "b018c8cc",
   "metadata": {
    "scrolled": true
   },
   "outputs": [
    {
     "name": "stdout",
     "output_type": "stream",
     "text": [
      "Fitting 3 folds for each of 64 candidates, totalling 192 fits\n",
      "[CV 1/3] END C=0.001, gamma=0.001, kernel=linear;, score=0.618 total time=   0.0s\n",
      "[CV 2/3] END C=0.001, gamma=0.001, kernel=linear;, score=0.616 total time=   0.0s\n",
      "[CV 3/3] END C=0.001, gamma=0.001, kernel=linear;, score=0.616 total time=   0.0s\n",
      "[CV 1/3] END .C=0.001, gamma=0.001, kernel=poly;, score=0.618 total time=   0.0s\n",
      "[CV 2/3] END .C=0.001, gamma=0.001, kernel=poly;, score=0.616 total time=   0.0s\n",
      "[CV 3/3] END .C=0.001, gamma=0.001, kernel=poly;, score=0.616 total time=   0.0s\n",
      "[CV 1/3] END ..C=0.001, gamma=0.001, kernel=rbf;, score=0.618 total time=   0.0s\n",
      "[CV 2/3] END ..C=0.001, gamma=0.001, kernel=rbf;, score=0.616 total time=   0.0s\n",
      "[CV 3/3] END ..C=0.001, gamma=0.001, kernel=rbf;, score=0.616 total time=   0.0s\n",
      "[CV 1/3] END C=0.001, gamma=0.001, kernel=sigmoid;, score=0.618 total time=   0.0s\n",
      "[CV 2/3] END C=0.001, gamma=0.001, kernel=sigmoid;, score=0.616 total time=   0.0s\n",
      "[CV 3/3] END C=0.001, gamma=0.001, kernel=sigmoid;, score=0.616 total time=   0.0s\n",
      "[CV 1/3] END C=0.001, gamma=0.01, kernel=linear;, score=0.618 total time=   0.0s\n",
      "[CV 2/3] END C=0.001, gamma=0.01, kernel=linear;, score=0.616 total time=   0.0s\n",
      "[CV 3/3] END C=0.001, gamma=0.01, kernel=linear;, score=0.616 total time=   0.0s\n",
      "[CV 1/3] END ..C=0.001, gamma=0.01, kernel=poly;, score=0.618 total time=   0.0s\n",
      "[CV 2/3] END ..C=0.001, gamma=0.01, kernel=poly;, score=0.616 total time=   0.0s\n",
      "[CV 3/3] END ..C=0.001, gamma=0.01, kernel=poly;, score=0.616 total time=   0.0s\n",
      "[CV 1/3] END ...C=0.001, gamma=0.01, kernel=rbf;, score=0.618 total time=   0.0s\n",
      "[CV 2/3] END ...C=0.001, gamma=0.01, kernel=rbf;, score=0.616 total time=   0.0s\n",
      "[CV 3/3] END ...C=0.001, gamma=0.01, kernel=rbf;, score=0.616 total time=   0.0s\n",
      "[CV 1/3] END C=0.001, gamma=0.01, kernel=sigmoid;, score=0.618 total time=   0.0s\n",
      "[CV 2/3] END C=0.001, gamma=0.01, kernel=sigmoid;, score=0.616 total time=   0.0s\n",
      "[CV 3/3] END C=0.001, gamma=0.01, kernel=sigmoid;, score=0.616 total time=   0.0s\n",
      "[CV 1/3] END .C=0.001, gamma=0.1, kernel=linear;, score=0.618 total time=   0.0s\n",
      "[CV 2/3] END .C=0.001, gamma=0.1, kernel=linear;, score=0.616 total time=   0.0s\n",
      "[CV 3/3] END .C=0.001, gamma=0.1, kernel=linear;, score=0.616 total time=   0.0s\n",
      "[CV 1/3] END ...C=0.001, gamma=0.1, kernel=poly;, score=0.618 total time=   0.0s\n",
      "[CV 2/3] END ...C=0.001, gamma=0.1, kernel=poly;, score=0.616 total time=   0.0s\n",
      "[CV 3/3] END ...C=0.001, gamma=0.1, kernel=poly;, score=0.616 total time=   0.0s\n",
      "[CV 1/3] END ....C=0.001, gamma=0.1, kernel=rbf;, score=0.618 total time=   0.0s\n",
      "[CV 2/3] END ....C=0.001, gamma=0.1, kernel=rbf;, score=0.616 total time=   0.0s\n",
      "[CV 3/3] END ....C=0.001, gamma=0.1, kernel=rbf;, score=0.616 total time=   0.0s\n",
      "[CV 1/3] END C=0.001, gamma=0.1, kernel=sigmoid;, score=0.618 total time=   0.0s\n",
      "[CV 2/3] END C=0.001, gamma=0.1, kernel=sigmoid;, score=0.616 total time=   0.0s\n",
      "[CV 3/3] END C=0.001, gamma=0.1, kernel=sigmoid;, score=0.616 total time=   0.0s\n",
      "[CV 1/3] END ...C=0.001, gamma=1, kernel=linear;, score=0.618 total time=   0.0s\n",
      "[CV 2/3] END ...C=0.001, gamma=1, kernel=linear;, score=0.616 total time=   0.0s\n",
      "[CV 3/3] END ...C=0.001, gamma=1, kernel=linear;, score=0.616 total time=   0.0s\n",
      "[CV 1/3] END .....C=0.001, gamma=1, kernel=poly;, score=0.756 total time=   0.0s\n",
      "[CV 2/3] END .....C=0.001, gamma=1, kernel=poly;, score=0.730 total time=   0.0s\n",
      "[CV 3/3] END .....C=0.001, gamma=1, kernel=poly;, score=0.747 total time=   0.0s\n",
      "[CV 1/3] END ......C=0.001, gamma=1, kernel=rbf;, score=0.618 total time=   0.0s\n",
      "[CV 2/3] END ......C=0.001, gamma=1, kernel=rbf;, score=0.616 total time=   0.0s\n",
      "[CV 3/3] END ......C=0.001, gamma=1, kernel=rbf;, score=0.616 total time=   0.0s\n",
      "[CV 1/3] END ..C=0.001, gamma=1, kernel=sigmoid;, score=0.618 total time=   0.0s\n",
      "[CV 2/3] END ..C=0.001, gamma=1, kernel=sigmoid;, score=0.616 total time=   0.0s\n",
      "[CV 3/3] END ..C=0.001, gamma=1, kernel=sigmoid;, score=0.616 total time=   0.0s\n",
      "[CV 1/3] END C=0.01, gamma=0.001, kernel=linear;, score=0.803 total time=   0.0s\n",
      "[CV 2/3] END C=0.01, gamma=0.001, kernel=linear;, score=0.785 total time=   0.0s\n",
      "[CV 3/3] END C=0.01, gamma=0.001, kernel=linear;, score=0.781 total time=   0.0s\n",
      "[CV 1/3] END ..C=0.01, gamma=0.001, kernel=poly;, score=0.618 total time=   0.0s\n",
      "[CV 2/3] END ..C=0.01, gamma=0.001, kernel=poly;, score=0.616 total time=   0.0s\n",
      "[CV 3/3] END ..C=0.01, gamma=0.001, kernel=poly;, score=0.616 total time=   0.0s\n",
      "[CV 1/3] END ...C=0.01, gamma=0.001, kernel=rbf;, score=0.618 total time=   0.0s\n",
      "[CV 2/3] END ...C=0.01, gamma=0.001, kernel=rbf;, score=0.616 total time=   0.0s\n",
      "[CV 3/3] END ...C=0.01, gamma=0.001, kernel=rbf;, score=0.616 total time=   0.0s\n",
      "[CV 1/3] END C=0.01, gamma=0.001, kernel=sigmoid;, score=0.618 total time=   0.0s\n",
      "[CV 2/3] END C=0.01, gamma=0.001, kernel=sigmoid;, score=0.616 total time=   0.0s\n",
      "[CV 3/3] END C=0.01, gamma=0.001, kernel=sigmoid;, score=0.616 total time=   0.0s\n",
      "[CV 1/3] END .C=0.01, gamma=0.01, kernel=linear;, score=0.803 total time=   0.0s\n",
      "[CV 2/3] END .C=0.01, gamma=0.01, kernel=linear;, score=0.785 total time=   0.0s\n",
      "[CV 3/3] END .C=0.01, gamma=0.01, kernel=linear;, score=0.781 total time=   0.0s\n",
      "[CV 1/3] END ...C=0.01, gamma=0.01, kernel=poly;, score=0.618 total time=   0.0s\n",
      "[CV 2/3] END ...C=0.01, gamma=0.01, kernel=poly;, score=0.616 total time=   0.0s\n",
      "[CV 3/3] END ...C=0.01, gamma=0.01, kernel=poly;, score=0.616 total time=   0.0s\n",
      "[CV 1/3] END ....C=0.01, gamma=0.01, kernel=rbf;, score=0.618 total time=   0.0s\n",
      "[CV 2/3] END ....C=0.01, gamma=0.01, kernel=rbf;, score=0.616 total time=   0.0s\n",
      "[CV 3/3] END ....C=0.01, gamma=0.01, kernel=rbf;, score=0.616 total time=   0.0s\n",
      "[CV 1/3] END C=0.01, gamma=0.01, kernel=sigmoid;, score=0.618 total time=   0.0s\n",
      "[CV 2/3] END C=0.01, gamma=0.01, kernel=sigmoid;, score=0.616 total time=   0.0s\n",
      "[CV 3/3] END C=0.01, gamma=0.01, kernel=sigmoid;, score=0.616 total time=   0.0s\n",
      "[CV 1/3] END ..C=0.01, gamma=0.1, kernel=linear;, score=0.803 total time=   0.0s\n",
      "[CV 2/3] END ..C=0.01, gamma=0.1, kernel=linear;, score=0.785 total time=   0.0s\n",
      "[CV 3/3] END ..C=0.01, gamma=0.1, kernel=linear;, score=0.781 total time=   0.0s\n",
      "[CV 1/3] END ....C=0.01, gamma=0.1, kernel=poly;, score=0.618 total time=   0.0s\n",
      "[CV 2/3] END ....C=0.01, gamma=0.1, kernel=poly;, score=0.616 total time=   0.0s\n",
      "[CV 3/3] END ....C=0.01, gamma=0.1, kernel=poly;, score=0.616 total time=   0.0s\n",
      "[CV 1/3] END .....C=0.01, gamma=0.1, kernel=rbf;, score=0.618 total time=   0.0s\n",
      "[CV 2/3] END .....C=0.01, gamma=0.1, kernel=rbf;, score=0.616 total time=   0.0s\n",
      "[CV 3/3] END .....C=0.01, gamma=0.1, kernel=rbf;, score=0.616 total time=   0.0s\n",
      "[CV 1/3] END .C=0.01, gamma=0.1, kernel=sigmoid;, score=0.618 total time=   0.0s\n",
      "[CV 2/3] END .C=0.01, gamma=0.1, kernel=sigmoid;, score=0.616 total time=   0.0s\n",
      "[CV 3/3] END .C=0.01, gamma=0.1, kernel=sigmoid;, score=0.616 total time=   0.0s\n",
      "[CV 1/3] END ....C=0.01, gamma=1, kernel=linear;, score=0.803 total time=   0.0s\n",
      "[CV 2/3] END ....C=0.01, gamma=1, kernel=linear;, score=0.785 total time=   0.0s\n",
      "[CV 3/3] END ....C=0.01, gamma=1, kernel=linear;, score=0.781 total time=   0.0s\n",
      "[CV 1/3] END ......C=0.01, gamma=1, kernel=poly;, score=0.832 total time=   0.0s\n",
      "[CV 2/3] END ......C=0.01, gamma=1, kernel=poly;, score=0.789 total time=   0.0s\n",
      "[CV 3/3] END ......C=0.01, gamma=1, kernel=poly;, score=0.772 total time=   0.0s\n",
      "[CV 1/3] END .......C=0.01, gamma=1, kernel=rbf;, score=0.618 total time=   0.0s\n",
      "[CV 2/3] END .......C=0.01, gamma=1, kernel=rbf;, score=0.616 total time=   0.0s\n",
      "[CV 3/3] END .......C=0.01, gamma=1, kernel=rbf;, score=0.616 total time=   0.0s\n",
      "[CV 1/3] END ...C=0.01, gamma=1, kernel=sigmoid;, score=0.786 total time=   0.0s\n",
      "[CV 2/3] END ...C=0.01, gamma=1, kernel=sigmoid;, score=0.755 total time=   0.0s\n",
      "[CV 3/3] END ...C=0.01, gamma=1, kernel=sigmoid;, score=0.776 total time=   0.0s\n",
      "[CV 1/3] END .C=0.1, gamma=0.001, kernel=linear;, score=0.803 total time=   0.0s\n",
      "[CV 2/3] END .C=0.1, gamma=0.001, kernel=linear;, score=0.785 total time=   0.0s\n",
      "[CV 3/3] END .C=0.1, gamma=0.001, kernel=linear;, score=0.781 total time=   0.0s\n",
      "[CV 1/3] END ...C=0.1, gamma=0.001, kernel=poly;, score=0.618 total time=   0.0s\n",
      "[CV 2/3] END ...C=0.1, gamma=0.001, kernel=poly;, score=0.616 total time=   0.0s\n",
      "[CV 3/3] END ...C=0.1, gamma=0.001, kernel=poly;, score=0.616 total time=   0.0s\n",
      "[CV 1/3] END ....C=0.1, gamma=0.001, kernel=rbf;, score=0.618 total time=   0.0s\n"
     ]
    },
    {
     "name": "stdout",
     "output_type": "stream",
     "text": [
      "[CV 2/3] END ....C=0.1, gamma=0.001, kernel=rbf;, score=0.616 total time=   0.0s\n",
      "[CV 3/3] END ....C=0.1, gamma=0.001, kernel=rbf;, score=0.616 total time=   0.0s\n",
      "[CV 1/3] END C=0.1, gamma=0.001, kernel=sigmoid;, score=0.618 total time=   0.0s\n",
      "[CV 2/3] END C=0.1, gamma=0.001, kernel=sigmoid;, score=0.616 total time=   0.0s\n",
      "[CV 3/3] END C=0.1, gamma=0.001, kernel=sigmoid;, score=0.616 total time=   0.0s\n",
      "[CV 1/3] END ..C=0.1, gamma=0.01, kernel=linear;, score=0.803 total time=   0.0s\n",
      "[CV 2/3] END ..C=0.1, gamma=0.01, kernel=linear;, score=0.785 total time=   0.0s\n",
      "[CV 3/3] END ..C=0.1, gamma=0.01, kernel=linear;, score=0.781 total time=   0.0s\n",
      "[CV 1/3] END ....C=0.1, gamma=0.01, kernel=poly;, score=0.618 total time=   0.0s\n",
      "[CV 2/3] END ....C=0.1, gamma=0.01, kernel=poly;, score=0.616 total time=   0.0s\n",
      "[CV 3/3] END ....C=0.1, gamma=0.01, kernel=poly;, score=0.616 total time=   0.0s\n",
      "[CV 1/3] END .....C=0.1, gamma=0.01, kernel=rbf;, score=0.647 total time=   0.0s\n",
      "[CV 2/3] END .....C=0.1, gamma=0.01, kernel=rbf;, score=0.679 total time=   0.0s\n",
      "[CV 3/3] END .....C=0.1, gamma=0.01, kernel=rbf;, score=0.658 total time=   0.0s\n",
      "[CV 1/3] END .C=0.1, gamma=0.01, kernel=sigmoid;, score=0.618 total time=   0.0s\n",
      "[CV 2/3] END .C=0.1, gamma=0.01, kernel=sigmoid;, score=0.616 total time=   0.0s\n",
      "[CV 3/3] END .C=0.1, gamma=0.01, kernel=sigmoid;, score=0.616 total time=   0.0s\n",
      "[CV 1/3] END ...C=0.1, gamma=0.1, kernel=linear;, score=0.803 total time=   0.0s\n",
      "[CV 2/3] END ...C=0.1, gamma=0.1, kernel=linear;, score=0.785 total time=   0.0s\n",
      "[CV 3/3] END ...C=0.1, gamma=0.1, kernel=linear;, score=0.781 total time=   0.0s\n",
      "[CV 1/3] END .....C=0.1, gamma=0.1, kernel=poly;, score=0.672 total time=   0.0s\n",
      "[CV 2/3] END .....C=0.1, gamma=0.1, kernel=poly;, score=0.709 total time=   0.0s\n",
      "[CV 3/3] END .....C=0.1, gamma=0.1, kernel=poly;, score=0.692 total time=   0.0s\n",
      "[CV 1/3] END ......C=0.1, gamma=0.1, kernel=rbf;, score=0.811 total time=   0.0s\n",
      "[CV 2/3] END ......C=0.1, gamma=0.1, kernel=rbf;, score=0.772 total time=   0.0s\n",
      "[CV 3/3] END ......C=0.1, gamma=0.1, kernel=rbf;, score=0.797 total time=   0.0s\n",
      "[CV 1/3] END ..C=0.1, gamma=0.1, kernel=sigmoid;, score=0.794 total time=   0.0s\n",
      "[CV 2/3] END ..C=0.1, gamma=0.1, kernel=sigmoid;, score=0.785 total time=   0.0s\n",
      "[CV 3/3] END ..C=0.1, gamma=0.1, kernel=sigmoid;, score=0.781 total time=   0.0s\n",
      "[CV 1/3] END .....C=0.1, gamma=1, kernel=linear;, score=0.803 total time=   0.0s\n",
      "[CV 2/3] END .....C=0.1, gamma=1, kernel=linear;, score=0.785 total time=   0.0s\n",
      "[CV 3/3] END .....C=0.1, gamma=1, kernel=linear;, score=0.781 total time=   0.0s\n",
      "[CV 1/3] END .......C=0.1, gamma=1, kernel=poly;, score=0.811 total time=   0.0s\n",
      "[CV 2/3] END .......C=0.1, gamma=1, kernel=poly;, score=0.785 total time=   0.0s\n",
      "[CV 3/3] END .......C=0.1, gamma=1, kernel=poly;, score=0.747 total time=   0.0s\n",
      "[CV 1/3] END ........C=0.1, gamma=1, kernel=rbf;, score=0.794 total time=   0.0s\n",
      "[CV 2/3] END ........C=0.1, gamma=1, kernel=rbf;, score=0.768 total time=   0.0s\n",
      "[CV 3/3] END ........C=0.1, gamma=1, kernel=rbf;, score=0.713 total time=   0.0s\n",
      "[CV 1/3] END ....C=0.1, gamma=1, kernel=sigmoid;, score=0.651 total time=   0.0s\n",
      "[CV 2/3] END ....C=0.1, gamma=1, kernel=sigmoid;, score=0.692 total time=   0.0s\n",
      "[CV 3/3] END ....C=0.1, gamma=1, kernel=sigmoid;, score=0.700 total time=   0.0s\n",
      "[CV 1/3] END ...C=1, gamma=0.001, kernel=linear;, score=0.803 total time=   0.0s\n",
      "[CV 2/3] END ...C=1, gamma=0.001, kernel=linear;, score=0.785 total time=   0.0s\n",
      "[CV 3/3] END ...C=1, gamma=0.001, kernel=linear;, score=0.781 total time=   0.0s\n",
      "[CV 1/3] END .....C=1, gamma=0.001, kernel=poly;, score=0.618 total time=   0.0s\n",
      "[CV 2/3] END .....C=1, gamma=0.001, kernel=poly;, score=0.616 total time=   0.0s\n",
      "[CV 3/3] END .....C=1, gamma=0.001, kernel=poly;, score=0.616 total time=   0.0s\n",
      "[CV 1/3] END ......C=1, gamma=0.001, kernel=rbf;, score=0.676 total time=   0.0s\n",
      "[CV 2/3] END ......C=1, gamma=0.001, kernel=rbf;, score=0.709 total time=   0.0s\n",
      "[CV 3/3] END ......C=1, gamma=0.001, kernel=rbf;, score=0.700 total time=   0.0s\n",
      "[CV 1/3] END ..C=1, gamma=0.001, kernel=sigmoid;, score=0.618 total time=   0.0s\n",
      "[CV 2/3] END ..C=1, gamma=0.001, kernel=sigmoid;, score=0.616 total time=   0.0s\n",
      "[CV 3/3] END ..C=1, gamma=0.001, kernel=sigmoid;, score=0.616 total time=   0.0s\n",
      "[CV 1/3] END ....C=1, gamma=0.01, kernel=linear;, score=0.803 total time=   0.0s\n",
      "[CV 2/3] END ....C=1, gamma=0.01, kernel=linear;, score=0.785 total time=   0.0s\n",
      "[CV 3/3] END ....C=1, gamma=0.01, kernel=linear;, score=0.781 total time=   0.0s\n",
      "[CV 1/3] END ......C=1, gamma=0.01, kernel=poly;, score=0.618 total time=   0.0s\n",
      "[CV 2/3] END ......C=1, gamma=0.01, kernel=poly;, score=0.616 total time=   0.0s\n",
      "[CV 3/3] END ......C=1, gamma=0.01, kernel=poly;, score=0.616 total time=   0.0s\n",
      "[CV 1/3] END .......C=1, gamma=0.01, kernel=rbf;, score=0.803 total time=   0.0s\n",
      "[CV 2/3] END .......C=1, gamma=0.01, kernel=rbf;, score=0.793 total time=   0.0s\n",
      "[CV 3/3] END .......C=1, gamma=0.01, kernel=rbf;, score=0.781 total time=   0.0s\n",
      "[CV 1/3] END ...C=1, gamma=0.01, kernel=sigmoid;, score=0.803 total time=   0.0s\n",
      "[CV 2/3] END ...C=1, gamma=0.01, kernel=sigmoid;, score=0.785 total time=   0.0s\n",
      "[CV 3/3] END ...C=1, gamma=0.01, kernel=sigmoid;, score=0.781 total time=   0.0s\n",
      "[CV 1/3] END .....C=1, gamma=0.1, kernel=linear;, score=0.803 total time=   0.0s\n",
      "[CV 2/3] END .....C=1, gamma=0.1, kernel=linear;, score=0.785 total time=   0.0s\n",
      "[CV 3/3] END .....C=1, gamma=0.1, kernel=linear;, score=0.781 total time=   0.0s\n",
      "[CV 1/3] END .......C=1, gamma=0.1, kernel=poly;, score=0.756 total time=   0.0s\n",
      "[CV 2/3] END .......C=1, gamma=0.1, kernel=poly;, score=0.730 total time=   0.0s\n",
      "[CV 3/3] END .......C=1, gamma=0.1, kernel=poly;, score=0.747 total time=   0.0s\n",
      "[CV 1/3] END ........C=1, gamma=0.1, kernel=rbf;, score=0.832 total time=   0.0s\n",
      "[CV 2/3] END ........C=1, gamma=0.1, kernel=rbf;, score=0.810 total time=   0.0s\n",
      "[CV 3/3] END ........C=1, gamma=0.1, kernel=rbf;, score=0.814 total time=   0.0s\n",
      "[CV 1/3] END ....C=1, gamma=0.1, kernel=sigmoid;, score=0.723 total time=   0.0s\n",
      "[CV 2/3] END ....C=1, gamma=0.1, kernel=sigmoid;, score=0.734 total time=   0.0s\n",
      "[CV 3/3] END ....C=1, gamma=0.1, kernel=sigmoid;, score=0.755 total time=   0.0s\n",
      "[CV 1/3] END .......C=1, gamma=1, kernel=linear;, score=0.803 total time=   0.0s\n",
      "[CV 2/3] END .......C=1, gamma=1, kernel=linear;, score=0.785 total time=   0.0s\n",
      "[CV 3/3] END .......C=1, gamma=1, kernel=linear;, score=0.781 total time=   0.0s\n",
      "[CV 1/3] END .........C=1, gamma=1, kernel=poly;, score=0.803 total time=   0.2s\n",
      "[CV 2/3] END .........C=1, gamma=1, kernel=poly;, score=0.785 total time=   0.0s\n",
      "[CV 3/3] END .........C=1, gamma=1, kernel=poly;, score=0.730 total time=   0.2s\n",
      "[CV 1/3] END ..........C=1, gamma=1, kernel=rbf;, score=0.811 total time=   0.0s\n",
      "[CV 2/3] END ..........C=1, gamma=1, kernel=rbf;, score=0.781 total time=   0.0s\n",
      "[CV 3/3] END ..........C=1, gamma=1, kernel=rbf;, score=0.785 total time=   0.0s\n",
      "[CV 1/3] END ......C=1, gamma=1, kernel=sigmoid;, score=0.622 total time=   0.0s\n",
      "[CV 2/3] END ......C=1, gamma=1, kernel=sigmoid;, score=0.641 total time=   0.0s\n",
      "[CV 3/3] END ......C=1, gamma=1, kernel=sigmoid;, score=0.658 total time=   0.0s\n"
     ]
    },
    {
     "data": {
      "text/html": [
       "<style>#sk-container-id-16 {color: black;background-color: white;}#sk-container-id-16 pre{padding: 0;}#sk-container-id-16 div.sk-toggleable {background-color: white;}#sk-container-id-16 label.sk-toggleable__label {cursor: pointer;display: block;width: 100%;margin-bottom: 0;padding: 0.3em;box-sizing: border-box;text-align: center;}#sk-container-id-16 label.sk-toggleable__label-arrow:before {content: \"▸\";float: left;margin-right: 0.25em;color: #696969;}#sk-container-id-16 label.sk-toggleable__label-arrow:hover:before {color: black;}#sk-container-id-16 div.sk-estimator:hover label.sk-toggleable__label-arrow:before {color: black;}#sk-container-id-16 div.sk-toggleable__content {max-height: 0;max-width: 0;overflow: hidden;text-align: left;background-color: #f0f8ff;}#sk-container-id-16 div.sk-toggleable__content pre {margin: 0.2em;color: black;border-radius: 0.25em;background-color: #f0f8ff;}#sk-container-id-16 input.sk-toggleable__control:checked~div.sk-toggleable__content {max-height: 200px;max-width: 100%;overflow: auto;}#sk-container-id-16 input.sk-toggleable__control:checked~label.sk-toggleable__label-arrow:before {content: \"▾\";}#sk-container-id-16 div.sk-estimator input.sk-toggleable__control:checked~label.sk-toggleable__label {background-color: #d4ebff;}#sk-container-id-16 div.sk-label input.sk-toggleable__control:checked~label.sk-toggleable__label {background-color: #d4ebff;}#sk-container-id-16 input.sk-hidden--visually {border: 0;clip: rect(1px 1px 1px 1px);clip: rect(1px, 1px, 1px, 1px);height: 1px;margin: -1px;overflow: hidden;padding: 0;position: absolute;width: 1px;}#sk-container-id-16 div.sk-estimator {font-family: monospace;background-color: #f0f8ff;border: 1px dotted black;border-radius: 0.25em;box-sizing: border-box;margin-bottom: 0.5em;}#sk-container-id-16 div.sk-estimator:hover {background-color: #d4ebff;}#sk-container-id-16 div.sk-parallel-item::after {content: \"\";width: 100%;border-bottom: 1px solid gray;flex-grow: 1;}#sk-container-id-16 div.sk-label:hover label.sk-toggleable__label {background-color: #d4ebff;}#sk-container-id-16 div.sk-serial::before {content: \"\";position: absolute;border-left: 1px solid gray;box-sizing: border-box;top: 0;bottom: 0;left: 50%;z-index: 0;}#sk-container-id-16 div.sk-serial {display: flex;flex-direction: column;align-items: center;background-color: white;padding-right: 0.2em;padding-left: 0.2em;position: relative;}#sk-container-id-16 div.sk-item {position: relative;z-index: 1;}#sk-container-id-16 div.sk-parallel {display: flex;align-items: stretch;justify-content: center;background-color: white;position: relative;}#sk-container-id-16 div.sk-item::before, #sk-container-id-16 div.sk-parallel-item::before {content: \"\";position: absolute;border-left: 1px solid gray;box-sizing: border-box;top: 0;bottom: 0;left: 50%;z-index: -1;}#sk-container-id-16 div.sk-parallel-item {display: flex;flex-direction: column;z-index: 1;position: relative;background-color: white;}#sk-container-id-16 div.sk-parallel-item:first-child::after {align-self: flex-end;width: 50%;}#sk-container-id-16 div.sk-parallel-item:last-child::after {align-self: flex-start;width: 50%;}#sk-container-id-16 div.sk-parallel-item:only-child::after {width: 0;}#sk-container-id-16 div.sk-dashed-wrapped {border: 1px dashed gray;margin: 0 0.4em 0.5em 0.4em;box-sizing: border-box;padding-bottom: 0.4em;background-color: white;}#sk-container-id-16 div.sk-label label {font-family: monospace;font-weight: bold;display: inline-block;line-height: 1.2em;}#sk-container-id-16 div.sk-label-container {text-align: center;}#sk-container-id-16 div.sk-container {/* jupyter's `normalize.less` sets `[hidden] { display: none; }` but bootstrap.min.css set `[hidden] { display: none !important; }` so we also need the `!important` here to be able to override the default hidden behavior on the sphinx rendered scikit-learn.org. See: https://github.com/scikit-learn/scikit-learn/issues/21755 */display: inline-block !important;position: relative;}#sk-container-id-16 div.sk-text-repr-fallback {display: none;}</style><div id=\"sk-container-id-16\" class=\"sk-top-container\"><div class=\"sk-text-repr-fallback\"><pre>GridSearchCV(cv=3, estimator=SVC(),\n",
       "             param_grid={&#x27;C&#x27;: [0.001, 0.01, 0.1, 1],\n",
       "                         &#x27;gamma&#x27;: [0.001, 0.01, 0.1, 1],\n",
       "                         &#x27;kernel&#x27;: [&#x27;linear&#x27;, &#x27;poly&#x27;, &#x27;rbf&#x27;, &#x27;sigmoid&#x27;]},\n",
       "             scoring=&#x27;accuracy&#x27;, verbose=3)</pre><b>In a Jupyter environment, please rerun this cell to show the HTML representation or trust the notebook. <br />On GitHub, the HTML representation is unable to render, please try loading this page with nbviewer.org.</b></div><div class=\"sk-container\" hidden><div class=\"sk-item sk-dashed-wrapped\"><div class=\"sk-label-container\"><div class=\"sk-label sk-toggleable\"><input class=\"sk-toggleable__control sk-hidden--visually\" id=\"sk-estimator-id-30\" type=\"checkbox\" ><label for=\"sk-estimator-id-30\" class=\"sk-toggleable__label sk-toggleable__label-arrow\">GridSearchCV</label><div class=\"sk-toggleable__content\"><pre>GridSearchCV(cv=3, estimator=SVC(),\n",
       "             param_grid={&#x27;C&#x27;: [0.001, 0.01, 0.1, 1],\n",
       "                         &#x27;gamma&#x27;: [0.001, 0.01, 0.1, 1],\n",
       "                         &#x27;kernel&#x27;: [&#x27;linear&#x27;, &#x27;poly&#x27;, &#x27;rbf&#x27;, &#x27;sigmoid&#x27;]},\n",
       "             scoring=&#x27;accuracy&#x27;, verbose=3)</pre></div></div></div><div class=\"sk-parallel\"><div class=\"sk-parallel-item\"><div class=\"sk-item\"><div class=\"sk-label-container\"><div class=\"sk-label sk-toggleable\"><input class=\"sk-toggleable__control sk-hidden--visually\" id=\"sk-estimator-id-31\" type=\"checkbox\" ><label for=\"sk-estimator-id-31\" class=\"sk-toggleable__label sk-toggleable__label-arrow\">estimator: SVC</label><div class=\"sk-toggleable__content\"><pre>SVC()</pre></div></div></div><div class=\"sk-serial\"><div class=\"sk-item\"><div class=\"sk-estimator sk-toggleable\"><input class=\"sk-toggleable__control sk-hidden--visually\" id=\"sk-estimator-id-32\" type=\"checkbox\" ><label for=\"sk-estimator-id-32\" class=\"sk-toggleable__label sk-toggleable__label-arrow\">SVC</label><div class=\"sk-toggleable__content\"><pre>SVC()</pre></div></div></div></div></div></div></div></div></div></div>"
      ],
      "text/plain": [
       "GridSearchCV(cv=3, estimator=SVC(),\n",
       "             param_grid={'C': [0.001, 0.01, 0.1, 1],\n",
       "                         'gamma': [0.001, 0.01, 0.1, 1],\n",
       "                         'kernel': ['linear', 'poly', 'rbf', 'sigmoid']},\n",
       "             scoring='accuracy', verbose=3)"
      ]
     },
     "execution_count": 203,
     "metadata": {},
     "output_type": "execute_result"
    }
   ],
   "source": [
    "gscv.fit(x_train_s,y_train)"
   ]
  },
  {
   "cell_type": "code",
   "execution_count": 204,
   "id": "5ffb2d14",
   "metadata": {},
   "outputs": [
    {
     "data": {
      "text/plain": [
       "0.8188017823163021"
      ]
     },
     "execution_count": 204,
     "metadata": {},
     "output_type": "execute_result"
    }
   ],
   "source": [
    "gscv.best_score_"
   ]
  },
  {
   "cell_type": "code",
   "execution_count": 205,
   "id": "3b6f2254",
   "metadata": {},
   "outputs": [
    {
     "data": {
      "text/plain": [
       "{'C': 1, 'gamma': 0.1, 'kernel': 'rbf'}"
      ]
     },
     "execution_count": 205,
     "metadata": {},
     "output_type": "execute_result"
    }
   ],
   "source": [
    "gscv.best_params_"
   ]
  },
  {
   "cell_type": "code",
   "execution_count": 206,
   "id": "c2cacce0",
   "metadata": {},
   "outputs": [],
   "source": [
    "model_svc = SVC(**gscv.best_params_)"
   ]
  },
  {
   "cell_type": "code",
   "execution_count": 207,
   "id": "6fb1bb4a",
   "metadata": {
    "scrolled": true
   },
   "outputs": [
    {
     "data": {
      "text/html": [
       "<style>#sk-container-id-17 {color: black;background-color: white;}#sk-container-id-17 pre{padding: 0;}#sk-container-id-17 div.sk-toggleable {background-color: white;}#sk-container-id-17 label.sk-toggleable__label {cursor: pointer;display: block;width: 100%;margin-bottom: 0;padding: 0.3em;box-sizing: border-box;text-align: center;}#sk-container-id-17 label.sk-toggleable__label-arrow:before {content: \"▸\";float: left;margin-right: 0.25em;color: #696969;}#sk-container-id-17 label.sk-toggleable__label-arrow:hover:before {color: black;}#sk-container-id-17 div.sk-estimator:hover label.sk-toggleable__label-arrow:before {color: black;}#sk-container-id-17 div.sk-toggleable__content {max-height: 0;max-width: 0;overflow: hidden;text-align: left;background-color: #f0f8ff;}#sk-container-id-17 div.sk-toggleable__content pre {margin: 0.2em;color: black;border-radius: 0.25em;background-color: #f0f8ff;}#sk-container-id-17 input.sk-toggleable__control:checked~div.sk-toggleable__content {max-height: 200px;max-width: 100%;overflow: auto;}#sk-container-id-17 input.sk-toggleable__control:checked~label.sk-toggleable__label-arrow:before {content: \"▾\";}#sk-container-id-17 div.sk-estimator input.sk-toggleable__control:checked~label.sk-toggleable__label {background-color: #d4ebff;}#sk-container-id-17 div.sk-label input.sk-toggleable__control:checked~label.sk-toggleable__label {background-color: #d4ebff;}#sk-container-id-17 input.sk-hidden--visually {border: 0;clip: rect(1px 1px 1px 1px);clip: rect(1px, 1px, 1px, 1px);height: 1px;margin: -1px;overflow: hidden;padding: 0;position: absolute;width: 1px;}#sk-container-id-17 div.sk-estimator {font-family: monospace;background-color: #f0f8ff;border: 1px dotted black;border-radius: 0.25em;box-sizing: border-box;margin-bottom: 0.5em;}#sk-container-id-17 div.sk-estimator:hover {background-color: #d4ebff;}#sk-container-id-17 div.sk-parallel-item::after {content: \"\";width: 100%;border-bottom: 1px solid gray;flex-grow: 1;}#sk-container-id-17 div.sk-label:hover label.sk-toggleable__label {background-color: #d4ebff;}#sk-container-id-17 div.sk-serial::before {content: \"\";position: absolute;border-left: 1px solid gray;box-sizing: border-box;top: 0;bottom: 0;left: 50%;z-index: 0;}#sk-container-id-17 div.sk-serial {display: flex;flex-direction: column;align-items: center;background-color: white;padding-right: 0.2em;padding-left: 0.2em;position: relative;}#sk-container-id-17 div.sk-item {position: relative;z-index: 1;}#sk-container-id-17 div.sk-parallel {display: flex;align-items: stretch;justify-content: center;background-color: white;position: relative;}#sk-container-id-17 div.sk-item::before, #sk-container-id-17 div.sk-parallel-item::before {content: \"\";position: absolute;border-left: 1px solid gray;box-sizing: border-box;top: 0;bottom: 0;left: 50%;z-index: -1;}#sk-container-id-17 div.sk-parallel-item {display: flex;flex-direction: column;z-index: 1;position: relative;background-color: white;}#sk-container-id-17 div.sk-parallel-item:first-child::after {align-self: flex-end;width: 50%;}#sk-container-id-17 div.sk-parallel-item:last-child::after {align-self: flex-start;width: 50%;}#sk-container-id-17 div.sk-parallel-item:only-child::after {width: 0;}#sk-container-id-17 div.sk-dashed-wrapped {border: 1px dashed gray;margin: 0 0.4em 0.5em 0.4em;box-sizing: border-box;padding-bottom: 0.4em;background-color: white;}#sk-container-id-17 div.sk-label label {font-family: monospace;font-weight: bold;display: inline-block;line-height: 1.2em;}#sk-container-id-17 div.sk-label-container {text-align: center;}#sk-container-id-17 div.sk-container {/* jupyter's `normalize.less` sets `[hidden] { display: none; }` but bootstrap.min.css set `[hidden] { display: none !important; }` so we also need the `!important` here to be able to override the default hidden behavior on the sphinx rendered scikit-learn.org. See: https://github.com/scikit-learn/scikit-learn/issues/21755 */display: inline-block !important;position: relative;}#sk-container-id-17 div.sk-text-repr-fallback {display: none;}</style><div id=\"sk-container-id-17\" class=\"sk-top-container\"><div class=\"sk-text-repr-fallback\"><pre>SVC(C=1, gamma=0.1)</pre><b>In a Jupyter environment, please rerun this cell to show the HTML representation or trust the notebook. <br />On GitHub, the HTML representation is unable to render, please try loading this page with nbviewer.org.</b></div><div class=\"sk-container\" hidden><div class=\"sk-item\"><div class=\"sk-estimator sk-toggleable\"><input class=\"sk-toggleable__control sk-hidden--visually\" id=\"sk-estimator-id-33\" type=\"checkbox\" checked><label for=\"sk-estimator-id-33\" class=\"sk-toggleable__label sk-toggleable__label-arrow\">SVC</label><div class=\"sk-toggleable__content\"><pre>SVC(C=1, gamma=0.1)</pre></div></div></div></div></div>"
      ],
      "text/plain": [
       "SVC(C=1, gamma=0.1)"
      ]
     },
     "execution_count": 207,
     "metadata": {},
     "output_type": "execute_result"
    }
   ],
   "source": [
    "model_svc.fit(x_train_s,y_train)"
   ]
  },
  {
   "cell_type": "code",
   "execution_count": 208,
   "id": "e5a78e11",
   "metadata": {},
   "outputs": [],
   "source": [
    "y_pred_svm = model_svc.predict(x_test_s)"
   ]
  },
  {
   "cell_type": "code",
   "execution_count": 209,
   "id": "4ce6657c",
   "metadata": {},
   "outputs": [
    {
     "name": "stdout",
     "output_type": "stream",
     "text": [
      "confusion Matrix:\n",
      " [[100  10]\n",
      " [ 19  50]]\n",
      "Acuracy: 0.8379888268156425\n",
      "Recall: 0.7246376811594203\n",
      "Precision: 0.8333333333333334\n",
      "F1 Score: 0.7751937984496124\n"
     ]
    }
   ],
   "source": [
    "validation(y_test,y_pred_svm)"
   ]
  },
  {
   "cell_type": "code",
   "execution_count": null,
   "id": "f903538f",
   "metadata": {},
   "outputs": [],
   "source": []
  }
 ],
 "metadata": {
  "kernelspec": {
   "display_name": "Python 3 (ipykernel)",
   "language": "python",
   "name": "python3"
  },
  "language_info": {
   "codemirror_mode": {
    "name": "ipython",
    "version": 3
   },
   "file_extension": ".py",
   "mimetype": "text/x-python",
   "name": "python",
   "nbconvert_exporter": "python",
   "pygments_lexer": "ipython3",
   "version": "3.9.12"
  }
 },
 "nbformat": 4,
 "nbformat_minor": 5
}
